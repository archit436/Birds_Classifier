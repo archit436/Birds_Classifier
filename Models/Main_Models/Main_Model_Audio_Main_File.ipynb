{
 "cells": [
  {
   "cell_type": "markdown",
   "metadata": {
    "colab_type": "text",
    "id": "view-in-github"
   },
   "source": [
    "<a href=\"https://colab.research.google.com/github/archit436/Birds_Classifier/blob/main/Models/Main_Models/Main_Model_Audio_Main_File.ipynb\" target=\"_parent\"><img src=\"https://colab.research.google.com/assets/colab-badge.svg\" alt=\"Open In Colab\"/></a>\n"
   ]
  },
  {
   "cell_type": "markdown",
   "metadata": {
    "id": "R2Z5OlZ26H5S"
   },
   "source": [
    "0. Setup\n"
   ]
  },
  {
   "cell_type": "code",
   "execution_count": 18,
   "metadata": {
    "id": "2v-te8X34pLq"
   },
   "outputs": [],
   "source": [
    "# Start by importing the relevant libraries.\n",
    "# Copied from Archit's Lab 3 Submission and then some more.\n",
    "import os\n",
    "import glob\n",
    "import pandas as pd\n",
    "import numpy as np\n",
    "import seaborn as sns\n",
    "import pickle\n",
    "import time\n",
    "import torch\n",
    "import torch.nn as nn\n",
    "import torch.nn.functional as F\n",
    "import torch.optim as optim\n",
    "import torchvision\n",
    "from torch.utils.data.sampler import SubsetRandomSampler\n",
    "from torch.utils.data import TensorDataset, DataLoader\n",
    "import torchvision.transforms as transforms\n",
    "from sklearn.model_selection import StratifiedShuffleSplit\n",
    "import matplotlib.pyplot as plt\n",
    "from sklearn.metrics import accuracy_score, classification_report, confusion_matrix\n",
    "from sklearn.preprocessing import LabelEncoder"
   ]
  },
  {
   "cell_type": "markdown",
   "metadata": {
    "id": "qPpgSPG16MVP"
   },
   "source": [
    "1. Data Preprocessing - HOG Features of Spectrograns\n"
   ]
  },
  {
   "cell_type": "code",
   "execution_count": null,
   "metadata": {
    "colab": {
     "base_uri": "https://localhost:8080/",
     "height": 221
    },
    "id": "Ce4imqv16FaI",
    "outputId": "796a298d-7eb5-4fcf-e73b-62fdf1d14186"
   },
   "outputs": [
    {
     "name": "stdout",
     "output_type": "stream",
     "text": [
      "Mounted at /content/drive\n"
     ]
    },
    {
     "data": {
      "application/vnd.google.colaboratory.intrinsic+json": {
       "summary": "{\n  \"name\": \"birds_df\",\n  \"rows\": 107,\n  \"fields\": [\n    {\n      \"column\": \"Class ID\",\n      \"properties\": {\n        \"dtype\": \"number\",\n        \"std\": 186,\n        \"min\": 315,\n        \"max\": 987,\n        \"num_unique_values\": 107,\n        \"samples\": [\n          884,\n          458,\n          352\n        ],\n        \"semantic_type\": \"\",\n        \"description\": \"\"\n      }\n    },\n    {\n      \"column\": \"Images Count\",\n      \"properties\": {\n        \"dtype\": \"number\",\n        \"std\": 5,\n        \"min\": 100,\n        \"max\": 120,\n        \"num_unique_values\": 21,\n        \"samples\": [\n          116,\n          115,\n          104\n        ],\n        \"semantic_type\": \"\",\n        \"description\": \"\"\n      }\n    },\n    {\n      \"column\": \"XC Recordings Count\",\n      \"properties\": {\n        \"dtype\": \"number\",\n        \"std\": 152,\n        \"min\": 75,\n        \"max\": 850,\n        \"num_unique_values\": 87,\n        \"samples\": [\n          149,\n          167,\n          338\n        ],\n        \"semantic_type\": \"\",\n        \"description\": \"\"\n      }\n    },\n    {\n      \"column\": \"Species Name\",\n      \"properties\": {\n        \"dtype\": \"string\",\n        \"num_unique_values\": 107,\n        \"samples\": [\n          \"Canada Warbler\",\n          \"Mute Swan\",\n          \"Black-crowned Night-Heron (Adult)\"\n        ],\n        \"semantic_type\": \"\",\n        \"description\": \"\"\n      }\n    },\n    {\n      \"column\": \"XC Species Name\",\n      \"properties\": {\n        \"dtype\": \"string\",\n        \"num_unique_values\": 107,\n        \"samples\": [\n          \"Canada Warbler\",\n          \"Mute Swan\",\n          \"Black-crowned Night Heron\"\n        ],\n        \"semantic_type\": \"\",\n        \"description\": \"\"\n      }\n    }\n  ]\n}",
       "type": "dataframe",
       "variable_name": "birds_df"
      },
      "text/html": [
       "\n",
       "  <div id=\"df-e3315a37-894f-4b68-aea8-9e261dae39f6\" class=\"colab-df-container\">\n",
       "    <div>\n",
       "<style scoped>\n",
       "    .dataframe tbody tr th:only-of-type {\n",
       "        vertical-align: middle;\n",
       "    }\n",
       "\n",
       "    .dataframe tbody tr th {\n",
       "        vertical-align: top;\n",
       "    }\n",
       "\n",
       "    .dataframe thead th {\n",
       "        text-align: right;\n",
       "    }\n",
       "</style>\n",
       "<table border=\"1\" class=\"dataframe\">\n",
       "  <thead>\n",
       "    <tr style=\"text-align: right;\">\n",
       "      <th></th>\n",
       "      <th>Class ID</th>\n",
       "      <th>Images Count</th>\n",
       "      <th>XC Recordings Count</th>\n",
       "      <th>Species Name</th>\n",
       "      <th>XC Species Name</th>\n",
       "    </tr>\n",
       "  </thead>\n",
       "  <tbody>\n",
       "    <tr>\n",
       "      <th>0</th>\n",
       "      <td>315</td>\n",
       "      <td>116</td>\n",
       "      <td>167</td>\n",
       "      <td>Gadwall (Breeding male)</td>\n",
       "      <td>Gadwall</td>\n",
       "    </tr>\n",
       "    <tr>\n",
       "      <th>1</th>\n",
       "      <td>317</td>\n",
       "      <td>120</td>\n",
       "      <td>240</td>\n",
       "      <td>Mallard (Breeding male)</td>\n",
       "      <td>Mallard</td>\n",
       "    </tr>\n",
       "    <tr>\n",
       "      <th>2</th>\n",
       "      <td>333</td>\n",
       "      <td>105</td>\n",
       "      <td>114</td>\n",
       "      <td>Common Goldeneye (Breeding male)</td>\n",
       "      <td>Common Goldeneye</td>\n",
       "    </tr>\n",
       "    <tr>\n",
       "      <th>3</th>\n",
       "      <td>338</td>\n",
       "      <td>116</td>\n",
       "      <td>89</td>\n",
       "      <td>California Quail (Male)</td>\n",
       "      <td>California Quail</td>\n",
       "    </tr>\n",
       "    <tr>\n",
       "      <th>4</th>\n",
       "      <td>352</td>\n",
       "      <td>120</td>\n",
       "      <td>285</td>\n",
       "      <td>Black-crowned Night-Heron (Adult)</td>\n",
       "      <td>Black-crowned Night Heron</td>\n",
       "    </tr>\n",
       "  </tbody>\n",
       "</table>\n",
       "</div>\n",
       "    <div class=\"colab-df-buttons\">\n",
       "\n",
       "  <div class=\"colab-df-container\">\n",
       "    <button class=\"colab-df-convert\" onclick=\"convertToInteractive('df-e3315a37-894f-4b68-aea8-9e261dae39f6')\"\n",
       "            title=\"Convert this dataframe to an interactive table.\"\n",
       "            style=\"display:none;\">\n",
       "\n",
       "  <svg xmlns=\"http://www.w3.org/2000/svg\" height=\"24px\" viewBox=\"0 -960 960 960\">\n",
       "    <path d=\"M120-120v-720h720v720H120Zm60-500h600v-160H180v160Zm220 220h160v-160H400v160Zm0 220h160v-160H400v160ZM180-400h160v-160H180v160Zm440 0h160v-160H620v160ZM180-180h160v-160H180v160Zm440 0h160v-160H620v160Z\"/>\n",
       "  </svg>\n",
       "    </button>\n",
       "\n",
       "  <style>\n",
       "    .colab-df-container {\n",
       "      display:flex;\n",
       "      gap: 12px;\n",
       "    }\n",
       "\n",
       "    .colab-df-convert {\n",
       "      background-color: #E8F0FE;\n",
       "      border: none;\n",
       "      border-radius: 50%;\n",
       "      cursor: pointer;\n",
       "      display: none;\n",
       "      fill: #1967D2;\n",
       "      height: 32px;\n",
       "      padding: 0 0 0 0;\n",
       "      width: 32px;\n",
       "    }\n",
       "\n",
       "    .colab-df-convert:hover {\n",
       "      background-color: #E2EBFA;\n",
       "      box-shadow: 0px 1px 2px rgba(60, 64, 67, 0.3), 0px 1px 3px 1px rgba(60, 64, 67, 0.15);\n",
       "      fill: #174EA6;\n",
       "    }\n",
       "\n",
       "    .colab-df-buttons div {\n",
       "      margin-bottom: 4px;\n",
       "    }\n",
       "\n",
       "    [theme=dark] .colab-df-convert {\n",
       "      background-color: #3B4455;\n",
       "      fill: #D2E3FC;\n",
       "    }\n",
       "\n",
       "    [theme=dark] .colab-df-convert:hover {\n",
       "      background-color: #434B5C;\n",
       "      box-shadow: 0px 1px 3px 1px rgba(0, 0, 0, 0.15);\n",
       "      filter: drop-shadow(0px 1px 2px rgba(0, 0, 0, 0.3));\n",
       "      fill: #FFFFFF;\n",
       "    }\n",
       "  </style>\n",
       "\n",
       "    <script>\n",
       "      const buttonEl =\n",
       "        document.querySelector('#df-e3315a37-894f-4b68-aea8-9e261dae39f6 button.colab-df-convert');\n",
       "      buttonEl.style.display =\n",
       "        google.colab.kernel.accessAllowed ? 'block' : 'none';\n",
       "\n",
       "      async function convertToInteractive(key) {\n",
       "        const element = document.querySelector('#df-e3315a37-894f-4b68-aea8-9e261dae39f6');\n",
       "        const dataTable =\n",
       "          await google.colab.kernel.invokeFunction('convertToInteractive',\n",
       "                                                    [key], {});\n",
       "        if (!dataTable) return;\n",
       "\n",
       "        const docLinkHtml = 'Like what you see? Visit the ' +\n",
       "          '<a target=\"_blank\" href=https://colab.research.google.com/notebooks/data_table.ipynb>data table notebook</a>'\n",
       "          + ' to learn more about interactive tables.';\n",
       "        element.innerHTML = '';\n",
       "        dataTable['output_type'] = 'display_data';\n",
       "        await google.colab.output.renderOutput(dataTable, element);\n",
       "        const docLink = document.createElement('div');\n",
       "        docLink.innerHTML = docLinkHtml;\n",
       "        element.appendChild(docLink);\n",
       "      }\n",
       "    </script>\n",
       "  </div>\n",
       "\n",
       "\n",
       "<div id=\"df-6b2925e7-b9c2-4bb5-b62a-92df10c0337b\">\n",
       "  <button class=\"colab-df-quickchart\" onclick=\"quickchart('df-6b2925e7-b9c2-4bb5-b62a-92df10c0337b')\"\n",
       "            title=\"Suggest charts\"\n",
       "            style=\"display:none;\">\n",
       "\n",
       "<svg xmlns=\"http://www.w3.org/2000/svg\" height=\"24px\"viewBox=\"0 0 24 24\"\n",
       "     width=\"24px\">\n",
       "    <g>\n",
       "        <path d=\"M19 3H5c-1.1 0-2 .9-2 2v14c0 1.1.9 2 2 2h14c1.1 0 2-.9 2-2V5c0-1.1-.9-2-2-2zM9 17H7v-7h2v7zm4 0h-2V7h2v10zm4 0h-2v-4h2v4z\"/>\n",
       "    </g>\n",
       "</svg>\n",
       "  </button>\n",
       "\n",
       "<style>\n",
       "  .colab-df-quickchart {\n",
       "      --bg-color: #E8F0FE;\n",
       "      --fill-color: #1967D2;\n",
       "      --hover-bg-color: #E2EBFA;\n",
       "      --hover-fill-color: #174EA6;\n",
       "      --disabled-fill-color: #AAA;\n",
       "      --disabled-bg-color: #DDD;\n",
       "  }\n",
       "\n",
       "  [theme=dark] .colab-df-quickchart {\n",
       "      --bg-color: #3B4455;\n",
       "      --fill-color: #D2E3FC;\n",
       "      --hover-bg-color: #434B5C;\n",
       "      --hover-fill-color: #FFFFFF;\n",
       "      --disabled-bg-color: #3B4455;\n",
       "      --disabled-fill-color: #666;\n",
       "  }\n",
       "\n",
       "  .colab-df-quickchart {\n",
       "    background-color: var(--bg-color);\n",
       "    border: none;\n",
       "    border-radius: 50%;\n",
       "    cursor: pointer;\n",
       "    display: none;\n",
       "    fill: var(--fill-color);\n",
       "    height: 32px;\n",
       "    padding: 0;\n",
       "    width: 32px;\n",
       "  }\n",
       "\n",
       "  .colab-df-quickchart:hover {\n",
       "    background-color: var(--hover-bg-color);\n",
       "    box-shadow: 0 1px 2px rgba(60, 64, 67, 0.3), 0 1px 3px 1px rgba(60, 64, 67, 0.15);\n",
       "    fill: var(--button-hover-fill-color);\n",
       "  }\n",
       "\n",
       "  .colab-df-quickchart-complete:disabled,\n",
       "  .colab-df-quickchart-complete:disabled:hover {\n",
       "    background-color: var(--disabled-bg-color);\n",
       "    fill: var(--disabled-fill-color);\n",
       "    box-shadow: none;\n",
       "  }\n",
       "\n",
       "  .colab-df-spinner {\n",
       "    border: 2px solid var(--fill-color);\n",
       "    border-color: transparent;\n",
       "    border-bottom-color: var(--fill-color);\n",
       "    animation:\n",
       "      spin 1s steps(1) infinite;\n",
       "  }\n",
       "\n",
       "  @keyframes spin {\n",
       "    0% {\n",
       "      border-color: transparent;\n",
       "      border-bottom-color: var(--fill-color);\n",
       "      border-left-color: var(--fill-color);\n",
       "    }\n",
       "    20% {\n",
       "      border-color: transparent;\n",
       "      border-left-color: var(--fill-color);\n",
       "      border-top-color: var(--fill-color);\n",
       "    }\n",
       "    30% {\n",
       "      border-color: transparent;\n",
       "      border-left-color: var(--fill-color);\n",
       "      border-top-color: var(--fill-color);\n",
       "      border-right-color: var(--fill-color);\n",
       "    }\n",
       "    40% {\n",
       "      border-color: transparent;\n",
       "      border-right-color: var(--fill-color);\n",
       "      border-top-color: var(--fill-color);\n",
       "    }\n",
       "    60% {\n",
       "      border-color: transparent;\n",
       "      border-right-color: var(--fill-color);\n",
       "    }\n",
       "    80% {\n",
       "      border-color: transparent;\n",
       "      border-right-color: var(--fill-color);\n",
       "      border-bottom-color: var(--fill-color);\n",
       "    }\n",
       "    90% {\n",
       "      border-color: transparent;\n",
       "      border-bottom-color: var(--fill-color);\n",
       "    }\n",
       "  }\n",
       "</style>\n",
       "\n",
       "  <script>\n",
       "    async function quickchart(key) {\n",
       "      const quickchartButtonEl =\n",
       "        document.querySelector('#' + key + ' button');\n",
       "      quickchartButtonEl.disabled = true;  // To prevent multiple clicks.\n",
       "      quickchartButtonEl.classList.add('colab-df-spinner');\n",
       "      try {\n",
       "        const charts = await google.colab.kernel.invokeFunction(\n",
       "            'suggestCharts', [key], {});\n",
       "      } catch (error) {\n",
       "        console.error('Error during call to suggestCharts:', error);\n",
       "      }\n",
       "      quickchartButtonEl.classList.remove('colab-df-spinner');\n",
       "      quickchartButtonEl.classList.add('colab-df-quickchart-complete');\n",
       "    }\n",
       "    (() => {\n",
       "      let quickchartButtonEl =\n",
       "        document.querySelector('#df-6b2925e7-b9c2-4bb5-b62a-92df10c0337b button');\n",
       "      quickchartButtonEl.style.display =\n",
       "        google.colab.kernel.accessAllowed ? 'block' : 'none';\n",
       "    })();\n",
       "  </script>\n",
       "</div>\n",
       "\n",
       "    </div>\n",
       "  </div>\n"
      ],
      "text/plain": [
       "   Class ID  Images Count  XC Recordings Count  \\\n",
       "0       315           116                  167   \n",
       "1       317           120                  240   \n",
       "2       333           105                  114   \n",
       "3       338           116                   89   \n",
       "4       352           120                  285   \n",
       "\n",
       "                        Species Name            XC Species Name  \n",
       "0            Gadwall (Breeding male)                    Gadwall  \n",
       "1            Mallard (Breeding male)                    Mallard  \n",
       "2   Common Goldeneye (Breeding male)           Common Goldeneye  \n",
       "3            California Quail (Male)           California Quail  \n",
       "4  Black-crowned Night-Heron (Adult)  Black-crowned Night Heron  "
      ]
     },
     "execution_count": 3,
     "metadata": {},
     "output_type": "execute_result"
    }
   ],
   "source": [
    "# Mount the drive.\n",
    "from google.colab import drive\n",
    "drive.mount('/content/drive')\n",
    "# Import the csv file with the data details\n",
    "csv_path = \"/content/drive/MyDrive/APS360_Team_15/Data_Processing/chosen_classes_data_stats.csv\"\n",
    "birds_df = pd.read_csv(csv_path)\n",
    "birds_df.head()"
   ]
  },
  {
   "cell_type": "code",
   "execution_count": null,
   "metadata": {
    "colab": {
     "base_uri": "https://localhost:8080/"
    },
    "id": "pZw8YO3z94ip",
    "outputId": "5e14e882-b055-496d-b0c9-d92a113f25e7"
   },
   "outputs": [
    {
     "name": "stderr",
     "output_type": "stream",
     "text": [
      "<ipython-input-11-ad1f6ea53532>:20: FutureWarning: You are using `torch.load` with `weights_only=False` (the current default value), which uses the default pickle module implicitly. It is possible to construct malicious pickle data which will execute arbitrary code during unpickling (See https://github.com/pytorch/pytorch/blob/main/SECURITY.md#untrusted-models for more details). In a future release, the default value for `weights_only` will be flipped to `True`. This limits the functions that could be executed during unpickling. Arbitrary objects will no longer be allowed to be loaded via this mode unless they are explicitly allowlisted by the user via `torch.serialization.add_safe_globals`. We recommend you start setting `weights_only=True` for any use case where you don't have full control of the loaded file. Please open an issue on GitHub for any issues related to this experimental feature.\n",
      "  features_tensor = torch.load(pt_file)\n"
     ]
    }
   ],
   "source": [
    "# Now we move on to loading the category.pt files defined for each class.\n",
    "# Define the directory of the audio data.\n",
    "xc_data_dir = '/content/drive/MyDrive/APS360_Team_15/Data/Xeno_Canto'\n",
    "\n",
    "# Define lists to store the tensors extracted from the .pt files.\n",
    "all_features = []\n",
    "all_labels = []\n",
    "\n",
    "# Iterate through all the birds, skipping the ones without a .pt file.\n",
    "for it_bird in range(birds_df.shape[0]):\n",
    "  # Find the bird class ID and accordingly find the corresponding .pt file.\n",
    "  bird_class_id = birds_df.loc[it_bird, 'Class ID']\n",
    "  pt_file = glob.glob(os.path.join(xc_data_dir, str(bird_class_id), '*.pt'))\n",
    "  # Check if .pt file exists for this bird.\n",
    "  if(pt_file == []):\n",
    "    continue\n",
    "  # Iterate through all the pt files for this bird.\n",
    "  for pt_file in pt_file:\n",
    "    # Extract the data into a tensor.\n",
    "    features_tensor = torch.load(pt_file)\n",
    "    # Populate the lists with the features and labels tensors.\n",
    "    # For labels, we create a 1D tensor with num_samples of class id values.\n",
    "    num_samples = features_tensor['features'].shape[0]\n",
    "    all_features.append(features_tensor['features'])\n",
    "    all_labels.append(torch.full((num_samples,), bird_class_id, dtype=torch.long))"
   ]
  },
  {
   "cell_type": "code",
   "execution_count": null,
   "metadata": {
    "colab": {
     "base_uri": "https://localhost:8080/"
    },
    "id": "xsPfYRYO8vsk",
    "outputId": "f7c54e77-9ed0-4182-87ae-ec5d58655e4a"
   },
   "outputs": [
    {
     "name": "stdout",
     "output_type": "stream",
     "text": [
      "Number of classes for which data has been extracted: 101\n"
     ]
    }
   ],
   "source": [
    "# Print out number of classes for which data has been extracted.\n",
    "class_ids = [tensor[0].item() for tensor in all_labels]\n",
    "labels_set = sorted(set(class_ids))\n",
    "num_classes = len(labels_set)\n",
    "print(f\"Number of classes for which data has been extracted: {num_classes}\")"
   ]
  },
  {
   "cell_type": "code",
   "execution_count": null,
   "metadata": {
    "colab": {
     "base_uri": "https://localhost:8080/"
    },
    "id": "7GSA0yBWXm9U",
    "outputId": "aa9b3db6-0545-4f65-f4bf-e265a1c87208"
   },
   "outputs": [
    {
     "name": "stdout",
     "output_type": "stream",
     "text": [
      "Shape of features tensor: torch.Size([17687, 1764])\n",
      "Shape of labels tensor: torch.Size([17687])\n"
     ]
    }
   ],
   "source": [
    "# Concatenate all the tensors into one tensor.\n",
    "features_tensor = torch.cat(all_features, dim=0)\n",
    "labels_tensor = torch.cat(all_labels, dim=0)\n",
    "\n",
    "# Encode the labels to make them suitable for training the model.\n",
    "label_encoder = LabelEncoder()\n",
    "encoded_labels = label_encoder.fit_transform(labels_tensor)\n",
    "# Create mapping dictionaries for the encoding.\n",
    "id_to_index = dict(zip(labels_tensor, encoded_labels))\n",
    "index_to_id = dict(zip(encoded_labels, labels_tensor))\n",
    "# Pickle dump these mappings for use later.\n",
    "with open('label_mappings.pkl', 'wb') as f:\n",
    "    pickle.dump({'id_to_index': id_to_index, 'index_to_id': index_to_id}, f)\n",
    "\n",
    "# Replace the labels tensor.\n",
    "labels_tensor = torch.from_numpy(encoded_labels)\n",
    "\n",
    "# Print out stats.\n",
    "print(f\"Shape of features tensor: {features_tensor.shape}\")\n",
    "print(f\"Shape of labels tensor: {labels_tensor.shape}\")\n",
    "\n",
    "# Convert the tensors into numpy for sci-kit learn functions.\n",
    "features_np = features_tensor.numpy()\n",
    "labels_np = labels_tensor.numpy()\n",
    "\n",
    "# First split: (training + validation) vs test - 80:20\n",
    "# We use a stratified split for uniform distributions of the classes.\n",
    "sss1 = StratifiedShuffleSplit(n_splits=1, test_size=0.2, random_state=0)\n",
    "temp_idx, test_idx = next(sss1.split(features_np, labels_np))\n",
    "\n",
    "# Get the temporary set.\n",
    "temp_features_np = features_np[temp_idx]\n",
    "temp_labels_np = labels_np[temp_idx]\n",
    "\n",
    "# Second split: training vs validation - 80:20\n",
    "sss2 = StratifiedShuffleSplit(n_splits=1, test_size=0.2, random_state=0)\n",
    "train_idx, val_idx = next(sss2.split(temp_features_np, temp_labels_np))"
   ]
  },
  {
   "cell_type": "code",
   "execution_count": null,
   "metadata": {
    "colab": {
     "base_uri": "https://localhost:8080/"
    },
    "id": "lk05SzoHEVP5",
    "outputId": "ab07e462-953c-45a5-c4df-b646d81e6fea"
   },
   "outputs": [
    {
     "name": "stdout",
     "output_type": "stream",
     "text": [
      "Shape of training features tensor: (11319, 1764)\n",
      "Shape of training labels tensor: (11319,)\n",
      "Shape of validation features tensor: (2830, 1764)\n",
      "Shape of validation labels tensor: (2830,)\n",
      "Shape of test features tensor: (3538, 1764)\n",
      "Shape of test labels tensor: (3538,)\n"
     ]
    }
   ],
   "source": [
    "# Use the split indices to extract the data.\n",
    "test_features_np = features_np[test_idx]\n",
    "test_labels_np = labels_np[test_idx]\n",
    "train_features_np = temp_features_np[train_idx]\n",
    "train_labels_np = temp_labels_np[train_idx]\n",
    "val_features_np = temp_features_np[val_idx]\n",
    "val_labels_np = temp_labels_np[val_idx]\n",
    "\n",
    "print(f\"Shape of training features tensor: {train_features_np.shape}\")\n",
    "print(f\"Shape of training labels tensor: {train_labels_np.shape}\")\n",
    "print(f\"Shape of validation features tensor: {val_features_np.shape}\")\n",
    "print(f\"Shape of validation labels tensor: {val_labels_np.shape}\")\n",
    "print(f\"Shape of test features tensor: {test_features_np.shape}\")\n",
    "print(f\"Shape of test labels tensor: {test_labels_np.shape}\")"
   ]
  },
  {
   "cell_type": "code",
   "execution_count": null,
   "metadata": {
    "colab": {
     "base_uri": "https://localhost:8080/"
    },
    "id": "vW4DLdr-FDxJ",
    "outputId": "196d5dd2-224f-420b-d67f-d1230dc7231e"
   },
   "outputs": [
    {
     "name": "stdout",
     "output_type": "stream",
     "text": [
      "Shape of training features tensor: torch.Size([11319, 1764])\n",
      "Shape of training labels tensor: torch.Size([11319])\n",
      "Shape of validation features tensor: torch.Size([2830, 1764])\n",
      "Shape of validation labels tensor: torch.Size([2830])\n",
      "Shape of test features tensor: torch.Size([3538, 1764])\n",
      "Shape of test labels tensor: torch.Size([3538])\n"
     ]
    }
   ],
   "source": [
    "# Convert the numpy arrays back to tensors.\n",
    "train_features_tensor = torch.from_numpy(train_features_np)\n",
    "train_labels_tensor = torch.from_numpy(train_labels_np)\n",
    "val_features_tensor = torch.from_numpy(val_features_np)\n",
    "val_labels_tensor = torch.from_numpy(val_labels_np)\n",
    "test_features_tensor = torch.from_numpy(test_features_np)\n",
    "test_labels_tensor = torch.from_numpy(test_labels_np)\n",
    "\n",
    "print(f\"Shape of training features tensor: {train_features_tensor.shape}\")\n",
    "print(f\"Shape of training labels tensor: {train_labels_tensor.shape}\")\n",
    "print(f\"Shape of validation features tensor: {val_features_tensor.shape}\")\n",
    "print(f\"Shape of validation labels tensor: {val_labels_tensor.shape}\")\n",
    "print(f\"Shape of test features tensor: {test_features_tensor.shape}\")\n",
    "print(f\"Shape of test labels tensor: {test_labels_tensor.shape}\")"
   ]
  },
  {
   "cell_type": "code",
   "execution_count": null,
   "metadata": {
    "id": "4OK9D2yYFNuX"
   },
   "outputs": [],
   "source": [
    "# Create the datasets using the data tensors.\n",
    "# This combines the labels and feature tensors.\n",
    "# These can be used to create the dataloaders later.\n",
    "train_dataset = TensorDataset(train_features_tensor, train_labels_tensor)\n",
    "val_dataset = TensorDataset(val_features_tensor, val_labels_tensor)\n",
    "test_dataset = TensorDataset(test_features_tensor, test_labels_tensor)"
   ]
  },
  {
   "cell_type": "markdown",
   "metadata": {
    "id": "NoncLHfGIId8"
   },
   "source": [
    "2. CNN Model Implementation - HOG Features of Spectograms\n"
   ]
  },
  {
   "cell_type": "code",
   "execution_count": null,
   "metadata": {
    "id": "xRkgbvJlIRjd"
   },
   "outputs": [],
   "source": [
    "# Define the CNN Model.\n",
    "class HOGFeatureCNN(nn.Module):\n",
    "    def __init__(self, num_classes=num_classes):\n",
    "        super(HOGFeatureCNN, self).__init__()\n",
    "\n",
    "        self.name = \"HOGFeatureCNN\"\n",
    "\n",
    "        # Reshape HOG features to 2D.\n",
    "        # The CNN expects input as [batch_size, channels, height, width]\n",
    "        self.reshape_size = (42, 42)  # 42*42 = 1764\n",
    "\n",
    "        # Convolutional layers\n",
    "        self.conv1 = nn.Conv2d(1, 32, kernel_size=3, padding=1) # 1x42x42 -> 32x42x42\n",
    "        self.bn1 = nn.BatchNorm2d(32)\n",
    "        self.conv2 = nn.Conv2d(32, 64, kernel_size=3, padding=1) # 32x21x21 -> 64x21x21\n",
    "        self.bn2 = nn.BatchNorm2d(64)\n",
    "        self.conv3 = nn.Conv2d(64, 128, kernel_size=3, padding=1) # 64x10x10 -> 128x10x10\n",
    "        self.bn3 = nn.BatchNorm2d(128)\n",
    "\n",
    "        # Pooling layer\n",
    "        self.pool = nn.MaxPool2d(2, 2)\n",
    "\n",
    "        # Calculate size after convolutions and pooling\n",
    "        # After 3 pooling operations of 2x2, dimensions are reduced by factor of 8\n",
    "        fc_input_size = 128 * (self.reshape_size[0] // 8) * (self.reshape_size[1] // 8)\n",
    "\n",
    "        # Fully connected layers\n",
    "        self.fc1 = nn.Linear(fc_input_size, 512)\n",
    "        self.dropout = nn.Dropout(0.5) # for regularisation.\n",
    "        self.fc2 = nn.Linear(512, num_classes)\n",
    "\n",
    "    def forward(self, x):\n",
    "        # Reshape HOG features to 2D + add channel dimension\n",
    "        x = x.view(-1, 1, self.reshape_size[0], self.reshape_size[1])\n",
    "\n",
    "        # Convolutional blocks\n",
    "        x = self.pool(F.relu(self.bn1(self.conv1(x))))\n",
    "        x = self.pool(F.relu(self.bn2(self.conv2(x))))\n",
    "        x = self.pool(F.relu(self.bn3(self.conv3(x))))\n",
    "\n",
    "        # Flatten for fully connected layers\n",
    "        x = x.view(x.size(0), -1)\n",
    "\n",
    "        # Fully connected layers\n",
    "        x = F.relu(self.fc1(x))\n",
    "        x = self.dropout(x)\n",
    "        x = self.fc2(x)\n",
    "\n",
    "        return x\n"
   ]
  },
  {
   "cell_type": "code",
   "execution_count": null,
   "metadata": {
    "id": "icXpasdQR2Tw"
   },
   "outputs": [],
   "source": [
    "use_cuda = True"
   ]
  },
  {
   "cell_type": "code",
   "execution_count": null,
   "metadata": {
    "id": "XdD7AzssS_Je"
   },
   "outputs": [],
   "source": [
    "# Helper function to create a name for each model on the basis of its hyperparameters.\n",
    "def get_model_name(name, batch_size, learning_rate, epoch):\n",
    "    \"\"\" Generate a name for the model consisting of all the hyperparameter values\n",
    "\n",
    "    Args:\n",
    "        config: Configuration object containing the hyperparameters\n",
    "    Returns:\n",
    "        path: A string with the hyperparameter name and value concatenated\n",
    "    \"\"\"\n",
    "    path = \"model_{0}_bs{1}_lr{2}_epoch{3}\".format(name,\n",
    "                                                   batch_size,\n",
    "                                                   learning_rate,\n",
    "                                                   epoch)\n",
    "    return path"
   ]
  },
  {
   "cell_type": "code",
   "execution_count": 61,
   "metadata": {
    "id": "3W3gfjyHOY-y"
   },
   "outputs": [],
   "source": [
    "# Function to train the model. Largely based on Archit's Lab 3 Submission.\n",
    "def train_net(model, batch_size, train_loader, val_loader, learning_rate=0.001, num_epochs=20):\n",
    "    # Fixed PyTorch random seed for reproducible results\n",
    "    torch.manual_seed(1000)\n",
    "\n",
    "    # Define loss function and optimizer\n",
    "    criterion = nn.CrossEntropyLoss()\n",
    "    optimizer = optim.Adam(model.parameters(), lr=learning_rate)\n",
    "    # Optional: Add scheduler later - it controls the learning rate.\n",
    "    print(\"Loss Function and Optimizer set up.\")\n",
    "\n",
    "    # Arrays to store accuracy metrics\n",
    "    train_acc = np.zeros(num_epochs)\n",
    "    val_acc = np.zeros(num_epochs)\n",
    "\n",
    "    # Training loop\n",
    "    start_time = time.time()\n",
    "    print(\"Training Started.\")\n",
    "\n",
    "    # Iterate for number of epochs.\n",
    "    for epoch in range(num_epochs):\n",
    "        # Training phase\n",
    "        model.train()\n",
    "\n",
    "        # Process training batches\n",
    "        for _, data in enumerate(train_loader, 0):\n",
    "            recordings, labels = data\n",
    "\n",
    "            # Move data to GPU if available\n",
    "            if use_cuda and torch.cuda.is_available():\n",
    "                recordings = recordings.cuda()\n",
    "                labels = labels.cuda()\n",
    "\n",
    "            # Forward and backward passes\n",
    "            optimizer.zero_grad()\n",
    "            outputs = model(recordings)\n",
    "            loss = criterion(outputs, labels)\n",
    "            loss.backward()\n",
    "            optimizer.step()\n",
    "\n",
    "        print(\"Finished with adjusting parameters\")\n",
    "\n",
    "        # Evaluation phase\n",
    "        model.eval()\n",
    "        correct_t, total_t = 0, 0\n",
    "        correct_v, total_v = 0, 0\n",
    "\n",
    "        # Calculate training accuracy\n",
    "        with torch.no_grad():\n",
    "            for recordings, labels in train_loader:\n",
    "                if use_cuda and torch.cuda.is_available():\n",
    "                    recordings = recordings.cuda()\n",
    "                    labels = labels.cuda()\n",
    "\n",
    "                output = model(recordings)\n",
    "                pred = output.max(1, keepdim=True)[1]\n",
    "                correct_t += pred.eq(labels.view_as(pred)).sum().item()\n",
    "                total_t += recordings.shape[0]\n",
    "\n",
    "        train_acc[epoch] = correct_t / total_t\n",
    "\n",
    "        # Calculate validation accuracy\n",
    "        with torch.no_grad():\n",
    "            for recordings, labels in val_loader:\n",
    "                if use_cuda and torch.cuda.is_available():\n",
    "                    recordings = recordings.cuda()\n",
    "                    labels = labels.cuda()\n",
    "\n",
    "                output = model(recordings)\n",
    "                pred = output.max(1, keepdim=True)[1]\n",
    "                correct_v += pred.eq(labels.view_as(pred)).sum().item()\n",
    "                total_v += recordings.shape[0]\n",
    "\n",
    "        val_acc[epoch] = correct_v / total_v\n",
    "\n",
    "        # Print epoch results\n",
    "        print(f\"Epoch {epoch + 1}: Train acc: {train_acc[epoch]:.4f}, Validation acc: {val_acc[epoch]:.4f}\")\n",
    "\n",
    "        # Save model checkpoint\n",
    "        model_path = get_model_name(model.name, batch_size, learning_rate, epoch)\n",
    "        torch.save(model.state_dict(), model_path)\n",
    "\n",
    "    print('Finished Training')\n",
    "    elapsed_time = time.time() - start_time\n",
    "\n",
    "    # Save metrics to CSV\n",
    "    np.savetxt(f\"{model_path}_train_acc.csv\", train_acc)\n",
    "    np.savetxt(f\"{model_path}_val_acc.csv\", val_acc)\n",
    "\n",
    "    return train_acc, val_acc"
   ]
  },
  {
   "cell_type": "code",
   "execution_count": null,
   "metadata": {
    "id": "TM1nIiL4Tkmk"
   },
   "outputs": [],
   "source": [
    "# Create the data loaders.\n",
    "batch_size = 256\n",
    "train_loader = DataLoader(train_dataset, batch_size=batch_size, shuffle=True)\n",
    "val_loader = DataLoader(val_dataset, batch_size=batch_size, shuffle=False)\n",
    "test_loader = DataLoader(test_dataset, batch_size=batch_size, shuffle=False)"
   ]
  },
  {
   "cell_type": "code",
   "execution_count": null,
   "metadata": {
    "colab": {
     "background_save": true,
     "base_uri": "https://localhost:8080/"
    },
    "collapsed": true,
    "id": "_K4HPu1oTl1k",
    "outputId": "c6ed5237-6699-4947-d1a3-045d55e0ed2b"
   },
   "outputs": [
    {
     "name": "stdout",
     "output_type": "stream",
     "text": [
      "Loss Function and Optimizer set up.\n",
      "Training Started.\n",
      "Finished with adjusting parameters\n",
      "Epoch 1: Train acc: 0.0390, Validation acc: 0.0392\n",
      "Finished with adjusting parameters\n",
      "Epoch 2: Train acc: 0.0392, Validation acc: 0.0392\n",
      "Finished with adjusting parameters\n",
      "Epoch 3: Train acc: 0.0180, Validation acc: 0.0184\n",
      "Finished with adjusting parameters\n",
      "Epoch 4: Train acc: 0.0454, Validation acc: 0.0477\n",
      "Finished with adjusting parameters\n",
      "Epoch 5: Train acc: 0.0531, Validation acc: 0.0534\n",
      "Finished with adjusting parameters\n",
      "Epoch 6: Train acc: 0.0574, Validation acc: 0.0548\n",
      "Finished with adjusting parameters\n",
      "Epoch 7: Train acc: 0.0590, Validation acc: 0.0601\n",
      "Finished with adjusting parameters\n",
      "Epoch 8: Train acc: 0.0612, Validation acc: 0.0597\n",
      "Finished with adjusting parameters\n",
      "Epoch 9: Train acc: 0.0615, Validation acc: 0.0611\n",
      "Finished with adjusting parameters\n",
      "Epoch 10: Train acc: 0.0610, Validation acc: 0.0601\n",
      "Finished with adjusting parameters\n",
      "Epoch 11: Train acc: 0.0633, Validation acc: 0.0629\n",
      "Finished with adjusting parameters\n",
      "Epoch 12: Train acc: 0.0636, Validation acc: 0.0647\n",
      "Finished with adjusting parameters\n",
      "Epoch 13: Train acc: 0.0648, Validation acc: 0.0643\n",
      "Finished with adjusting parameters\n",
      "Epoch 14: Train acc: 0.0642, Validation acc: 0.0633\n",
      "Finished with adjusting parameters\n",
      "Epoch 15: Train acc: 0.0656, Validation acc: 0.0675\n",
      "Finished with adjusting parameters\n",
      "Epoch 16: Train acc: 0.0648, Validation acc: 0.0675\n",
      "Finished with adjusting parameters\n",
      "Epoch 17: Train acc: 0.0701, Validation acc: 0.0724\n",
      "Finished with adjusting parameters\n",
      "Epoch 18: Train acc: 0.0779, Validation acc: 0.0788\n",
      "Finished with adjusting parameters\n",
      "Epoch 19: Train acc: 0.0638, Validation acc: 0.0629\n",
      "Finished with adjusting parameters\n",
      "Epoch 20: Train acc: 0.0759, Validation acc: 0.0746\n",
      "Finished with adjusting parameters\n",
      "Epoch 21: Train acc: 0.0695, Validation acc: 0.0710\n",
      "Finished with adjusting parameters\n",
      "Epoch 22: Train acc: 0.0681, Validation acc: 0.0678\n",
      "Finished with adjusting parameters\n",
      "Epoch 23: Train acc: 0.0765, Validation acc: 0.0802\n",
      "Finished with adjusting parameters\n",
      "Epoch 24: Train acc: 0.0761, Validation acc: 0.0792\n",
      "Finished with adjusting parameters\n",
      "Epoch 25: Train acc: 0.0765, Validation acc: 0.0781\n",
      "Finished with adjusting parameters\n",
      "Epoch 26: Train acc: 0.0796, Validation acc: 0.0784\n",
      "Finished with adjusting parameters\n",
      "Epoch 27: Train acc: 0.0769, Validation acc: 0.0770\n",
      "Finished with adjusting parameters\n",
      "Epoch 28: Train acc: 0.0794, Validation acc: 0.0792\n",
      "Finished with adjusting parameters\n",
      "Epoch 29: Train acc: 0.0709, Validation acc: 0.0689\n",
      "Finished with adjusting parameters\n",
      "Epoch 30: Train acc: 0.0785, Validation acc: 0.0784\n",
      "Finished Training\n"
     ]
    },
    {
     "data": {
      "image/png": "[encoded data removed]",
      "text/plain": [
       "<Figure size 640x480 with 1 Axes>"
      ]
     },
     "metadata": {},
     "output_type": "display_data"
    }
   ],
   "source": [
    "# Batch Size = 256, Learning Rate = 0.005, num_epochs = 30\n",
    "# Create an instance of the model.\n",
    "model = HOGFeatureCNN()\n",
    "\n",
    "if use_cuda and torch.cuda.is_available():\n",
    "    \"Using Cuda\"\n",
    "    model.cuda()\n",
    "\n",
    "# Train the model\n",
    "train_acc, val_acc= train_net(model, batch_size, train_loader, val_loader,\n",
    "                                   learning_rate = 0.005, num_epochs = 30)\n",
    "n = len(train_acc)\n",
    "plt.title(\"Training Curve\")\n",
    "plt.plot(range(1,n+1), train_acc, label=\"Train\")\n",
    "plt.plot(range(1,n+1), val_acc, label=\"Validation\")\n",
    "plt.xlabel(\"Iterations\")\n",
    "plt.ylabel(\"Accuracy\")\n",
    "plt.legend(loc='best')\n",
    "plt.show()"
   ]
  },
  {
   "cell_type": "markdown",
   "metadata": {
    "id": "OIMLNWvRMbAB"
   },
   "source": [
    "3. Data Preprocessing - Color Spectograms\n"
   ]
  },
  {
   "cell_type": "code",
   "execution_count": null,
   "metadata": {
    "colab": {
     "base_uri": "https://localhost:8080/"
    },
    "id": "t17VF9hnMfu5",
    "outputId": "36bf93ce-b266-42fc-ddc6-b781e95f43c8"
   },
   "outputs": [
    {
     "name": "stdout",
     "output_type": "stream",
     "text": [
      "Mounted at /content/drive\n"
     ]
    }
   ],
   "source": [
    "\"\"\" EXECUTE FOR GOOGLE COLAB ONLY \"\"\"\n",
    "# Mount the drive.\n",
    "from google.colab import drive\n",
    "drive.mount('/content/drive')"
   ]
  },
  {
   "cell_type": "code",
   "execution_count": null,
   "metadata": {
    "id": "uOpfKs6JNYa5"
   },
   "outputs": [],
   "source": [
    "\"\"\" EXECUTE FOR GOOGLE COLAB ONLY \"\"\"\n",
    "# Now we move on to loading the .pt files defined for each class.\n",
    "# Define the directory of spectograms.\n",
    "spec_dir = '/content/drive/MyDrive/APS360_Team_15/Data/Xeno_Canto_Spectrograms'\n",
    "# Define a list to store the spectograms and associated labels.\n",
    "all_features = []\n",
    "all_labels = []\n",
    "\n",
    "# Iterare through each bird.\n",
    "for file in os.listdir(spec_dir):\n",
    "  # load the pt file.\n",
    "  pt_file = glob.glob(os.path.join(spec_dir, file))\n",
    "  # Error check\n",
    "  if(pt_file == []):\n",
    "    continue\n",
    "  # Extract features and create labels in tensors.\n",
    "  features_tensor = torch.load(pt_file[0])\n",
    "  label_value = int(os.path.splitext(file)[0])\n",
    "  labels_tensor = torch.full((features_tensor.shape[0],), label_value, dtype=torch.long)\n",
    "  # Add these tensors to their respective lists.\n",
    "  all_features.append(features_tensor)\n",
    "  all_labels.append(labels_tensor)"
   ]
  },
  {
   "cell_type": "code",
   "execution_count": 119,
   "metadata": {},
   "outputs": [
    {
     "name": "stderr",
     "output_type": "stream",
     "text": [
      "/var/folders/s8/7wj664s92gx_89p1xhcwbq800000gn/T/ipykernel_2193/679661104.py:21: FutureWarning: You are using `torch.load` with `weights_only=False` (the current default value), which uses the default pickle module implicitly. It is possible to construct malicious pickle data which will execute arbitrary code during unpickling (See https://github.com/pytorch/pytorch/blob/main/SECURITY.md#untrusted-models for more details). In a future release, the default value for `weights_only` will be flipped to `True`. This limits the functions that could be executed during unpickling. Arbitrary objects will no longer be allowed to be loaded via this mode unless they are explicitly allowlisted by the user via `torch.serialization.add_safe_globals`. We recommend you start setting `weights_only=True` for any use case where you don't have full control of the loaded file. Please open an issue on GitHub for any issues related to this experimental feature.\n",
      "  features_tensor = torch.load(pt_file[0])\n"
     ]
    }
   ],
   "source": [
    "\"\"\" EXECUTE FOR LOCAL SETUP ONLY \"\"\"\n",
    "# Now we move on to loading the .pt files defined for each class.\n",
    "# Define the directory of spectograms.\n",
    "spec_dir = '../../Data/Xeno_Canto_Spectrograms'\n",
    "# Define a list to store the spectograms and associated labels.\n",
    "all_features = []\n",
    "all_labels = []\n",
    "\n",
    "# Iterare through each bird.\n",
    "for file in os.listdir(spec_dir):\n",
    "  # Check if the file is a .pt file.\n",
    "  if(file.endswith('.pt') == False):\n",
    "    continue\n",
    "  # load the pt file.\n",
    "  pt_file = glob.glob(os.path.join(spec_dir, file))\n",
    "  # Error check\n",
    "  if(pt_file == []):\n",
    "    continue\n",
    "\n",
    "  # Extract features and create labels in tensors.\n",
    "  features_tensor = torch.load(pt_file[0])\n",
    "  label_value = int(os.path.splitext(file)[0])\n",
    "  labels_tensor = torch.full((features_tensor.shape[0],), label_value, dtype=torch.long)\n",
    "\n",
    "  # # Truncate to first 100 elements to uniformize the dataset.\n",
    "  # if features_tensor.shape[0] > 100:\n",
    "  #   features_tensor = features_tensor[:100]\n",
    "  #   labels_tensor = labels_tensor[:100]\n",
    "    \n",
    "  # Add these tensors to their respective lists.\n",
    "  all_features.append(features_tensor)\n",
    "  all_labels.append(labels_tensor)"
   ]
  },
  {
   "cell_type": "code",
   "execution_count": 120,
   "metadata": {
    "colab": {
     "base_uri": "https://localhost:8080/"
    },
    "id": "Dn4nPgzbc8pM",
    "outputId": "ff242b87-521f-4e18-843a-fe50358ad39b"
   },
   "outputs": [
    {
     "name": "stdout",
     "output_type": "stream",
     "text": [
      "Number of classes for which data has been extracted: 105\n"
     ]
    }
   ],
   "source": [
    "# Print the number of classes for which data has been extracted.\n",
    "num_classes = len(all_labels)\n",
    "print(f\"Number of classes for which data has been extracted: {num_classes}\")"
   ]
  },
  {
   "cell_type": "code",
   "execution_count": 121,
   "metadata": {},
   "outputs": [
    {
     "data": {
      "text/plain": [
       "[315,\n",
       " 317,\n",
       " 333,\n",
       " 338,\n",
       " 352,\n",
       " 366,\n",
       " 375,\n",
       " 382,\n",
       " 400,\n",
       " 450,\n",
       " 458,\n",
       " 470,\n",
       " 481,\n",
       " 484,\n",
       " 491,\n",
       " 501,\n",
       " 510,\n",
       " 512,\n",
       " 513,\n",
       " 527,\n",
       " 536,\n",
       " 539,\n",
       " 543,\n",
       " 553,\n",
       " 559,\n",
       " 560,\n",
       " 669,\n",
       " 746,\n",
       " 749,\n",
       " 753,\n",
       " 756,\n",
       " 760,\n",
       " 764,\n",
       " 766,\n",
       " 769,\n",
       " 774,\n",
       " 775,\n",
       " 776,\n",
       " 777,\n",
       " 783,\n",
       " 786,\n",
       " 790,\n",
       " 793,\n",
       " 794,\n",
       " 802,\n",
       " 803,\n",
       " 810,\n",
       " 811,\n",
       " 813,\n",
       " 819,\n",
       " 822,\n",
       " 824,\n",
       " 827,\n",
       " 830,\n",
       " 831,\n",
       " 832,\n",
       " 834,\n",
       " 835,\n",
       " 836,\n",
       " 840,\n",
       " 847,\n",
       " 848,\n",
       " 851,\n",
       " 852,\n",
       " 853,\n",
       " 856,\n",
       " 860,\n",
       " 862,\n",
       " 864,\n",
       " 867,\n",
       " 868,\n",
       " 871,\n",
       " 873,\n",
       " 875,\n",
       " 877,\n",
       " 884,\n",
       " 885,\n",
       " 886,\n",
       " 888,\n",
       " 889,\n",
       " 897,\n",
       " 898,\n",
       " 900,\n",
       " 902,\n",
       " 903,\n",
       " 904,\n",
       " 908,\n",
       " 910,\n",
       " 912,\n",
       " 914,\n",
       " 922,\n",
       " 923,\n",
       " 926,\n",
       " 937,\n",
       " 944,\n",
       " 946,\n",
       " 947,\n",
       " 949,\n",
       " 950,\n",
       " 957,\n",
       " 958,\n",
       " 964,\n",
       " 965,\n",
       " 979,\n",
       " 987]"
      ]
     },
     "execution_count": 121,
     "metadata": {},
     "output_type": "execute_result"
    }
   ],
   "source": [
    "# Create a list of class IDs.\n",
    "class_ids = [tensor[0].item() for tensor in all_labels]\n",
    "class_ids = sorted(set(class_ids))\n",
    "class_ids"
   ]
  },
  {
   "cell_type": "code",
   "execution_count": 122,
   "metadata": {
    "colab": {
     "base_uri": "https://localhost:8080/"
    },
    "id": "b5DlEHFE6qR9",
    "outputId": "74cb5374-cd0e-4b2b-bfd8-6109e81867e9"
   },
   "outputs": [
    {
     "data": {
      "text/plain": [
       "torch.float32"
      ]
     },
     "execution_count": 122,
     "metadata": {},
     "output_type": "execute_result"
    }
   ],
   "source": [
    "all_features[0].dtype"
   ]
  },
  {
   "cell_type": "code",
   "execution_count": 123,
   "metadata": {
    "colab": {
     "base_uri": "https://localhost:8080/"
    },
    "id": "_wnwiVYzdxp-",
    "outputId": "66ec98e3-e219-4958-b06d-f92fcfd2281f"
   },
   "outputs": [
    {
     "name": "stdout",
     "output_type": "stream",
     "text": [
      "Shape of features tensor: torch.Size([19176, 128, 128, 3])\n",
      "Shape of labels tensor: torch.Size([19176])\n"
     ]
    }
   ],
   "source": [
    "# Concatenate all the tensors into one tensor.\n",
    "features_tensor = torch.cat(all_features, dim=0)\n",
    "labels_tensor = torch.cat(all_labels, dim=0)\n",
    "\n",
    "# Encode the labels to make them suitable for training the model.\n",
    "label_encoder = LabelEncoder()\n",
    "encoded_labels = label_encoder.fit_transform(labels_tensor)\n",
    "# Create mapping dictionaries for the encoding.\n",
    "id_to_index = dict(zip(labels_tensor, encoded_labels))\n",
    "index_to_id = dict(zip(encoded_labels, labels_tensor))\n",
    "# Pickle dump these mappings for use later.\n",
    "with open('label_mappings.pkl', 'wb') as f:\n",
    "    pickle.dump({'id_to_index': id_to_index, 'index_to_id': index_to_id}, f)\n",
    "\n",
    "# Replace the labels tensor.\n",
    "labels_tensor = torch.from_numpy(encoded_labels)\n",
    "\n",
    "# Print out stats.\n",
    "print(f\"Shape of features tensor: {features_tensor.shape}\")\n",
    "print(f\"Shape of labels tensor: {labels_tensor.shape}\")\n",
    "\n",
    "# Convert the tensors into numpy for sci-kit learn functions.\n",
    "features_np = features_tensor.numpy()\n",
    "labels_np = labels_tensor.numpy()\n",
    "\n",
    "# First split: (training + validation) vs test - 80:20\n",
    "# We use a stratified split for uniform distributions of the classes.\n",
    "sss1 = StratifiedShuffleSplit(n_splits=1, test_size=0.2, random_state=0)\n",
    "temp_idx, test_idx = next(sss1.split(features_np, labels_np))\n",
    "\n",
    "# Get the temporary set.\n",
    "temp_features_np = features_np[temp_idx]\n",
    "temp_labels_np = labels_np[temp_idx]\n",
    "\n",
    "# Second split: training vs validation - 80:20\n",
    "sss2 = StratifiedShuffleSplit(n_splits=1, test_size=0.2, random_state=0)\n",
    "train_idx, val_idx = next(sss2.split(temp_features_np, temp_labels_np))"
   ]
  },
  {
   "cell_type": "code",
   "execution_count": 124,
   "metadata": {
    "colab": {
     "base_uri": "https://localhost:8080/"
    },
    "id": "5BReo00xlxLn",
    "outputId": "13c99074-fbc8-4e68-cd98-c51a2a3403a6"
   },
   "outputs": [
    {
     "name": "stdout",
     "output_type": "stream",
     "text": [
      "Shape of training features tensor: (12272, 128, 128, 3)\n",
      "Shape of training labels tensor: (12272,)\n",
      "Shape of validation features tensor: (3068, 128, 128, 3)\n",
      "Shape of validation labels tensor: (3068,)\n",
      "Shape of test features tensor: (3836, 128, 128, 3)\n",
      "Shape of test labels tensor: (3836,)\n"
     ]
    }
   ],
   "source": [
    "# Use the split indices to extract the data.\n",
    "test_features_np = features_np[test_idx]\n",
    "test_labels_np = labels_np[test_idx]\n",
    "train_features_np = temp_features_np[train_idx]\n",
    "train_labels_np = temp_labels_np[train_idx]\n",
    "val_features_np = temp_features_np[val_idx]\n",
    "val_labels_np = temp_labels_np[val_idx]\n",
    "\n",
    "print(f\"Shape of training features tensor: {train_features_np.shape}\")\n",
    "print(f\"Shape of training labels tensor: {train_labels_np.shape}\")\n",
    "print(f\"Shape of validation features tensor: {val_features_np.shape}\")\n",
    "print(f\"Shape of validation labels tensor: {val_labels_np.shape}\")\n",
    "print(f\"Shape of test features tensor: {test_features_np.shape}\")\n",
    "print(f\"Shape of test labels tensor: {test_labels_np.shape}\")"
   ]
  },
  {
   "cell_type": "code",
   "execution_count": 125,
   "metadata": {
    "colab": {
     "base_uri": "https://localhost:8080/"
    },
    "id": "ft9djYEol3Gu",
    "outputId": "bdfa5a04-8377-4a17-8277-d5904b6f472f"
   },
   "outputs": [
    {
     "name": "stdout",
     "output_type": "stream",
     "text": [
      "Shape of training features tensor: torch.Size([12272, 128, 128, 3])\n",
      "Shape of training labels tensor: torch.Size([12272])\n",
      "Shape of validation features tensor: torch.Size([3068, 128, 128, 3])\n",
      "Shape of validation labels tensor: torch.Size([3068])\n",
      "Shape of test features tensor: torch.Size([3836, 128, 128, 3])\n",
      "Shape of test labels tensor: torch.Size([3836])\n"
     ]
    }
   ],
   "source": [
    "# Convert the numpy arrays back to tensors.\n",
    "train_features_tensor = torch.from_numpy(train_features_np)\n",
    "train_labels_tensor = torch.from_numpy(train_labels_np)\n",
    "val_features_tensor = torch.from_numpy(val_features_np)\n",
    "val_labels_tensor = torch.from_numpy(val_labels_np)\n",
    "test_features_tensor = torch.from_numpy(test_features_np)\n",
    "test_labels_tensor = torch.from_numpy(test_labels_np)\n",
    "\n",
    "print(f\"Shape of training features tensor: {train_features_tensor.shape}\")\n",
    "print(f\"Shape of training labels tensor: {train_labels_tensor.shape}\")\n",
    "print(f\"Shape of validation features tensor: {val_features_tensor.shape}\")\n",
    "print(f\"Shape of validation labels tensor: {val_labels_tensor.shape}\")\n",
    "print(f\"Shape of test features tensor: {test_features_tensor.shape}\")\n",
    "print(f\"Shape of test labels tensor: {test_labels_tensor.shape}\")"
   ]
  },
  {
   "cell_type": "code",
   "execution_count": 126,
   "metadata": {
    "id": "BqP37PcAmCUS"
   },
   "outputs": [],
   "source": [
    "# Create the datasets using the data tensors.\n",
    "# This combines the labels and feature tensors.\n",
    "# These can be used to create the dataloaders later.\n",
    "train_dataset = TensorDataset(train_features_tensor, train_labels_tensor)\n",
    "val_dataset = TensorDataset(val_features_tensor, val_labels_tensor)\n",
    "test_dataset = TensorDataset(test_features_tensor, test_labels_tensor)"
   ]
  },
  {
   "cell_type": "markdown",
   "metadata": {
    "id": "OOzB6BwamJv7"
   },
   "source": [
    "4. CNN Model Implementation - Color Spectrograms\n"
   ]
  },
  {
   "cell_type": "code",
   "execution_count": 168,
   "metadata": {
    "id": "AukrRRDQmPYd"
   },
   "outputs": [],
   "source": [
    "# Define the CNN Model\n",
    "class SpecCNN(nn.Module):\n",
    "    def __init__(self, num_classes=num_classes):\n",
    "        super(SpecCNN, self).__init__()\n",
    "        self.name = \"SpecCNN4\"\n",
    "\n",
    "        # Input shape is [batch_size, 3, 128, 128] - note the channel dimension is 3, not 1\n",
    "        # Convolutional layers\n",
    "        self.conv1 = nn.Conv2d(3, 32, kernel_size=3, padding=1)  # 3x128x128 -> 32x128x128\n",
    "        self.bn1 = nn.BatchNorm2d(32)\n",
    "        self.conv2 = nn.Conv2d(32, 64, kernel_size=3, padding=1)  # 32x64x64 -> 64x64x64\n",
    "        self.bn2 = nn.BatchNorm2d(64)\n",
    "        self.conv3 = nn.Conv2d(64, 128, kernel_size=3, padding=1)  # 64x32x32 -> 128x32x32\n",
    "        self.bn3 = nn.BatchNorm2d(128)\n",
    "\n",
    "        # Pooling layer\n",
    "        self.pool = nn.MaxPool2d(2, 2)\n",
    "\n",
    "        # Calculate size after convolutions and pooling\n",
    "        # After 3 pooling operations of 2x2, dimensions are reduced by factor of 8\n",
    "        # 128/8 = 16, so final feature map size is 128 x 16 x 16\n",
    "        fc_input_size = 128 * 16 * 16\n",
    "\n",
    "        # Fully connected layers\n",
    "        self.fc1 = nn.Linear(fc_input_size, 512)\n",
    "        self.dropout = nn.Dropout(0.6)  # for regularization\n",
    "        self.fc2 = nn.Linear(512, num_classes)\n",
    "\n",
    "    def forward(self, x):\n",
    "        # Input x is already shape [batch_size, 128, 128, 3]\n",
    "        # PyTorch expects [batch_size, channels, height, width], so permute the dimensions\n",
    "        x = x.permute(0, 3, 1, 2).contiguous()  # Change from [B, H, W, C] to [B, C, H, W]\n",
    "\n",
    "        # Convolutional blocks\n",
    "        x = self.pool(F.relu(self.bn1(self.conv1(x))))  # -> [B, 32, 64, 64]\n",
    "        x = self.pool(F.relu(self.bn2(self.conv2(x))))  # -> [B, 64, 32, 32]\n",
    "        x = self.pool(F.relu(self.bn3(self.conv3(x))))  # -> [B, 128, 16, 16]\n",
    "\n",
    "        # Flatten for fully connected layers\n",
    "        x = x.reshape(x.size(0), -1)  # -> [B, 128*16*16]\n",
    "\n",
    "        # Fully connected layers\n",
    "        x = F.relu(self.fc1(x))\n",
    "        x = self.dropout(x)\n",
    "        x = self.fc2(x)\n",
    "\n",
    "        return x"
   ]
  },
  {
   "cell_type": "code",
   "execution_count": 151,
   "metadata": {
    "id": "FbLElYJl_NDF"
   },
   "outputs": [],
   "source": [
    "# Helper function to create a name for each model on the basis of its hyperparameters.\n",
    "def get_model_name(name, batch_size, learning_rate, epoch):\n",
    "    \"\"\" Generate a name for the model consisting of all the hyperparameter values\n",
    "\n",
    "    Args:\n",
    "        config: Configuration object containing the hyperparameters\n",
    "    Returns:\n",
    "        path: A string with the hyperparameter name and value concatenated\n",
    "    \"\"\"\n",
    "    path = \"model_{0}_bs{1}_lr{2}_epoch{3}\".format(name,\n",
    "                                                   batch_size,\n",
    "                                                   learning_rate,\n",
    "                                                   epoch)\n",
    "    return path"
   ]
  },
  {
   "cell_type": "code",
   "execution_count": 163,
   "metadata": {},
   "outputs": [],
   "source": [
    "\"\"\"FOR MACBOOK LOCAL SETUP USERS ONLY \"\"\"\n",
    "use_mps = True\n",
    "# Set device to GPU if available\n",
    "device = torch.device(\"mps\") if use_mps and torch.backends.mps.is_available() else torch.device(\"cpu\")"
   ]
  },
  {
   "cell_type": "code",
   "execution_count": null,
   "metadata": {},
   "outputs": [],
   "source": [
    "\"\"\"FOR GOOGLE COLAB USERS ONLY \"\"\"\n",
    "use_cuda = True\n",
    "# Set device to GPU if available\n",
    "device = torch.device(\"cuda\") if use_cuda and torch.cuda.is_available() else torch.device(\"cpu\")"
   ]
  },
  {
   "cell_type": "code",
   "execution_count": 167,
   "metadata": {
    "id": "PtZusJiMnsHZ"
   },
   "outputs": [],
   "source": [
    "# Function to train the model. Largely based on Archit's Lab 3 Submission.\n",
    "def train_net(model, batch_size, train_loader, val_loader, learning_rate=0.001, num_epochs=20):\n",
    "    print(f\"Now training model with spec: {model.name}\")\n",
    "\n",
    "    # Fixed PyTorch random seed for reproducible results\n",
    "    torch.manual_seed(1000)\n",
    "\n",
    "    # Define loss function and optimizer\n",
    "    criterion = nn.CrossEntropyLoss()\n",
    "    optimizer = optim.Adam(model.parameters(), lr=learning_rate)\n",
    "    # Define a scheduler to control the learning rate.\n",
    "    print(\"Loss Function and Optimizer set up.\")\n",
    "\n",
    "    # Arrays to store accuracy metrics\n",
    "    train_acc = np.zeros(num_epochs)\n",
    "    val_acc = np.zeros(num_epochs)\n",
    "\n",
    "    # Create an output folder for performance files\n",
    "    output_folder = \"Audio_Model_Performance\"\n",
    "    os.makedirs(output_folder, exist_ok=True)\n",
    "\n",
    "    start_time = time.time()\n",
    "    print(\"Training Started.\")\n",
    "\n",
    "    # Iterate for number of epochs.\n",
    "    for epoch in range(num_epochs):\n",
    "        # Training phase\n",
    "        model.train()\n",
    "        \n",
    "        for _, data in enumerate(train_loader, 0):\n",
    "            recordings, labels = data\n",
    "            # Move data to GPU if available\n",
    "            recordings = recordings.to(device)\n",
    "            labels = labels.to(device)\n",
    "            # Forward and backward passes\n",
    "            optimizer.zero_grad()\n",
    "            outputs = model(recordings)\n",
    "            loss = criterion(outputs, labels)\n",
    "            loss.backward()\n",
    "            optimizer.step()\n",
    "        \n",
    "        print(f\"Finished adjusting parameters for epoch {epoch + 1}\")\n",
    "\n",
    "        # Evaluation phase\n",
    "        model.eval()\n",
    "        correct_t, total_t = 0, 0\n",
    "        correct_v, total_v = 0, 0\n",
    "\n",
    "        # Calculate training accuracy\n",
    "        with torch.no_grad():\n",
    "            for recordings, labels in train_loader:\n",
    "                # Move data to GPU if available\n",
    "                recordings = recordings.to(device)\n",
    "                labels = labels.to(device)\n",
    "                # Forward pass\n",
    "                output = model(recordings)\n",
    "                pred = output.max(1, keepdim=True)[1]\n",
    "                correct_t += pred.eq(labels.view_as(pred)).sum().item()\n",
    "                total_t += recordings.shape[0]\n",
    "\n",
    "        train_acc[epoch] = correct_t / total_t\n",
    "\n",
    "        # Calculate validation accuracy and collect predictions\n",
    "        with torch.no_grad():\n",
    "            for recordings, labels in val_loader:\n",
    "                # Move data to GPU if available\n",
    "                recordings = recordings.to(device)\n",
    "                labels = labels.to(device)\n",
    "                # Forward pass\n",
    "                output = model(recordings)\n",
    "                pred = output.max(1, keepdim=True)[1]\n",
    "                correct_v += pred.eq(labels.view_as(pred)).sum().item()\n",
    "                total_v += recordings.shape[0]\n",
    "                \n",
    "        val_acc[epoch] = correct_v / total_v\n",
    "\n",
    "        # Print epoch results\n",
    "        print(f\"Epoch {epoch + 1}: Train acc: {train_acc[epoch]:.4f}, Validation acc: {val_acc[epoch]:.4f}\")\n",
    "\n",
    "    print('Finished Training')\n",
    "    elapsed_time = time.time() - start_time\n",
    "    \n",
    "    # Save metrics to CSV\n",
    "    model_filename = get_model_name(model.name, batch_size, learning_rate, num_epochs - 1)\n",
    "    model_path = os.path.join(output_folder, model_filename)\n",
    "    \n",
    "    # Save accuracy metrics to CSV\n",
    "    train_acc_path = f\"{model_path}_train_acc.csv\"\n",
    "    val_acc_path = f\"{model_path}_val_acc.csv\"\n",
    "    np.savetxt(train_acc_path, train_acc)\n",
    "    np.savetxt(val_acc_path, val_acc)\n",
    "    \n",
    "    return train_acc, val_acc"
   ]
  },
  {
   "cell_type": "code",
   "execution_count": 165,
   "metadata": {
    "id": "r6BVuP1KoD70"
   },
   "outputs": [],
   "source": [
    "# Create the data loaders.\n",
    "batch_size = 64\n",
    "train_loader = DataLoader(train_dataset, batch_size=batch_size, shuffle=True)\n",
    "val_loader = DataLoader(val_dataset, batch_size=batch_size, shuffle=False)\n",
    "test_loader = DataLoader(test_dataset, batch_size=batch_size, shuffle=False)"
   ]
  },
  {
   "cell_type": "code",
   "execution_count": 169,
   "metadata": {
    "colab": {
     "base_uri": "https://localhost:8080/",
     "height": 1000
    },
    "id": "hi6RQvGooU5N",
    "outputId": "443c53f0-92fb-4803-c506-4808b4cf998f"
   },
   "outputs": [
    {
     "name": "stdout",
     "output_type": "stream",
     "text": [
      "Now training model with spec: SpecCNN4\n",
      "Loss Function and Optimizer set up.\n",
      "Training Started.\n",
      "Finished adjusting parameters for epoch 1\n",
      "Epoch 1: Train acc: 0.0906, Validation acc: 0.0844\n",
      "Finished adjusting parameters for epoch 2\n",
      "Epoch 2: Train acc: 0.1136, Validation acc: 0.1059\n",
      "Finished adjusting parameters for epoch 3\n",
      "Epoch 3: Train acc: 0.1134, Validation acc: 0.1076\n",
      "Finished adjusting parameters for epoch 4\n",
      "Epoch 4: Train acc: 0.1176, Validation acc: 0.1108\n",
      "Finished adjusting parameters for epoch 5\n",
      "Epoch 5: Train acc: 0.1246, Validation acc: 0.1294\n",
      "Finished adjusting parameters for epoch 6\n",
      "Epoch 6: Train acc: 0.1319, Validation acc: 0.1301\n",
      "Finished adjusting parameters for epoch 7\n",
      "Epoch 7: Train acc: 0.1413, Validation acc: 0.1379\n",
      "Finished adjusting parameters for epoch 8\n",
      "Epoch 8: Train acc: 0.1437, Validation acc: 0.1434\n",
      "Finished adjusting parameters for epoch 9\n",
      "Epoch 9: Train acc: 0.1656, Validation acc: 0.1571\n",
      "Finished adjusting parameters for epoch 10\n",
      "Epoch 10: Train acc: 0.1613, Validation acc: 0.1584\n",
      "Finished adjusting parameters for epoch 11\n",
      "Epoch 11: Train acc: 0.1689, Validation acc: 0.1578\n",
      "Finished adjusting parameters for epoch 12\n",
      "Epoch 12: Train acc: 0.1801, Validation acc: 0.1675\n",
      "Finished adjusting parameters for epoch 13\n",
      "Epoch 13: Train acc: 0.1962, Validation acc: 0.1796\n",
      "Finished adjusting parameters for epoch 14\n",
      "Epoch 14: Train acc: 0.2061, Validation acc: 0.1900\n",
      "Finished adjusting parameters for epoch 15\n",
      "Epoch 15: Train acc: 0.2024, Validation acc: 0.1845\n",
      "Finished adjusting parameters for epoch 16\n",
      "Epoch 16: Train acc: 0.2266, Validation acc: 0.2031\n",
      "Finished adjusting parameters for epoch 17\n",
      "Epoch 17: Train acc: 0.2362, Validation acc: 0.2089\n",
      "Finished adjusting parameters for epoch 18\n",
      "Epoch 18: Train acc: 0.2659, Validation acc: 0.2344\n",
      "Finished adjusting parameters for epoch 19\n",
      "Epoch 19: Train acc: 0.2822, Validation acc: 0.2445\n",
      "Finished adjusting parameters for epoch 20\n",
      "Epoch 20: Train acc: 0.3082, Validation acc: 0.2627\n",
      "Finished adjusting parameters for epoch 21\n",
      "Epoch 21: Train acc: 0.3221, Validation acc: 0.2692\n",
      "Finished adjusting parameters for epoch 22\n",
      "Epoch 22: Train acc: 0.3498, Validation acc: 0.2878\n",
      "Finished adjusting parameters for epoch 23\n",
      "Epoch 23: Train acc: 0.3831, Validation acc: 0.3028\n",
      "Finished adjusting parameters for epoch 24\n",
      "Epoch 24: Train acc: 0.3925, Validation acc: 0.3051\n",
      "Finished adjusting parameters for epoch 25\n",
      "Epoch 25: Train acc: 0.4130, Validation acc: 0.3015\n",
      "Finished adjusting parameters for epoch 26\n",
      "Epoch 26: Train acc: 0.4372, Validation acc: 0.3054\n",
      "Finished adjusting parameters for epoch 27\n",
      "Epoch 27: Train acc: 0.4632, Validation acc: 0.3123\n",
      "Finished adjusting parameters for epoch 28\n",
      "Epoch 28: Train acc: 0.5019, Validation acc: 0.3162\n",
      "Finished adjusting parameters for epoch 29\n",
      "Epoch 29: Train acc: 0.5499, Validation acc: 0.3279\n",
      "Finished adjusting parameters for epoch 30\n",
      "Epoch 30: Train acc: 0.5586, Validation acc: 0.3347\n",
      "Finished adjusting parameters for epoch 31\n",
      "Epoch 31: Train acc: 0.5794, Validation acc: 0.3325\n",
      "Finished adjusting parameters for epoch 32\n",
      "Epoch 32: Train acc: 0.6217, Validation acc: 0.3458\n",
      "Finished adjusting parameters for epoch 33\n",
      "Epoch 33: Train acc: 0.6440, Validation acc: 0.3494\n",
      "Finished adjusting parameters for epoch 34\n",
      "Epoch 34: Train acc: 0.6684, Validation acc: 0.3478\n",
      "Finished adjusting parameters for epoch 35\n",
      "Epoch 35: Train acc: 0.6865, Validation acc: 0.3579\n",
      "Finished adjusting parameters for epoch 36\n",
      "Epoch 36: Train acc: 0.7075, Validation acc: 0.3471\n",
      "Finished adjusting parameters for epoch 37\n",
      "Epoch 37: Train acc: 0.7348, Validation acc: 0.3527\n",
      "Finished adjusting parameters for epoch 38\n",
      "Epoch 38: Train acc: 0.7310, Validation acc: 0.3497\n",
      "Finished adjusting parameters for epoch 39\n",
      "Epoch 39: Train acc: 0.7726, Validation acc: 0.3546\n",
      "Finished adjusting parameters for epoch 40\n",
      "Epoch 40: Train acc: 0.7835, Validation acc: 0.3413\n",
      "Finished adjusting parameters for epoch 41\n",
      "Epoch 41: Train acc: 0.8052, Validation acc: 0.3592\n",
      "Finished adjusting parameters for epoch 42\n",
      "Epoch 42: Train acc: 0.8105, Validation acc: 0.3497\n",
      "Finished adjusting parameters for epoch 43\n",
      "Epoch 43: Train acc: 0.8275, Validation acc: 0.3595\n",
      "Finished adjusting parameters for epoch 44\n",
      "Epoch 44: Train acc: 0.8362, Validation acc: 0.3527\n",
      "Finished adjusting parameters for epoch 45\n",
      "Epoch 45: Train acc: 0.8493, Validation acc: 0.3615\n",
      "Finished adjusting parameters for epoch 46\n",
      "Epoch 46: Train acc: 0.8600, Validation acc: 0.3608\n",
      "Finished adjusting parameters for epoch 47\n",
      "Epoch 47: Train acc: 0.8657, Validation acc: 0.3615\n",
      "Finished adjusting parameters for epoch 48\n",
      "Epoch 48: Train acc: 0.8776, Validation acc: 0.3641\n",
      "Finished adjusting parameters for epoch 49\n",
      "Epoch 49: Train acc: 0.8817, Validation acc: 0.3647\n",
      "Finished adjusting parameters for epoch 50\n",
      "Epoch 50: Train acc: 0.8910, Validation acc: 0.3634\n",
      "Finished Training\n"
     ]
    },
    {
     "data": {
      "image/png": "[encoded data removed]",
      "text/plain": [
       "<Figure size 640x480 with 1 Axes>"
      ]
     },
     "metadata": {},
     "output_type": "display_data"
    }
   ],
   "source": [
    "# Create an instance of the model.\n",
    "model = SpecCNN()\n",
    "\n",
    "# Move the model to GPU if available.\n",
    "model.to(device)\n",
    "\n",
    "# Train the model\n",
    "train_acc, val_acc = train_net(model, batch_size, train_loader, val_loader,\n",
    "                                   learning_rate = 0.001, num_epochs = 50)\n",
    "n = len(train_acc)\n",
    "plt.title(\"Training Curve\")\n",
    "plt.plot(range(1,n+1), train_acc, label=\"Train\")\n",
    "plt.plot(range(1,n+1), val_acc, label=\"Validation\")\n",
    "plt.xlabel(\"Iterations\")\n",
    "plt.ylabel(\"Accuracy\")\n",
    "plt.legend(loc='best')\n",
    "plt.show()"
   ]
  }
 ],
 "metadata": {
  "colab": {
   "include_colab_link": true,
   "provenance": []
  },
  "kernelspec": {
   "display_name": "ECE421",
   "language": "python",
   "name": "python3"
  },
  "language_info": {
   "codemirror_mode": {
    "name": "ipython",
    "version": 3
   },
   "file_extension": ".py",
   "mimetype": "text/x-python",
   "name": "python",
   "nbconvert_exporter": "python",
   "pygments_lexer": "ipython3",
   "version": "3.10.13"
  }
 },
 "nbformat": 4,
 "nbformat_minor": 0
}
