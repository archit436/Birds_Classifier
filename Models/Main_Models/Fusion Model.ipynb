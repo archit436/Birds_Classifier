{
 "cells": [
  {
   "cell_type": "markdown",
   "metadata": {},
   "source": [
    "0. Setup\n"
   ]
  },
  {
   "cell_type": "code",
   "execution_count": 86,
   "metadata": {},
   "outputs": [],
   "source": [
    "import torch\n",
    "import torch.nn as nn\n",
    "import torch.nn.functional as F\n",
    "import torch.optim as optim\n",
    "import pickle\n",
    "import numpy as np\n",
    "from tqdm import tqdm\n",
    "from collections import Counter\n",
    "from sklearn.preprocessing import LabelEncoder\n",
    "import matplotlib.pyplot as plt\n",
    "from torch.optim.lr_scheduler import ReduceLROnPlateau\n",
    "from torch.utils.data import TensorDataset, Subset, Dataset, DataLoader\n",
    "from sklearn.model_selection import StratifiedShuffleSplit"
   ]
  },
  {
   "cell_type": "markdown",
   "metadata": {},
   "source": [
    "1. Loading Individual Datasets\n"
   ]
  },
  {
   "cell_type": "code",
   "execution_count": 88,
   "metadata": {},
   "outputs": [],
   "source": [
    "# Helper function to use a dataset to create a balanced dataset that makes\n",
    "# sure each class has the same number of samples.\n",
    "def create_balanced_dataset(test_dataset, target_samples_per_class=500):\n",
    "    # Gather labels from the test dataset.\n",
    "    test_labels = []\n",
    "    for i in range(len(test_dataset)):\n",
    "        _, label = test_dataset[i]  \n",
    "        # Extract the label from the dataset item.\n",
    "        test_labels.append(label.item())\n",
    "\n",
    "    # Count samples per class in the test dataset\n",
    "    class_counts = Counter(test_labels)\n",
    "    print(f\"Original class distribution: {dict(class_counts)}\")\n",
    "\n",
    "    # Identify classes that need oversampling\n",
    "    classes_to_oversample = {\n",
    "        cls: (target_samples_per_class - count)\n",
    "        for cls, count in class_counts.items()\n",
    "        if count < target_samples_per_class\n",
    "    }\n",
    "\n",
    "    # If no class is under the target, simply return the original dataset\n",
    "    if not classes_to_oversample:\n",
    "        print(\"No oversampling needed - all classes have enough samples.\")\n",
    "        return test_dataset\n",
    "\n",
    "    # Map each class to the list of indices that contain that class\n",
    "    class_indices_map = {cls: [] for cls in class_counts.keys()}\n",
    "    for i, lbl in enumerate(test_labels):\n",
    "        class_indices_map[lbl].append(i)\n",
    "\n",
    "    # Generate the new indices by oversampling\n",
    "    additional_indices = []\n",
    "    for cls, num_needed in classes_to_oversample.items():\n",
    "        # Randomly sample (with replacement) from the available indices of this class\n",
    "        oversampled = np.random.choice(class_indices_map[cls], size=num_needed, replace=True)\n",
    "        additional_indices.extend(oversampled)\n",
    "\n",
    "    # Combine original indices with the newly oversampled ones\n",
    "    all_indices = list(range(len(test_dataset))) + additional_indices\n",
    "\n",
    "    # Create a new Subset using these indices\n",
    "    balanced_dataset = Subset(test_dataset, all_indices)\n",
    "\n",
    "    # Optional: verify the new distribution\n",
    "    balanced_labels = []\n",
    "    for idx in all_indices:\n",
    "        _, label = test_dataset[idx]\n",
    "        balanced_labels.append(int(label))\n",
    "    balanced_counts = Counter(balanced_labels)\n",
    "    print(f\"Balanced class distribution: {dict(balanced_counts)}\")\n",
    "\n",
    "    return balanced_dataset"
   ]
  },
  {
   "cell_type": "code",
   "execution_count": 89,
   "metadata": {},
   "outputs": [
    {
     "name": "stderr",
     "output_type": "stream",
     "text": [
      "/var/folders/s8/7wj664s92gx_89p1xhcwbq800000gn/T/ipykernel_1239/2291915788.py:2: FutureWarning: You are using `torch.load` with `weights_only=False` (the current default value), which uses the default pickle module implicitly. It is possible to construct malicious pickle data which will execute arbitrary code during unpickling (See https://github.com/pytorch/pytorch/blob/main/SECURITY.md#untrusted-models for more details). In a future release, the default value for `weights_only` will be flipped to `True`. This limits the functions that could be executed during unpickling. Arbitrary objects will no longer be allowed to be loaded via this mode unless they are explicitly allowlisted by the user via `torch.serialization.add_safe_globals`. We recommend you start setting `weights_only=True` for any use case where you don't have full control of the loaded file. Please open an issue on GitHub for any issues related to this experimental feature.\n",
      "  audio_dataset = torch.load(\"../../Data/audio_test_dataset.pt\")\n"
     ]
    },
    {
     "name": "stdout",
     "output_type": "stream",
     "text": [
      "Original class distribution: {5: 70, 35: 37, 20: 83, 11: 42, 29: 100, 28: 56, 6: 67, 10: 58, 19: 100, 44: 31, 12: 68, 34: 92, 21: 58, 37: 100, 8: 34, 31: 40, 40: 35, 25: 42, 22: 62, 42: 42, 0: 33, 30: 100, 14: 52, 23: 100, 27: 31, 7: 100, 18: 100, 45: 66, 41: 30, 9: 37, 2: 57, 13: 60, 3: 67, 43: 45, 15: 37, 26: 36, 4: 73, 32: 57, 33: 34, 38: 42, 46: 67, 24: 41, 1: 48, 39: 32, 17: 39, 36: 39, 16: 42}\n",
      "Balanced class distribution: {5: 500, 35: 500, 20: 500, 11: 500, 29: 500, 28: 500, 6: 500, 10: 500, 19: 500, 44: 500, 12: 500, 34: 500, 21: 500, 37: 500, 8: 500, 31: 500, 40: 500, 25: 500, 22: 500, 42: 500, 0: 500, 30: 500, 14: 500, 23: 500, 27: 500, 7: 500, 18: 500, 45: 500, 41: 500, 9: 500, 2: 500, 13: 500, 3: 500, 43: 500, 15: 500, 26: 500, 4: 500, 32: 500, 33: 500, 38: 500, 46: 500, 24: 500, 1: 500, 39: 500, 17: 500, 36: 500, 16: 500}\n",
      "Size of the balanced dataset: 23500\n"
     ]
    }
   ],
   "source": [
    "# Load the audio test dataset from the .pt file.\n",
    "audio_dataset = torch.load(\"../../Data/audio_test_dataset.pt\")\n",
    "# Create a balanced dataset with 500 samples per class.\n",
    "balanced_audio_dataset = create_balanced_dataset(audio_dataset, target_samples_per_class=500)\n",
    "# Print out the size of the dataset.\n",
    "print(f\"Size of the balanced dataset: {len(balanced_audio_dataset)}\")"
   ]
  },
  {
   "cell_type": "code",
   "execution_count": 90,
   "metadata": {},
   "outputs": [
    {
     "name": "stderr",
     "output_type": "stream",
     "text": [
      "/var/folders/s8/7wj664s92gx_89p1xhcwbq800000gn/T/ipykernel_1239/3935245663.py:2: FutureWarning: You are using `torch.load` with `weights_only=False` (the current default value), which uses the default pickle module implicitly. It is possible to construct malicious pickle data which will execute arbitrary code during unpickling (See https://github.com/pytorch/pytorch/blob/main/SECURITY.md#untrusted-models for more details). In a future release, the default value for `weights_only` will be flipped to `True`. This limits the functions that could be executed during unpickling. Arbitrary objects will no longer be allowed to be loaded via this mode unless they are explicitly allowlisted by the user via `torch.serialization.add_safe_globals`. We recommend you start setting `weights_only=True` for any use case where you don't have full control of the loaded file. Please open an issue on GitHub for any issues related to this experimental feature.\n",
      "  images_dataset = torch.load(\"../../Data/resnet_test_dataset.pt\")\n"
     ]
    },
    {
     "name": "stdout",
     "output_type": "stream",
     "text": [
      "Original class distribution: {28: 24, 20: 21, 17: 24, 34: 24, 18: 24, 37: 24, 39: 24, 0: 23, 9: 24, 33: 23, 46: 24, 13: 24, 4: 24, 5: 20, 14: 24, 11: 24, 23: 23, 21: 24, 19: 23, 2: 24, 36: 24, 26: 24, 27: 24, 12: 22, 15: 24, 45: 24, 44: 24, 32: 22, 41: 24, 35: 22, 42: 24, 43: 23, 16: 22, 30: 22, 31: 24, 22: 24, 3: 23, 38: 24, 24: 24, 8: 21, 25: 21, 7: 22, 1: 24, 10: 24, 6: 23, 29: 24, 40: 22}\n",
      "Balanced class distribution: {28: 500, 20: 500, 17: 500, 34: 500, 18: 500, 37: 500, 39: 500, 0: 500, 9: 500, 33: 500, 46: 500, 13: 500, 4: 500, 5: 500, 14: 500, 11: 500, 23: 500, 21: 500, 19: 500, 2: 500, 36: 500, 26: 500, 27: 500, 12: 500, 15: 500, 45: 500, 44: 500, 32: 500, 41: 500, 35: 500, 42: 500, 43: 500, 16: 500, 30: 500, 31: 500, 22: 500, 3: 500, 38: 500, 24: 500, 8: 500, 25: 500, 7: 500, 1: 500, 10: 500, 6: 500, 29: 500, 40: 500}\n",
      "Size of the balanced dataset: 23500\n"
     ]
    }
   ],
   "source": [
    "# Now load the image test dataset from the .pt file.\n",
    "images_dataset = torch.load(\"../../Data/resnet_test_dataset.pt\")\n",
    "# Create a balanced dataset with 500 samples per class.\n",
    "balanced_images_dataset = create_balanced_dataset(images_dataset, target_samples_per_class=500)\n",
    "# Print out the size of the dataset.\n",
    "print(f\"Size of the balanced dataset: {len(balanced_images_dataset)}\")"
   ]
  },
  {
   "cell_type": "markdown",
   "metadata": {},
   "source": [
    "2. Creating Combined Dataloaders\n"
   ]
  },
  {
   "cell_type": "code",
   "execution_count": 91,
   "metadata": {},
   "outputs": [
    {
     "name": "stdout",
     "output_type": "stream",
     "text": [
      "Images data tensor shape: torch.Size([23500, 1, 512])\n",
      "Images labels tensor shape: torch.Size([23500])\n"
     ]
    }
   ],
   "source": [
    "# Extract the images data and labels from the balanced dataset\n",
    "images_data = []\n",
    "images_labels = []\n",
    "for i in range(len(balanced_images_dataset)):\n",
    "    image, label = balanced_images_dataset[i]\n",
    "    images_data.append(image)\n",
    "    images_labels.append(label)\n",
    "# Convert to tensors\n",
    "images_data_tensor = torch.stack(images_data)\n",
    "images_labels_tensor = torch.tensor(images_labels)\n",
    "print(f\"Images data tensor shape: {images_data_tensor.shape}\")\n",
    "print(f\"Images labels tensor shape: {images_labels_tensor.shape}\")"
   ]
  },
  {
   "cell_type": "code",
   "execution_count": 92,
   "metadata": {},
   "outputs": [
    {
     "name": "stdout",
     "output_type": "stream",
     "text": [
      "Balanced audio data tensor shape: torch.Size([23500, 1, 128, 128])\n",
      "Balanced audio labels tensor shape: torch.Size([23500])\n"
     ]
    }
   ],
   "source": [
    "# Extract the audio data from the balanced dataset.\n",
    "audio_data = []\n",
    "audio_labels = []\n",
    "for i in range(len(balanced_audio_dataset)):\n",
    "    audio, label = balanced_audio_dataset[i]\n",
    "    audio_data.append(audio)\n",
    "    audio_labels.append(label)\n",
    "# Convert the data and labels to PyTorch tensors.\n",
    "audio_data_tensor = torch.stack(audio_data)\n",
    "audio_labels_tensor = torch.tensor(audio_labels)\n",
    "print(f\"Balanced audio data tensor shape: {audio_data_tensor.shape}\")\n",
    "print(f\"Balanced audio labels tensor shape: {audio_labels_tensor.shape}\")"
   ]
  },
  {
   "cell_type": "code",
   "execution_count": 99,
   "metadata": {},
   "outputs": [],
   "source": [
    "# We define a class to create a dataset for the audio and image data.\n",
    "# We want to create random pairs of audio and image data, of the same class.\n",
    "class MultimodalFusionDataset(Dataset):\n",
    "    def __init__(self, image_data, image_labels, audio_data, audio_labels, transform=None, indices=None):\n",
    "        \"\"\"\n",
    "        Custom dataset for multimodal fusion of image and audio data.\n",
    "        \n",
    "        Args:\n",
    "            image_data: PyTorch tensor containing image data\n",
    "            image_labels: PyTorch tensor containing image labels\n",
    "            audio_data: PyTorch tensor containing audio data\n",
    "            audio_labels: PyTorch tensor containing audio labels\n",
    "            transform: Optional transform to be applied to the samples\n",
    "            indices: Optional indices to select a subset of the data\n",
    "        \"\"\"\n",
    "        self.image_data = image_data\n",
    "        self.image_labels = image_labels\n",
    "        self.audio_data = audio_data\n",
    "        self.audio_labels = audio_labels\n",
    "        self.transform = transform\n",
    "        \n",
    "        # Convert tensors to numpy for processing\n",
    "        image_labels_np = image_labels.numpy()\n",
    "        audio_labels_np = audio_labels.numpy()\n",
    "        \n",
    "        # Create a list of all possible class indices - ensure they're the same for both modalities\n",
    "        image_classes = set(np.unique(image_labels_np))\n",
    "        audio_classes = set(np.unique(audio_labels_np))\n",
    "        common_classes = sorted(list(image_classes.intersection(audio_classes)))\n",
    "        \n",
    "        if len(common_classes) == 0:\n",
    "            raise ValueError(\"No common classes found between image and audio datasets\")\n",
    "        \n",
    "        # Organize samples by class\n",
    "        self.class_indices = {}\n",
    "        self.pairs = []\n",
    "        self.pair_labels = []\n",
    "        \n",
    "        for cls in common_classes:\n",
    "            img_indices = np.where(image_labels_np == cls)[0]\n",
    "            audio_indices = np.where(audio_labels_np == cls)[0]\n",
    "            \n",
    "            if len(img_indices) > 0 and len(audio_indices) > 0:\n",
    "                self.class_indices[cls] = {\n",
    "                    'image': img_indices,\n",
    "                    'audio': audio_indices\n",
    "                }\n",
    "                \n",
    "                # Shuffle the indices for random pairing\n",
    "                np.random.seed(42)  # For reproducibility\n",
    "                np.random.shuffle(img_indices)\n",
    "                np.random.shuffle(audio_indices)\n",
    "                \n",
    "                # Create pairs (one image with one audio) from the same class\n",
    "                n_pairs = min(len(img_indices), len(audio_indices))\n",
    "                for i in range(n_pairs):\n",
    "                    self.pairs.append((img_indices[i], audio_indices[i]))\n",
    "                    self.pair_labels.append(cls)\n",
    "        \n",
    "        # Check if we have any pairs\n",
    "        if len(self.pairs) == 0:\n",
    "            raise ValueError(\"No valid pairs could be created. Check your data and labels.\")\n",
    "        \n",
    "        # Convert to numpy arrays for easier indexing\n",
    "        self.pairs = np.array(self.pairs)\n",
    "        self.pair_labels = np.array(self.pair_labels)\n",
    "        \n",
    "        # If specific indices are provided, only use those\n",
    "        if indices is not None:\n",
    "            if len(indices) > 0:  # Make sure indices is not empty\n",
    "                self.pairs = self.pairs[indices]\n",
    "                self.pair_labels = self.pair_labels[indices]\n",
    "            else:\n",
    "                raise ValueError(\"Empty indices provided\")\n",
    "    \n",
    "    def __len__(self):\n",
    "        return len(self.pairs)\n",
    "    \n",
    "    def __getitem__(self, idx):\n",
    "        img_idx, audio_idx = self.pairs[idx]\n",
    "        \n",
    "        image = self.image_data[img_idx]\n",
    "        audio = self.audio_data[audio_idx]\n",
    "        label = torch.tensor(self.pair_labels[idx], dtype=torch.long)\n",
    "        \n",
    "        if self.transform:\n",
    "            image = self.transform(image)\n",
    "            \n",
    "        return {\n",
    "            'image': image,\n",
    "            'audio': audio,\n",
    "            'label': label\n",
    "        }\n",
    "\n",
    "\n",
    "# Create stratified data loaders for training, validation, and testing\n",
    "# These will be created using the dataset framework we defined above,\n",
    "# and using the balanced datasets we created earlier.\n",
    "def create_stratified_data_loaders(image_data, image_labels, audio_data, audio_labels, batch_size=32):\n",
    "    \"\"\"\n",
    "    Create train, validation, and test data loaders with stratified splits.\n",
    "    \n",
    "    Args:\n",
    "        image_data: PyTorch tensor containing image data\n",
    "        image_labels: PyTorch tensor containing image labels\n",
    "        audio_data: PyTorch tensor containing audio data\n",
    "        audio_labels: PyTorch tensor containing audio labels\n",
    "        batch_size: Batch size for the data loaders\n",
    "        num_workers: Number of worker threads for the data loaders\n",
    "        \n",
    "    Returns:\n",
    "        train_loader, val_loader, test_loader\n",
    "    \"\"\"\n",
    "    # First, create the full dataset\n",
    "    try:\n",
    "        full_dataset = MultimodalFusionDataset(\n",
    "            image_data=image_data,\n",
    "            image_labels=image_labels,\n",
    "            audio_data=audio_data,\n",
    "            audio_labels=audio_labels\n",
    "        )\n",
    "    except ValueError as e:\n",
    "        print(f\"Error creating dataset: {e}\")\n",
    "        print(f\"Image labels shape: {image_labels.shape}, unique: {torch.unique(image_labels).shape}\")\n",
    "        print(f\"Audio labels shape: {audio_labels.shape}, unique: {torch.unique(audio_labels).shape}\")\n",
    "        raise\n",
    "    \n",
    "    # Get all pair labels\n",
    "    pair_labels = full_dataset.pair_labels\n",
    "    \n",
    "    # Create indices array\n",
    "    indices = np.arange(len(pair_labels))\n",
    "    \n",
    "    # First split: train+val vs test (80:20)\n",
    "    sss1 = StratifiedShuffleSplit(n_splits=1, test_size=0.2, random_state=0)\n",
    "    temp_idx, test_idx = next(sss1.split(indices, pair_labels))\n",
    "    \n",
    "    # Get the temporary set labels\n",
    "    temp_labels = pair_labels[temp_idx]\n",
    "    \n",
    "    # Second split: train vs val (80:20)\n",
    "    temp_indices = np.arange(len(temp_idx))\n",
    "    sss2 = StratifiedShuffleSplit(n_splits=1, test_size=0.2, random_state=0)\n",
    "    train_temp_idx, val_temp_idx = next(sss2.split(temp_indices, temp_labels))\n",
    "    \n",
    "    # Convert to original indices\n",
    "    train_idx = temp_idx[train_temp_idx]\n",
    "    val_idx = temp_idx[val_temp_idx]\n",
    "    \n",
    "    # Create the individual datasets\n",
    "    train_dataset = MultimodalFusionDataset(\n",
    "        image_data=image_data,\n",
    "        image_labels=image_labels,\n",
    "        audio_data=audio_data,\n",
    "        audio_labels=audio_labels,\n",
    "        indices=train_idx\n",
    "    )\n",
    "    \n",
    "    val_dataset = MultimodalFusionDataset(\n",
    "        image_data=image_data,\n",
    "        image_labels=image_labels,\n",
    "        audio_data=audio_data,\n",
    "        audio_labels=audio_labels,\n",
    "        indices=val_idx\n",
    "    )\n",
    "    \n",
    "    test_dataset = MultimodalFusionDataset(\n",
    "        image_data=image_data,\n",
    "        image_labels=image_labels,\n",
    "        audio_data=audio_data,\n",
    "        audio_labels=audio_labels,\n",
    "        indices=test_idx\n",
    "    )\n",
    "    \n",
    "    # Create data loaders\n",
    "    train_loader = DataLoader(\n",
    "        train_dataset,\n",
    "        batch_size=batch_size,\n",
    "        shuffle=True,\n",
    "        drop_last=True,\n",
    "    )\n",
    "    \n",
    "    val_loader = DataLoader(\n",
    "        val_dataset,\n",
    "        batch_size=batch_size,\n",
    "        shuffle=False,\n",
    "        drop_last=True,\n",
    "    )\n",
    "    \n",
    "    test_loader = DataLoader(\n",
    "        test_dataset,\n",
    "        batch_size=batch_size,\n",
    "        shuffle=False,\n",
    "        drop_last=True,\n",
    "    )\n",
    "    \n",
    "    # Print split information\n",
    "    print(f\"Dataset split: {len(train_dataset)} training, {len(val_dataset)} validation, {len(test_dataset)} test samples\")\n",
    "    \n",
    "    return train_loader, val_loader, test_loader"
   ]
  },
  {
   "cell_type": "code",
   "execution_count": 102,
   "metadata": {},
   "outputs": [
    {
     "name": "stdout",
     "output_type": "stream",
     "text": [
      "Dataset split: 15040 training, 3760 validation, 4700 test samples\n"
     ]
    }
   ],
   "source": [
    "# Use the extracted tensors to create stratified data loaders\n",
    "batch_size = 32\n",
    "train_loader, val_loader, test_loader = create_stratified_data_loaders(\n",
    "    image_data=images_data_tensor,\n",
    "    image_labels=images_labels_tensor,\n",
    "    audio_data=audio_data_tensor,\n",
    "    audio_labels=audio_labels_tensor,\n",
    "    batch_size=batch_size,\n",
    ")"
   ]
  },
  {
   "cell_type": "markdown",
   "metadata": {},
   "source": [
    "3. Fusion Model\n"
   ]
  },
  {
   "cell_type": "code",
   "execution_count": 105,
   "metadata": {},
   "outputs": [],
   "source": [
    "# Start by defining the Fusion ANN Model.\n",
    "class FusionANN(nn.Module):\n",
    "    def __init__(self, image_embed_size, audio_embed_size, hidden_dim, num_classes, dropout_rate=0.5):\n",
    "        super(FusionANN, self).__init__()\n",
    "        \n",
    "        # Dimensionality of inputs\n",
    "        self.image_embed_size = image_embed_size\n",
    "        self.audio_embed_size = audio_embed_size\n",
    "        \n",
    "        # Fusion network\n",
    "        self.fusion_network = nn.Sequential(\n",
    "            nn.Linear(image_embed_size + audio_embed_size, hidden_dim),\n",
    "            nn.ReLU(),\n",
    "            nn.Dropout(dropout_rate),\n",
    "            nn.Linear(hidden_dim, hidden_dim // 2),\n",
    "            nn.ReLU(),\n",
    "            nn.Dropout(dropout_rate),\n",
    "            nn.Linear(hidden_dim // 2, num_classes)\n",
    "        )\n",
    "\n",
    "    def forward(self, image_features, audio_features):\n",
    "        # Concatenate features from both modalities\n",
    "        combined_features = torch.cat((image_features, audio_features), dim=1)\n",
    "        \n",
    "        # Pass through fusion network\n",
    "        output = self.fusion_network(combined_features)\n",
    "        \n",
    "        return output\n"
   ]
  },
  {
   "cell_type": "code",
   "execution_count": 106,
   "metadata": {},
   "outputs": [],
   "source": [
    "# Define the images model.\n",
    "class ImagesResNetANN(nn.Module):\n",
    "    def __init__(self, num_classes=47, dropout_rate=0.3):\n",
    "        super(ImagesResNetANN, self).__init__()\n",
    "        self.name = \"ImagesResNetANN_1\"\n",
    "        \n",
    "        # Fully connected layers\n",
    "        self.fc1 = nn.Linear(512, 128)\n",
    "        self.dropout = nn.Dropout(dropout_rate)\n",
    "        self.fc2 = nn.Linear(128, num_classes)\n",
    "        \n",
    "        # Activation function\n",
    "        self.relu = nn.ReLU()\n",
    "    \n",
    "    def forward(self, x):\n",
    "        # x shape: [batch_size, 1, 512]\n",
    "        # Flatten the feature map to [batch_size, 512]\n",
    "        x = x.view(x.size(0), -1)\n",
    "        x = self.fc1(x)\n",
    "        x = self.relu(x)\n",
    "        x = self.dropout(x)\n",
    "        x = self.fc2(x)\n",
    "        return x"
   ]
  },
  {
   "cell_type": "code",
   "execution_count": 107,
   "metadata": {},
   "outputs": [],
   "source": [
    "# Define the Audio CNN Model.\n",
    "class SpecCNN(nn.Module):\n",
    "    def __init__(self, num_classes=10, dropout_rate=0.3):\n",
    "        super(SpecCNN, self).__init__()\n",
    "        self.name = \"Spec_WAV10_CNN_5\"\n",
    "        \n",
    "        # Adding dropout with default rate of 0.3\n",
    "        self.dropout = nn.Dropout(dropout_rate)\n",
    "        \n",
    "        # Following the architecture from the paper\n",
    "        # Adjusted for input channels = 1 (grayscale)\n",
    "        # Conv Group 1: [1, 128, 128] -> [64, 64, 64]\n",
    "        self.conv_group1 = nn.Conv2d(1, 64, kernel_size=3, stride=2, padding=1)\n",
    "        self.bn_group1 = nn.BatchNorm2d(64)\n",
    "        \n",
    "        # Conv Group 2: [64, 64, 64] -> [128, 32, 32]\n",
    "        self.conv_group2 = nn.Conv2d(64, 128, kernel_size=3, stride=2, padding=1)\n",
    "        self.bn_group2 = nn.BatchNorm2d(128)\n",
    "        \n",
    "        # Conv Group 3: [128, 32, 32] -> [256, 16, 16]\n",
    "        self.conv_group3 = nn.Conv2d(128, 256, kernel_size=3, stride=2, padding=1)\n",
    "        self.bn_group3 = nn.BatchNorm2d(256)\n",
    "        \n",
    "        # Conv Group 4: [256, 16, 16] -> [512, 8, 8]\n",
    "        self.conv_group4 = nn.Conv2d(256, 512, kernel_size=3, stride=2, padding=1)\n",
    "        self.bn_group4 = nn.BatchNorm2d(512)\n",
    "        \n",
    "        # Conv Group 5: [512, 8, 8] -> [1024, 4, 4]\n",
    "        self.conv_group5 = nn.Conv2d(512, 1024, kernel_size=3, stride=2, padding=1)\n",
    "        self.bn_group5 = nn.BatchNorm2d(1024)\n",
    "        \n",
    "        # 1x1 Convolution: [1024, 4, 4] -> [2048, 4, 4]\n",
    "        self.conv_1x1 = nn.Conv2d(1024, 2048, kernel_size=1)\n",
    "        self.bn_1x1 = nn.BatchNorm2d(2048)\n",
    "        \n",
    "        # Global Average Pooling: [2048, 4, 4] -> [2048, 1, 1]\n",
    "        self.avg_pool = nn.AdaptiveAvgPool2d((1, 1))\n",
    "        \n",
    "        # Fully connected layer\n",
    "        self.fc = nn.Linear(2048, num_classes)\n",
    "        \n",
    "    def forward(self, x):\n",
    "        # Input: [batch_size, 1, 128, 128] (channels, height, width)\n",
    "        # No need to transform dimensions as input is already in correct format\n",
    "        \n",
    "        # Handle different input shapes (just in case)\n",
    "        if x.dim() == 3 and x.shape[0] == 1:  # If x has shape [1, H, W] (single grayscale image)\n",
    "            x = x.unsqueeze(0)  # Add batch dimension: [1, 1, H, W]\n",
    "            \n",
    "        # Apply convolutional layers with dropout\n",
    "        x = F.relu(self.bn_group1(self.conv_group1(x)))\n",
    "        x = self.dropout(x)\n",
    "        \n",
    "        x = F.relu(self.bn_group2(self.conv_group2(x)))\n",
    "        x = self.dropout(x)\n",
    "        \n",
    "        x = F.relu(self.bn_group3(self.conv_group3(x)))\n",
    "        x = self.dropout(x)\n",
    "        \n",
    "        x = F.relu(self.bn_group4(self.conv_group4(x)))\n",
    "        x = self.dropout(x)\n",
    "        \n",
    "        x = F.relu(self.bn_group5(self.conv_group5(x)))\n",
    "        x = self.dropout(x)\n",
    "        \n",
    "        x = F.relu(self.bn_1x1(self.conv_1x1(x)))\n",
    "        \n",
    "        # Global average pooling\n",
    "        x = self.avg_pool(x)\n",
    "        \n",
    "        # Flatten: [batch, 2048, 1, 1] -> [batch, 2048]\n",
    "        x = x.reshape(x.size(0), -1)  # Use reshape instead of view\n",
    "        \n",
    "        # Apply dropout before the final fully connected layer\n",
    "        x = self.dropout(x)\n",
    "        \n",
    "        # Fully connected layer\n",
    "        x = self.fc(x)\n",
    "        \n",
    "        return x"
   ]
  },
  {
   "cell_type": "code",
   "execution_count": 108,
   "metadata": {},
   "outputs": [],
   "source": [
    "# Function to load pre-trained models\n",
    "def load_pretrained_models(image_model_path, audio_model_path, device):\n",
    "    # Load image model\n",
    "    image_model = ImagesResNetANN()\n",
    "    image_model.load_state_dict(torch.load(image_model_path))\n",
    "    image_model.to(device)\n",
    "    image_model.eval()  # Set to evaluation mode\n",
    "    \n",
    "    # Load audio model\n",
    "    audio_model = SpecCNN(num_classes = 47)\n",
    "    audio_model.load_state_dict(torch.load(audio_model_path))\n",
    "    audio_model.to(device)\n",
    "    audio_model.eval()  # Set to evaluation mode\n",
    "    \n",
    "    return image_model, audio_model"
   ]
  },
  {
   "cell_type": "code",
   "execution_count": 109,
   "metadata": {},
   "outputs": [],
   "source": [
    "# Function to extract features from the pre-trained models\n",
    "def extract_features(image_model, audio_model, dataloader, device):\n",
    "    image_features_list = []\n",
    "    audio_features_list = []\n",
    "    labels_list = []\n",
    "\n",
    "    with torch.no_grad():\n",
    "        for batch in tqdm(dataloader):\n",
    "            images = batch['image'].to(device)\n",
    "            audio = batch['audio'].to(device)\n",
    "            labels = batch['label']\n",
    "            \n",
    "            # Extract features from the pre-trained models\n",
    "            image_features = image_model(images)\n",
    "            audio_features = audio_model(audio)\n",
    "            \n",
    "            image_features_list.append(image_features)\n",
    "            audio_features_list.append(audio_features)\n",
    "            labels_list.append(labels)\n",
    "    \n",
    "    return image_features_list, audio_features_list, labels_list"
   ]
  },
  {
   "cell_type": "code",
   "execution_count": 115,
   "metadata": {},
   "outputs": [],
   "source": [
    "def train_fusion_model(fusion_model, train_image_features, train_audio_features, train_labels,\n",
    "                       val_image_features, val_audio_features, val_labels,\n",
    "                       num_epochs, batch_size, learning_rate, device):\n",
    "    # Define loss function, optimizer, and learning rate scheduler.\n",
    "    criterion = nn.CrossEntropyLoss()\n",
    "    optimizer = optim.Adam(fusion_model.parameters(), lr=learning_rate)\n",
    "    scheduler = ReduceLROnPlateau(optimizer, 'min', patience=5, factor=0.5, verbose=True)\n",
    "    \n",
    "    # Training history lists.\n",
    "    train_losses = []\n",
    "    val_losses = []\n",
    "    train_accuracies = []\n",
    "    val_accuracies = []\n",
    "    \n",
    "    # Get the number of batches.\n",
    "    num_train_batches = len(train_image_features)\n",
    "    num_val_batches = len(val_image_features)\n",
    "    \n",
    "    # Compute the total number of samples by summing batch sizes.\n",
    "    num_train_samples = sum(batch.shape[0] for batch in train_image_features)\n",
    "    num_val_samples = sum(batch.shape[0] for batch in val_image_features)\n",
    "    \n",
    "    best_val_acc = 0.0\n",
    "    best_model_state = None\n",
    "    \n",
    "    for epoch in range(num_epochs):\n",
    "        # Training phase\n",
    "        fusion_model.train()\n",
    "        running_train_loss = 0.0\n",
    "        correct_train = 0\n",
    "        \n",
    "        for batch_idx in tqdm(range(num_train_batches), desc=f\"Epoch {epoch+1}/{num_epochs} - Training\"):\n",
    "            # Get batch data and move to the device.\n",
    "            batch_image_features = train_image_features[batch_idx].to(device)\n",
    "            batch_audio_features = train_audio_features[batch_idx].to(device)\n",
    "            batch_labels = train_labels[batch_idx].to(device)\n",
    "            \n",
    "            # Zero the gradients.\n",
    "            optimizer.zero_grad()\n",
    "            \n",
    "            # Forward pass.\n",
    "            outputs = fusion_model(batch_image_features, batch_audio_features)\n",
    "            \n",
    "            # Calculate loss.\n",
    "            loss = criterion(outputs, batch_labels)\n",
    "            \n",
    "            # Backward pass and update weights.\n",
    "            loss.backward()\n",
    "            optimizer.step()\n",
    "            \n",
    "            # Accumulate loss scaled by the current batch size.\n",
    "            running_train_loss += loss.item() * batch_labels.size(0)\n",
    "            \n",
    "            # Count correct predictions.\n",
    "            _, predicted = torch.max(outputs, 1)\n",
    "            correct_train += (predicted == batch_labels).sum().item()\n",
    "        \n",
    "        train_loss = running_train_loss / num_train_samples\n",
    "        train_accuracy = correct_train / num_train_samples\n",
    "        \n",
    "        # Validation phase (using batch iteration similar to training)\n",
    "        fusion_model.eval()\n",
    "        running_val_loss = 0.0\n",
    "        correct_val = 0\n",
    "        \n",
    "        with torch.no_grad():\n",
    "            for batch_idx in range(num_val_batches):\n",
    "                batch_image_features = val_image_features[batch_idx].to(device)\n",
    "                batch_audio_features = val_audio_features[batch_idx].to(device)\n",
    "                batch_labels = val_labels[batch_idx].to(device)\n",
    "                \n",
    "                outputs = fusion_model(batch_image_features, batch_audio_features)\n",
    "                loss = criterion(outputs, batch_labels)\n",
    "                running_val_loss += loss.item() * batch_labels.size(0)\n",
    "                \n",
    "                _, predicted = torch.max(outputs, 1)\n",
    "                correct_val += (predicted == batch_labels).sum().item()\n",
    "        \n",
    "        val_loss = running_val_loss / num_val_samples\n",
    "        val_accuracy = correct_val / num_val_samples\n",
    "        \n",
    "        # Step the scheduler using validation loss.\n",
    "        scheduler.step(val_loss)\n",
    "        \n",
    "        # Save statistics.\n",
    "        train_losses.append(train_loss)\n",
    "        val_losses.append(val_loss)\n",
    "        train_accuracies.append(train_accuracy)\n",
    "        val_accuracies.append(val_accuracy)\n",
    "        \n",
    "        print(f\"Epoch {epoch+1}/{num_epochs} - Train Loss: {train_loss:.4f}, Train Acc: {train_accuracy:.4f}, \"\n",
    "              f\"Val Loss: {val_loss:.4f}, Val Acc: {val_accuracy:.4f}\")\n",
    "        \n",
    "        # Save the best model state.\n",
    "        if val_accuracy > best_val_acc:\n",
    "            best_val_acc = val_accuracy\n",
    "            best_model_state = fusion_model.state_dict().copy()\n",
    "            print(f\"New best model with validation accuracy: {best_val_acc:.4f}\")\n",
    "    \n",
    "    # Load the best model state.\n",
    "    if best_model_state is not None:\n",
    "        fusion_model.load_state_dict(best_model_state)\n",
    "    \n",
    "    # Return the model along with the training history.\n",
    "    history = {\n",
    "        'train_loss': train_losses,\n",
    "        'val_loss': val_losses,\n",
    "        'train_acc': train_accuracies,\n",
    "        'val_acc': val_accuracies\n",
    "    }\n",
    "    \n",
    "    return fusion_model, history"
   ]
  },
  {
   "cell_type": "code",
   "execution_count": 122,
   "metadata": {},
   "outputs": [],
   "source": [
    "def evaluate_model(fusion_model, test_image_features, test_audio_features, test_labels, device):\n",
    "    fusion_model.eval()\n",
    "    total_samples = 0\n",
    "    correct_total = 0\n",
    "    class_correct = None\n",
    "    class_total = None\n",
    "\n",
    "    num_batches = len(test_image_features)\n",
    "    with torch.no_grad():\n",
    "        for batch_idx in range(num_batches):\n",
    "            # Get batch data and move to the device\n",
    "            batch_image_features = test_image_features[batch_idx].to(device)\n",
    "            batch_audio_features = test_audio_features[batch_idx].to(device)\n",
    "            batch_labels = test_labels[batch_idx].to(device)\n",
    "            \n",
    "            # Forward pass\n",
    "            outputs = fusion_model(batch_image_features, batch_audio_features)\n",
    "            _, predicted = torch.max(outputs, 1)\n",
    "            \n",
    "            # Update overall test accuracy\n",
    "            batch_size = batch_labels.size(0)\n",
    "            total_samples += batch_size\n",
    "            correct_total += (predicted == batch_labels).sum().item()\n",
    "            \n",
    "            # Initialize per-class counters on the first batch\n",
    "            if class_correct is None:\n",
    "                num_classes = outputs.size(1)\n",
    "                class_correct = [0] * num_classes\n",
    "                class_total = [0] * num_classes\n",
    "                \n",
    "            # Update per-class statistics\n",
    "            for i in range(batch_size):\n",
    "                label = batch_labels[i].item()\n",
    "                class_total[label] += 1\n",
    "                if predicted[i].item() == label:\n",
    "                    class_correct[label] += 1\n",
    "    \n",
    "    test_accuracy = correct_total / total_samples\n",
    "    class_accuracy = [class_correct[i] / (class_total[i] + 1e-8) for i in range(len(class_correct))]\n",
    "    return test_accuracy, class_accuracy\n",
    "\n",
    "# Function to plot training history\n",
    "def plot_training_history(history):\n",
    "    plt.figure(figsize=(12, 5))\n",
    "    \n",
    "    # Plot loss\n",
    "    plt.subplot(1, 2, 1)\n",
    "    plt.plot(history['train_loss'], label='Train Loss')\n",
    "    plt.plot(history['val_loss'], label='Validation Loss')\n",
    "    plt.xlabel('Epoch')\n",
    "    plt.ylabel('Loss')\n",
    "    plt.legend()\n",
    "    plt.title('Training and Validation Loss')\n",
    "    \n",
    "    # Plot accuracy\n",
    "    plt.subplot(1, 2, 2)\n",
    "    plt.plot(history['train_acc'], label='Train Accuracy')\n",
    "    plt.plot(history['val_acc'], label='Validation Accuracy')\n",
    "    plt.xlabel('Epoch')\n",
    "    plt.ylabel('Accuracy')\n",
    "    plt.legend()\n",
    "    plt.title('Training and Validation Accuracy')\n",
    "    \n",
    "    plt.tight_layout()\n",
    "    plt.savefig('fusion_model_training_history.png')\n",
    "    plt.show()\n"
   ]
  },
  {
   "cell_type": "code",
   "execution_count": 117,
   "metadata": {},
   "outputs": [
    {
     "name": "stdout",
     "output_type": "stream",
     "text": [
      "Using device: mps\n"
     ]
    }
   ],
   "source": [
    "\"\"\"FOR MACBOOK LOCAL SETUP USERS ONLY \"\"\"\n",
    "use_mps = True\n",
    "# Set device to GPU if available\n",
    "device = torch.device(\"mps\") if use_mps and torch.backends.mps.is_available() else torch.device(\"cpu\")\n",
    "print(f\"Using device: {device}\")"
   ]
  },
  {
   "cell_type": "code",
   "execution_count": 118,
   "metadata": {},
   "outputs": [
    {
     "name": "stderr",
     "output_type": "stream",
     "text": [
      "/var/folders/s8/7wj664s92gx_89p1xhcwbq800000gn/T/ipykernel_1239/3139589982.py:5: FutureWarning: You are using `torch.load` with `weights_only=False` (the current default value), which uses the default pickle module implicitly. It is possible to construct malicious pickle data which will execute arbitrary code during unpickling (See https://github.com/pytorch/pytorch/blob/main/SECURITY.md#untrusted-models for more details). In a future release, the default value for `weights_only` will be flipped to `True`. This limits the functions that could be executed during unpickling. Arbitrary objects will no longer be allowed to be loaded via this mode unless they are explicitly allowlisted by the user via `torch.serialization.add_safe_globals`. We recommend you start setting `weights_only=True` for any use case where you don't have full control of the loaded file. Please open an issue on GitHub for any issues related to this experimental feature.\n",
      "  image_model.load_state_dict(torch.load(image_model_path))\n",
      "/var/folders/s8/7wj664s92gx_89p1xhcwbq800000gn/T/ipykernel_1239/3139589982.py:11: FutureWarning: You are using `torch.load` with `weights_only=False` (the current default value), which uses the default pickle module implicitly. It is possible to construct malicious pickle data which will execute arbitrary code during unpickling (See https://github.com/pytorch/pytorch/blob/main/SECURITY.md#untrusted-models for more details). In a future release, the default value for `weights_only` will be flipped to `True`. This limits the functions that could be executed during unpickling. Arbitrary objects will no longer be allowed to be loaded via this mode unless they are explicitly allowlisted by the user via `torch.serialization.add_safe_globals`. We recommend you start setting `weights_only=True` for any use case where you don't have full control of the loaded file. Please open an issue on GitHub for any issues related to this experimental feature.\n",
      "  audio_model.load_state_dict(torch.load(audio_model_path))\n",
      "100%|██████████| 470/470 [00:07<00:00, 64.03it/s]\n",
      "100%|██████████| 117/117 [00:01<00:00, 65.94it/s]\n"
     ]
    }
   ],
   "source": [
    "# Now we run and train the model.\n",
    "\n",
    "# Load pre-trained models\n",
    "image_model_path = \"Models/best_images_model.pt\"\n",
    "audio_model_path = \"Models/T_0.9394_V_0.6755.pt\"\n",
    "image_model, audio_model = load_pretrained_models(image_model_path, audio_model_path, device)\n",
    "\n",
    "# Extract features from the training and validation sets\n",
    "train_image_features, train_audio_features, train_labels = extract_features(image_model, audio_model, train_loader, device)\n",
    "val_image_features, val_audio_features, val_labels = extract_features(image_model, audio_model, val_loader, device)"
   ]
  },
  {
   "cell_type": "code",
   "execution_count": 119,
   "metadata": {},
   "outputs": [
    {
     "name": "stdout",
     "output_type": "stream",
     "text": [
      "Train image features list shape: 470\n",
      "Train audio features list shape: 470\n",
      "Train labels list shape: 470\n",
      "Train image features shape: torch.Size([32, 47])\n",
      "Train audio features shape: torch.Size([32, 47])\n",
      "Train labels shape: torch.Size([32])\n",
      "Validation image features list shape: 117\n",
      "Validation audio features list shape: 117\n",
      "Validation labels list shape: 117\n",
      "Validation image features shape: torch.Size([32, 47])\n",
      "Validation audio features shape: torch.Size([32, 47])\n",
      "Validation labels shape: torch.Size([32])\n"
     ]
    }
   ],
   "source": [
    "print(f\"Train image features list shape: {len(train_image_features)}\")\n",
    "print(f\"Train audio features list shape: {len(train_audio_features)}\")\n",
    "print(f\"Train labels list shape: {len(train_labels)}\")\n",
    "\n",
    "print(f\"Train image features shape: {train_image_features[0].shape}\")\n",
    "print(f\"Train audio features shape: {train_audio_features[0].shape}\")\n",
    "print(f\"Train labels shape: {train_labels[0].shape}\")\n",
    "\n",
    "print(f\"Validation image features list shape: {len(val_image_features)}\")\n",
    "print(f\"Validation audio features list shape: {len(val_audio_features)}\")\n",
    "print(f\"Validation labels list shape: {len(val_labels)}\")\n",
    "\n",
    "print(f\"Validation image features shape: {val_image_features[0].shape}\")\n",
    "print(f\"Validation audio features shape: {val_audio_features[0].shape}\")\n",
    "print(f\"Validation labels shape: {val_labels[0].shape}\")"
   ]
  },
  {
   "cell_type": "code",
   "execution_count": 125,
   "metadata": {},
   "outputs": [
    {
     "name": "stderr",
     "output_type": "stream",
     "text": [
      "/opt/anaconda3/envs/ECE421/lib/python3.10/site-packages/torch/optim/lr_scheduler.py:62: UserWarning: The verbose parameter is deprecated. Please use get_last_lr() to access the learning rate.\n",
      "  warnings.warn(\n",
      "Epoch 1/50 - Training: 100%|██████████| 470/470 [00:01<00:00, 315.86it/s]\n"
     ]
    },
    {
     "name": "stdout",
     "output_type": "stream",
     "text": [
      "Epoch 1/50 - Train Loss: 2.1660, Train Acc: 0.4294, Val Loss: 0.6105, Val Acc: 0.8723\n",
      "New best model with validation accuracy: 0.8723\n"
     ]
    },
    {
     "name": "stderr",
     "output_type": "stream",
     "text": [
      "Epoch 2/50 - Training: 100%|██████████| 470/470 [00:01<00:00, 376.07it/s]\n"
     ]
    },
    {
     "name": "stdout",
     "output_type": "stream",
     "text": [
      "Epoch 2/50 - Train Loss: 0.7227, Train Acc: 0.7852, Val Loss: 0.3238, Val Acc: 0.9217\n",
      "New best model with validation accuracy: 0.9217\n"
     ]
    },
    {
     "name": "stderr",
     "output_type": "stream",
     "text": [
      "Epoch 3/50 - Training: 100%|██████████| 470/470 [00:01<00:00, 388.50it/s]\n"
     ]
    },
    {
     "name": "stdout",
     "output_type": "stream",
     "text": [
      "Epoch 3/50 - Train Loss: 0.5009, Train Acc: 0.8477, Val Loss: 0.2506, Val Acc: 0.9346\n",
      "New best model with validation accuracy: 0.9346\n"
     ]
    },
    {
     "name": "stderr",
     "output_type": "stream",
     "text": [
      "Epoch 4/50 - Training: 100%|██████████| 470/470 [00:01<00:00, 384.17it/s]\n"
     ]
    },
    {
     "name": "stdout",
     "output_type": "stream",
     "text": [
      "Epoch 4/50 - Train Loss: 0.3872, Train Acc: 0.8803, Val Loss: 0.2031, Val Acc: 0.9460\n",
      "New best model with validation accuracy: 0.9460\n"
     ]
    },
    {
     "name": "stderr",
     "output_type": "stream",
     "text": [
      "Epoch 5/50 - Training: 100%|██████████| 470/470 [00:01<00:00, 340.69it/s]\n"
     ]
    },
    {
     "name": "stdout",
     "output_type": "stream",
     "text": [
      "Epoch 5/50 - Train Loss: 0.3231, Train Acc: 0.8991, Val Loss: 0.1724, Val Acc: 0.9509\n",
      "New best model with validation accuracy: 0.9509\n"
     ]
    },
    {
     "name": "stderr",
     "output_type": "stream",
     "text": [
      "Epoch 6/50 - Training: 100%|██████████| 470/470 [00:01<00:00, 370.62it/s]\n"
     ]
    },
    {
     "name": "stdout",
     "output_type": "stream",
     "text": [
      "Epoch 6/50 - Train Loss: 0.2822, Train Acc: 0.9098, Val Loss: 0.1533, Val Acc: 0.9567\n",
      "New best model with validation accuracy: 0.9567\n"
     ]
    },
    {
     "name": "stderr",
     "output_type": "stream",
     "text": [
      "Epoch 7/50 - Training: 100%|██████████| 470/470 [00:01<00:00, 388.77it/s]\n"
     ]
    },
    {
     "name": "stdout",
     "output_type": "stream",
     "text": [
      "Epoch 7/50 - Train Loss: 0.2394, Train Acc: 0.9269, Val Loss: 0.1335, Val Acc: 0.9615\n",
      "New best model with validation accuracy: 0.9615\n"
     ]
    },
    {
     "name": "stderr",
     "output_type": "stream",
     "text": [
      "Epoch 8/50 - Training: 100%|██████████| 470/470 [00:01<00:00, 381.10it/s]\n"
     ]
    },
    {
     "name": "stdout",
     "output_type": "stream",
     "text": [
      "Epoch 8/50 - Train Loss: 0.2200, Train Acc: 0.9309, Val Loss: 0.1250, Val Acc: 0.9639\n",
      "New best model with validation accuracy: 0.9639\n"
     ]
    },
    {
     "name": "stderr",
     "output_type": "stream",
     "text": [
      "Epoch 9/50 - Training: 100%|██████████| 470/470 [00:01<00:00, 339.36it/s]\n"
     ]
    },
    {
     "name": "stdout",
     "output_type": "stream",
     "text": [
      "Epoch 9/50 - Train Loss: 0.1989, Train Acc: 0.9370, Val Loss: 0.1172, Val Acc: 0.9666\n",
      "New best model with validation accuracy: 0.9666\n"
     ]
    },
    {
     "name": "stderr",
     "output_type": "stream",
     "text": [
      "Epoch 10/50 - Training: 100%|██████████| 470/470 [00:01<00:00, 383.78it/s]\n"
     ]
    },
    {
     "name": "stdout",
     "output_type": "stream",
     "text": [
      "Epoch 10/50 - Train Loss: 0.1789, Train Acc: 0.9441, Val Loss: 0.1075, Val Acc: 0.9685\n",
      "New best model with validation accuracy: 0.9685\n"
     ]
    },
    {
     "name": "stderr",
     "output_type": "stream",
     "text": [
      "Epoch 11/50 - Training: 100%|██████████| 470/470 [00:01<00:00, 380.35it/s]\n"
     ]
    },
    {
     "name": "stdout",
     "output_type": "stream",
     "text": [
      "Epoch 11/50 - Train Loss: 0.1654, Train Acc: 0.9483, Val Loss: 0.0997, Val Acc: 0.9712\n",
      "New best model with validation accuracy: 0.9712\n"
     ]
    },
    {
     "name": "stderr",
     "output_type": "stream",
     "text": [
      "Epoch 12/50 - Training: 100%|██████████| 470/470 [00:01<00:00, 379.06it/s]\n"
     ]
    },
    {
     "name": "stdout",
     "output_type": "stream",
     "text": [
      "Epoch 12/50 - Train Loss: 0.1539, Train Acc: 0.9516, Val Loss: 0.0877, Val Acc: 0.9733\n",
      "New best model with validation accuracy: 0.9733\n"
     ]
    },
    {
     "name": "stderr",
     "output_type": "stream",
     "text": [
      "Epoch 13/50 - Training: 100%|██████████| 470/470 [00:01<00:00, 346.83it/s]\n"
     ]
    },
    {
     "name": "stdout",
     "output_type": "stream",
     "text": [
      "Epoch 13/50 - Train Loss: 0.1444, Train Acc: 0.9537, Val Loss: 0.0858, Val Acc: 0.9736\n",
      "New best model with validation accuracy: 0.9736\n"
     ]
    },
    {
     "name": "stderr",
     "output_type": "stream",
     "text": [
      "Epoch 14/50 - Training: 100%|██████████| 470/470 [00:01<00:00, 300.19it/s]\n"
     ]
    },
    {
     "name": "stdout",
     "output_type": "stream",
     "text": [
      "Epoch 14/50 - Train Loss: 0.1296, Train Acc: 0.9591, Val Loss: 0.0812, Val Acc: 0.9768\n",
      "New best model with validation accuracy: 0.9768\n"
     ]
    },
    {
     "name": "stderr",
     "output_type": "stream",
     "text": [
      "Epoch 15/50 - Training: 100%|██████████| 470/470 [00:01<00:00, 304.27it/s]\n"
     ]
    },
    {
     "name": "stdout",
     "output_type": "stream",
     "text": [
      "Epoch 15/50 - Train Loss: 0.1209, Train Acc: 0.9622, Val Loss: 0.0732, Val Acc: 0.9781\n",
      "New best model with validation accuracy: 0.9781\n"
     ]
    },
    {
     "name": "stderr",
     "output_type": "stream",
     "text": [
      "Epoch 16/50 - Training: 100%|██████████| 470/470 [00:01<00:00, 302.87it/s]\n"
     ]
    },
    {
     "name": "stdout",
     "output_type": "stream",
     "text": [
      "Epoch 16/50 - Train Loss: 0.1133, Train Acc: 0.9644, Val Loss: 0.0690, Val Acc: 0.9805\n",
      "New best model with validation accuracy: 0.9805\n"
     ]
    },
    {
     "name": "stderr",
     "output_type": "stream",
     "text": [
      "Epoch 17/50 - Training: 100%|██████████| 470/470 [00:01<00:00, 281.25it/s]\n"
     ]
    },
    {
     "name": "stdout",
     "output_type": "stream",
     "text": [
      "Epoch 17/50 - Train Loss: 0.1043, Train Acc: 0.9679, Val Loss: 0.0656, Val Acc: 0.9794\n"
     ]
    },
    {
     "name": "stderr",
     "output_type": "stream",
     "text": [
      "Epoch 18/50 - Training: 100%|██████████| 470/470 [00:01<00:00, 300.82it/s]\n"
     ]
    },
    {
     "name": "stdout",
     "output_type": "stream",
     "text": [
      "Epoch 18/50 - Train Loss: 0.0982, Train Acc: 0.9693, Val Loss: 0.0639, Val Acc: 0.9789\n"
     ]
    },
    {
     "name": "stderr",
     "output_type": "stream",
     "text": [
      "Epoch 19/50 - Training: 100%|██████████| 470/470 [00:01<00:00, 321.67it/s]\n"
     ]
    },
    {
     "name": "stdout",
     "output_type": "stream",
     "text": [
      "Epoch 19/50 - Train Loss: 0.0927, Train Acc: 0.9711, Val Loss: 0.0570, Val Acc: 0.9842\n",
      "New best model with validation accuracy: 0.9842\n"
     ]
    },
    {
     "name": "stderr",
     "output_type": "stream",
     "text": [
      "Epoch 20/50 - Training: 100%|██████████| 470/470 [00:01<00:00, 353.91it/s]\n"
     ]
    },
    {
     "name": "stdout",
     "output_type": "stream",
     "text": [
      "Epoch 20/50 - Train Loss: 0.0854, Train Acc: 0.9731, Val Loss: 0.0536, Val Acc: 0.9850\n",
      "New best model with validation accuracy: 0.9850\n"
     ]
    },
    {
     "name": "stderr",
     "output_type": "stream",
     "text": [
      "Epoch 21/50 - Training: 100%|██████████| 470/470 [00:01<00:00, 340.86it/s]\n"
     ]
    },
    {
     "name": "stdout",
     "output_type": "stream",
     "text": [
      "Epoch 21/50 - Train Loss: 0.0800, Train Acc: 0.9761, Val Loss: 0.0509, Val Acc: 0.9840\n"
     ]
    },
    {
     "name": "stderr",
     "output_type": "stream",
     "text": [
      "Epoch 22/50 - Training: 100%|██████████| 470/470 [00:01<00:00, 319.45it/s]\n"
     ]
    },
    {
     "name": "stdout",
     "output_type": "stream",
     "text": [
      "Epoch 22/50 - Train Loss: 0.0784, Train Acc: 0.9759, Val Loss: 0.0518, Val Acc: 0.9834\n"
     ]
    },
    {
     "name": "stderr",
     "output_type": "stream",
     "text": [
      "Epoch 23/50 - Training: 100%|██████████| 470/470 [00:01<00:00, 294.04it/s]\n"
     ]
    },
    {
     "name": "stdout",
     "output_type": "stream",
     "text": [
      "Epoch 23/50 - Train Loss: 0.0721, Train Acc: 0.9790, Val Loss: 0.0450, Val Acc: 0.9856\n",
      "New best model with validation accuracy: 0.9856\n"
     ]
    },
    {
     "name": "stderr",
     "output_type": "stream",
     "text": [
      "Epoch 24/50 - Training: 100%|██████████| 470/470 [00:01<00:00, 320.54it/s]\n"
     ]
    },
    {
     "name": "stdout",
     "output_type": "stream",
     "text": [
      "Epoch 24/50 - Train Loss: 0.0675, Train Acc: 0.9802, Val Loss: 0.0422, Val Acc: 0.9866\n",
      "New best model with validation accuracy: 0.9866\n"
     ]
    },
    {
     "name": "stderr",
     "output_type": "stream",
     "text": [
      "Epoch 25/50 - Training: 100%|██████████| 470/470 [00:01<00:00, 325.16it/s]\n"
     ]
    },
    {
     "name": "stdout",
     "output_type": "stream",
     "text": [
      "Epoch 25/50 - Train Loss: 0.0619, Train Acc: 0.9830, Val Loss: 0.0431, Val Acc: 0.9866\n"
     ]
    },
    {
     "name": "stderr",
     "output_type": "stream",
     "text": [
      "Epoch 26/50 - Training: 100%|██████████| 470/470 [00:01<00:00, 313.67it/s]\n"
     ]
    },
    {
     "name": "stdout",
     "output_type": "stream",
     "text": [
      "Epoch 26/50 - Train Loss: 0.0582, Train Acc: 0.9824, Val Loss: 0.0438, Val Acc: 0.9861\n"
     ]
    },
    {
     "name": "stderr",
     "output_type": "stream",
     "text": [
      "Epoch 27/50 - Training: 100%|██████████| 470/470 [00:01<00:00, 324.72it/s]\n"
     ]
    },
    {
     "name": "stdout",
     "output_type": "stream",
     "text": [
      "Epoch 27/50 - Train Loss: 0.0600, Train Acc: 0.9823, Val Loss: 0.0392, Val Acc: 0.9874\n",
      "New best model with validation accuracy: 0.9874\n"
     ]
    },
    {
     "name": "stderr",
     "output_type": "stream",
     "text": [
      "Epoch 28/50 - Training: 100%|██████████| 470/470 [00:01<00:00, 339.31it/s]\n"
     ]
    },
    {
     "name": "stdout",
     "output_type": "stream",
     "text": [
      "Epoch 28/50 - Train Loss: 0.0552, Train Acc: 0.9816, Val Loss: 0.0381, Val Acc: 0.9885\n",
      "New best model with validation accuracy: 0.9885\n"
     ]
    },
    {
     "name": "stderr",
     "output_type": "stream",
     "text": [
      "Epoch 29/50 - Training: 100%|██████████| 470/470 [00:01<00:00, 374.66it/s]\n"
     ]
    },
    {
     "name": "stdout",
     "output_type": "stream",
     "text": [
      "Epoch 29/50 - Train Loss: 0.0531, Train Acc: 0.9838, Val Loss: 0.0427, Val Acc: 0.9872\n"
     ]
    },
    {
     "name": "stderr",
     "output_type": "stream",
     "text": [
      "Epoch 30/50 - Training: 100%|██████████| 470/470 [00:01<00:00, 372.96it/s]\n"
     ]
    },
    {
     "name": "stdout",
     "output_type": "stream",
     "text": [
      "Epoch 30/50 - Train Loss: 0.0489, Train Acc: 0.9862, Val Loss: 0.0373, Val Acc: 0.9872\n"
     ]
    },
    {
     "name": "stderr",
     "output_type": "stream",
     "text": [
      "Epoch 31/50 - Training: 100%|██████████| 470/470 [00:01<00:00, 367.21it/s]\n"
     ]
    },
    {
     "name": "stdout",
     "output_type": "stream",
     "text": [
      "Epoch 31/50 - Train Loss: 0.0437, Train Acc: 0.9868, Val Loss: 0.0351, Val Acc: 0.9899\n",
      "New best model with validation accuracy: 0.9899\n"
     ]
    },
    {
     "name": "stderr",
     "output_type": "stream",
     "text": [
      "Epoch 32/50 - Training: 100%|██████████| 470/470 [00:01<00:00, 327.85it/s]\n"
     ]
    },
    {
     "name": "stdout",
     "output_type": "stream",
     "text": [
      "Epoch 32/50 - Train Loss: 0.0497, Train Acc: 0.9843, Val Loss: 0.0344, Val Acc: 0.9896\n"
     ]
    },
    {
     "name": "stderr",
     "output_type": "stream",
     "text": [
      "Epoch 33/50 - Training: 100%|██████████| 470/470 [00:01<00:00, 306.03it/s]\n"
     ]
    },
    {
     "name": "stdout",
     "output_type": "stream",
     "text": [
      "Epoch 33/50 - Train Loss: 0.0446, Train Acc: 0.9856, Val Loss: 0.0357, Val Acc: 0.9853\n"
     ]
    },
    {
     "name": "stderr",
     "output_type": "stream",
     "text": [
      "Epoch 34/50 - Training: 100%|██████████| 470/470 [00:01<00:00, 322.91it/s]\n"
     ]
    },
    {
     "name": "stdout",
     "output_type": "stream",
     "text": [
      "Epoch 34/50 - Train Loss: 0.0420, Train Acc: 0.9880, Val Loss: 0.0295, Val Acc: 0.9896\n"
     ]
    },
    {
     "name": "stderr",
     "output_type": "stream",
     "text": [
      "Epoch 35/50 - Training: 100%|██████████| 470/470 [00:01<00:00, 348.30it/s]\n"
     ]
    },
    {
     "name": "stdout",
     "output_type": "stream",
     "text": [
      "Epoch 35/50 - Train Loss: 0.0370, Train Acc: 0.9888, Val Loss: 0.0290, Val Acc: 0.9901\n",
      "New best model with validation accuracy: 0.9901\n"
     ]
    },
    {
     "name": "stderr",
     "output_type": "stream",
     "text": [
      "Epoch 36/50 - Training: 100%|██████████| 470/470 [00:01<00:00, 348.53it/s]\n"
     ]
    },
    {
     "name": "stdout",
     "output_type": "stream",
     "text": [
      "Epoch 36/50 - Train Loss: 0.0394, Train Acc: 0.9880, Val Loss: 0.0292, Val Acc: 0.9912\n",
      "New best model with validation accuracy: 0.9912\n"
     ]
    },
    {
     "name": "stderr",
     "output_type": "stream",
     "text": [
      "Epoch 37/50 - Training: 100%|██████████| 470/470 [00:01<00:00, 314.54it/s]\n"
     ]
    },
    {
     "name": "stdout",
     "output_type": "stream",
     "text": [
      "Epoch 37/50 - Train Loss: 0.0353, Train Acc: 0.9905, Val Loss: 0.0300, Val Acc: 0.9912\n"
     ]
    },
    {
     "name": "stderr",
     "output_type": "stream",
     "text": [
      "Epoch 38/50 - Training: 100%|██████████| 470/470 [00:01<00:00, 342.95it/s]\n"
     ]
    },
    {
     "name": "stdout",
     "output_type": "stream",
     "text": [
      "Epoch 38/50 - Train Loss: 0.0367, Train Acc: 0.9892, Val Loss: 0.0268, Val Acc: 0.9904\n"
     ]
    },
    {
     "name": "stderr",
     "output_type": "stream",
     "text": [
      "Epoch 39/50 - Training: 100%|██████████| 470/470 [00:01<00:00, 277.23it/s]\n"
     ]
    },
    {
     "name": "stdout",
     "output_type": "stream",
     "text": [
      "Epoch 39/50 - Train Loss: 0.0343, Train Acc: 0.9898, Val Loss: 0.0262, Val Acc: 0.9923\n",
      "New best model with validation accuracy: 0.9923\n"
     ]
    },
    {
     "name": "stderr",
     "output_type": "stream",
     "text": [
      "Epoch 40/50 - Training: 100%|██████████| 470/470 [00:02<00:00, 184.16it/s]\n"
     ]
    },
    {
     "name": "stdout",
     "output_type": "stream",
     "text": [
      "Epoch 40/50 - Train Loss: 0.0319, Train Acc: 0.9906, Val Loss: 0.0229, Val Acc: 0.9923\n"
     ]
    },
    {
     "name": "stderr",
     "output_type": "stream",
     "text": [
      "Epoch 41/50 - Training: 100%|██████████| 470/470 [00:01<00:00, 320.44it/s]\n"
     ]
    },
    {
     "name": "stdout",
     "output_type": "stream",
     "text": [
      "Epoch 41/50 - Train Loss: 0.0304, Train Acc: 0.9916, Val Loss: 0.0223, Val Acc: 0.9944\n",
      "New best model with validation accuracy: 0.9944\n"
     ]
    },
    {
     "name": "stderr",
     "output_type": "stream",
     "text": [
      "Epoch 42/50 - Training: 100%|██████████| 470/470 [00:01<00:00, 338.16it/s]\n"
     ]
    },
    {
     "name": "stdout",
     "output_type": "stream",
     "text": [
      "Epoch 42/50 - Train Loss: 0.0298, Train Acc: 0.9918, Val Loss: 0.0219, Val Acc: 0.9925\n"
     ]
    },
    {
     "name": "stderr",
     "output_type": "stream",
     "text": [
      "Epoch 43/50 - Training: 100%|██████████| 470/470 [00:01<00:00, 361.17it/s]\n"
     ]
    },
    {
     "name": "stdout",
     "output_type": "stream",
     "text": [
      "Epoch 43/50 - Train Loss: 0.0277, Train Acc: 0.9918, Val Loss: 0.0261, Val Acc: 0.9917\n"
     ]
    },
    {
     "name": "stderr",
     "output_type": "stream",
     "text": [
      "Epoch 44/50 - Training: 100%|██████████| 470/470 [00:01<00:00, 368.34it/s]\n"
     ]
    },
    {
     "name": "stdout",
     "output_type": "stream",
     "text": [
      "Epoch 44/50 - Train Loss: 0.0283, Train Acc: 0.9918, Val Loss: 0.0244, Val Acc: 0.9931\n"
     ]
    },
    {
     "name": "stderr",
     "output_type": "stream",
     "text": [
      "Epoch 45/50 - Training: 100%|██████████| 470/470 [00:01<00:00, 371.78it/s]\n"
     ]
    },
    {
     "name": "stdout",
     "output_type": "stream",
     "text": [
      "Epoch 45/50 - Train Loss: 0.0256, Train Acc: 0.9916, Val Loss: 0.0239, Val Acc: 0.9923\n"
     ]
    },
    {
     "name": "stderr",
     "output_type": "stream",
     "text": [
      "Epoch 46/50 - Training: 100%|██████████| 470/470 [00:01<00:00, 348.95it/s]\n"
     ]
    },
    {
     "name": "stdout",
     "output_type": "stream",
     "text": [
      "Epoch 46/50 - Train Loss: 0.0268, Train Acc: 0.9924, Val Loss: 0.0244, Val Acc: 0.9917\n"
     ]
    },
    {
     "name": "stderr",
     "output_type": "stream",
     "text": [
      "Epoch 47/50 - Training: 100%|██████████| 470/470 [00:01<00:00, 324.44it/s]\n"
     ]
    },
    {
     "name": "stdout",
     "output_type": "stream",
     "text": [
      "Epoch 47/50 - Train Loss: 0.0259, Train Acc: 0.9915, Val Loss: 0.0250, Val Acc: 0.9923\n"
     ]
    },
    {
     "name": "stderr",
     "output_type": "stream",
     "text": [
      "Epoch 48/50 - Training: 100%|██████████| 470/470 [00:01<00:00, 353.71it/s]\n"
     ]
    },
    {
     "name": "stdout",
     "output_type": "stream",
     "text": [
      "Epoch 48/50 - Train Loss: 0.0261, Train Acc: 0.9924, Val Loss: 0.0213, Val Acc: 0.9920\n"
     ]
    },
    {
     "name": "stderr",
     "output_type": "stream",
     "text": [
      "Epoch 49/50 - Training: 100%|██████████| 470/470 [00:01<00:00, 300.63it/s]\n"
     ]
    },
    {
     "name": "stdout",
     "output_type": "stream",
     "text": [
      "Epoch 49/50 - Train Loss: 0.0236, Train Acc: 0.9932, Val Loss: 0.0200, Val Acc: 0.9947\n",
      "New best model with validation accuracy: 0.9947\n"
     ]
    },
    {
     "name": "stderr",
     "output_type": "stream",
     "text": [
      "Epoch 50/50 - Training: 100%|██████████| 470/470 [00:01<00:00, 364.43it/s]\n"
     ]
    },
    {
     "name": "stdout",
     "output_type": "stream",
     "text": [
      "Epoch 50/50 - Train Loss: 0.0216, Train Acc: 0.9941, Val Loss: 0.0195, Val Acc: 0.9933\n"
     ]
    },
    {
     "data": {
      "image/png": "[encoded data removed]",
      "text/plain": [
       "<Figure size 1200x500 with 2 Axes>"
      ]
     },
     "metadata": {},
     "output_type": "display_data"
    }
   ],
   "source": [
    "# Now we train the fusion model.\n",
    "num_classes = 47\n",
    "num_epochs = 50\n",
    "learning_rate = 0.0001\n",
    "dropout_rate = 0.3\n",
    "image_embed_size = train_image_features[0].shape[1]\n",
    "audio_embed_size = train_audio_features[0].shape[1]\n",
    "hidden_dim = 512\n",
    "# Create the fusion model\n",
    "fusion_model = FusionANN(image_embed_size, audio_embed_size, hidden_dim, num_classes, dropout_rate)\n",
    "fusion_model.to(device)\n",
    "# Train the model.\n",
    "_, history = train_fusion_model(fusion_model, \n",
    "                                train_image_features, \n",
    "                                train_audio_features, \n",
    "                                train_labels, \n",
    "                                val_image_features, \n",
    "                                val_audio_features, \n",
    "                                val_labels, \n",
    "                                num_epochs=num_epochs, \n",
    "                                batch_size=batch_size, \n",
    "                                learning_rate=learning_rate, \n",
    "                                device=device)\n",
    "# Plot the training history\n",
    "plot_training_history(history)\n"
   ]
  },
  {
   "cell_type": "code",
   "execution_count": 126,
   "metadata": {},
   "outputs": [
    {
     "name": "stderr",
     "output_type": "stream",
     "text": [
      "100%|██████████| 146/146 [00:02<00:00, 67.19it/s]\n"
     ]
    },
    {
     "name": "stdout",
     "output_type": "stream",
     "text": [
      "Test Accuracy: 0.9953\n"
     ]
    }
   ],
   "source": [
    "# Test the model on the test set.\n",
    "test_image_features, test_audio_features, test_labels = extract_features(image_model, audio_model, test_loader, device)\n",
    "test_accuracy, class_accuracy = evaluate_model(fusion_model, test_image_features, test_audio_features, test_labels, device)\n",
    "print(f\"Test Accuracy: {test_accuracy:.4f}\")"
   ]
  }
 ],
 "metadata": {
  "kernelspec": {
   "display_name": "ECE421",
   "language": "python",
   "name": "python3"
  },
  "language_info": {
   "codemirror_mode": {
    "name": "ipython",
    "version": 3
   },
   "file_extension": ".py",
   "mimetype": "text/x-python",
   "name": "python",
   "nbconvert_exporter": "python",
   "pygments_lexer": "ipython3",
   "version": "3.10.13"
  }
 },
 "nbformat": 4,
 "nbformat_minor": 2
}
