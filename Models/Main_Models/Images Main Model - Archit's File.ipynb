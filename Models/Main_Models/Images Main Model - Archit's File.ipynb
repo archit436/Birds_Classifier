{
 "cells": [
  {
   "cell_type": "markdown",
   "metadata": {},
   "source": [
    "0. Setup\n"
   ]
  },
  {
   "cell_type": "code",
   "execution_count": 1,
   "metadata": {},
   "outputs": [],
   "source": [
    "# Start by importing the relevant libraries.\n",
    "# Copied from Archit's Audio Main Model.\n",
    "import os\n",
    "import glob\n",
    "import pandas as pd\n",
    "import numpy as np\n",
    "import pickle\n",
    "import time\n",
    "import torch\n",
    "import torch.nn as nn\n",
    "import torch.nn.functional as F\n",
    "import torch.nn.init as init\n",
    "import torch.optim as optim\n",
    "import torchvision.models\n",
    "from torch.optim.lr_scheduler import ReduceLROnPlateau\n",
    "import torchaudio\n",
    "import torchaudio.transforms as T\n",
    "from collections import Counter\n",
    "from torch.utils.data import TensorDataset, DataLoader, ConcatDataset, Subset, Dataset\n",
    "from sklearn.model_selection import StratifiedShuffleSplit\n",
    "import matplotlib.pyplot as plt\n",
    "from sklearn.metrics import accuracy_score, classification_report, confusion_matrix\n",
    "from sklearn.preprocessing import LabelEncoder"
   ]
  },
  {
   "cell_type": "markdown",
   "metadata": {},
   "source": [
    "1. Data Processing\n"
   ]
  },
  {
   "cell_type": "code",
   "execution_count": 2,
   "metadata": {},
   "outputs": [
    {
     "name": "stderr",
     "output_type": "stream",
     "text": [
      "/var/folders/s8/7wj664s92gx_89p1xhcwbq800000gn/T/ipykernel_13484/1541596894.py:2: FutureWarning: You are using `torch.load` with `weights_only=False` (the current default value), which uses the default pickle module implicitly. It is possible to construct malicious pickle data which will execute arbitrary code during unpickling (See https://github.com/pytorch/pytorch/blob/main/SECURITY.md#untrusted-models for more details). In a future release, the default value for `weights_only` will be flipped to `True`. This limits the functions that could be executed during unpickling. Arbitrary objects will no longer be allowed to be loaded via this mode unless they are explicitly allowlisted by the user via `torch.serialization.add_safe_globals`. We recommend you start setting `weights_only=True` for any use case where you don't have full control of the loaded file. Please open an issue on GitHub for any issues related to this experimental feature.\n",
      "  images_overall_dataset = torch.load('../../Data/bird_dataset.pt')\n"
     ]
    }
   ],
   "source": [
    "# Import the dataset from the .pt file.\n",
    "images_overall_dataset = torch.load('../../Data/bird_dataset.pt')"
   ]
  },
  {
   "cell_type": "code",
   "execution_count": 3,
   "metadata": {},
   "outputs": [
    {
     "name": "stdout",
     "output_type": "stream",
     "text": [
      "Shape of images_features:  torch.Size([12325, 3, 224, 224])\n",
      "Shape of images_labels:  torch.Size([12325])\n"
     ]
    }
   ],
   "source": [
    "# Extract the features and labels from the dataset.\n",
    "images_features = images_overall_dataset['images']\n",
    "images_labels = images_overall_dataset['labels']\n",
    "\n",
    "print(\"Shape of images_features: \", images_features.shape)\n",
    "print(\"Shape of images_labels: \", images_labels.shape)"
   ]
  },
  {
   "cell_type": "code",
   "execution_count": 4,
   "metadata": {},
   "outputs": [
    {
     "data": {
      "text/html": [
       "<div>\n",
       "<style scoped>\n",
       "    .dataframe tbody tr th:only-of-type {\n",
       "        vertical-align: middle;\n",
       "    }\n",
       "\n",
       "    .dataframe tbody tr th {\n",
       "        vertical-align: top;\n",
       "    }\n",
       "\n",
       "    .dataframe thead th {\n",
       "        text-align: right;\n",
       "    }\n",
       "</style>\n",
       "<table border=\"1\" class=\"dataframe\">\n",
       "  <thead>\n",
       "    <tr style=\"text-align: right;\">\n",
       "      <th></th>\n",
       "      <th>Index</th>\n",
       "      <th>Class ID</th>\n",
       "      <th>Images Count</th>\n",
       "      <th>XC Recordings Count</th>\n",
       "      <th>Species Name</th>\n",
       "      <th>XC Species Name</th>\n",
       "    </tr>\n",
       "  </thead>\n",
       "  <tbody>\n",
       "    <tr>\n",
       "      <th>0</th>\n",
       "      <td>0</td>\n",
       "      <td>315</td>\n",
       "      <td>116</td>\n",
       "      <td>169</td>\n",
       "      <td>Gadwall (Breeding male)</td>\n",
       "      <td>Gadwall</td>\n",
       "    </tr>\n",
       "    <tr>\n",
       "      <th>1</th>\n",
       "      <td>1</td>\n",
       "      <td>317</td>\n",
       "      <td>120</td>\n",
       "      <td>243</td>\n",
       "      <td>Mallard (Breeding male)</td>\n",
       "      <td>Mallard</td>\n",
       "    </tr>\n",
       "    <tr>\n",
       "      <th>2</th>\n",
       "      <td>2</td>\n",
       "      <td>352</td>\n",
       "      <td>120</td>\n",
       "      <td>283</td>\n",
       "      <td>Black-crowned Night-Heron (Adult)</td>\n",
       "      <td>Black-crowned Night Heron</td>\n",
       "    </tr>\n",
       "    <tr>\n",
       "      <th>3</th>\n",
       "      <td>3</td>\n",
       "      <td>400</td>\n",
       "      <td>117</td>\n",
       "      <td>335</td>\n",
       "      <td>Herring Gull (Adult)</td>\n",
       "      <td>Herring Gull</td>\n",
       "    </tr>\n",
       "    <tr>\n",
       "      <th>4</th>\n",
       "      <td>4</td>\n",
       "      <td>450</td>\n",
       "      <td>120</td>\n",
       "      <td>365</td>\n",
       "      <td>Common Tern</td>\n",
       "      <td>Common Tern</td>\n",
       "    </tr>\n",
       "  </tbody>\n",
       "</table>\n",
       "</div>"
      ],
      "text/plain": [
       "   Index  Class ID  Images Count  XC Recordings Count  \\\n",
       "0      0       315           116                  169   \n",
       "1      1       317           120                  243   \n",
       "2      2       352           120                  283   \n",
       "3      3       400           117                  335   \n",
       "4      4       450           120                  365   \n",
       "\n",
       "                        Species Name            XC Species Name  \n",
       "0            Gadwall (Breeding male)                    Gadwall  \n",
       "1            Mallard (Breeding male)                    Mallard  \n",
       "2  Black-crowned Night-Heron (Adult)  Black-crowned Night Heron  \n",
       "3               Herring Gull (Adult)               Herring Gull  \n",
       "4                        Common Tern                Common Tern  "
      ]
     },
     "execution_count": 4,
     "metadata": {},
     "output_type": "execute_result"
    }
   ],
   "source": [
    "# Now we need to load the .csv file that contains the birds we care about.\n",
    "birds_df = pd.read_csv('../../Data Processing/chosen_classes_47_data_stats.csv')\n",
    "birds_df.head()"
   ]
  },
  {
   "cell_type": "code",
   "execution_count": 5,
   "metadata": {},
   "outputs": [
    {
     "name": "stdout",
     "output_type": "stream",
     "text": [
      "Shape of filtered_images_features:  torch.Size([5469, 3, 224, 224])\n",
      "Shape of filtered_images_labels:  torch.Size([5469])\n"
     ]
    }
   ],
   "source": [
    "# Now we want to traverse through the labels tensor and only keep the \n",
    "# labels and accordingly the features that are in the birds_df dataframe.\n",
    "\n",
    "# Create lists to store these filtered tensors.\n",
    "filtered_images_features = []\n",
    "filtered_images_labels = []\n",
    "for i in range(len(images_labels)):\n",
    "    if images_labels[i].item() in birds_df['Class ID'].values:\n",
    "        filtered_images_features.append(images_features[i])\n",
    "        filtered_images_labels.append(images_labels[i])\n",
    "\n",
    "# Stack the tensors to create a single tensor.\n",
    "filtered_images_features = torch.stack(filtered_images_features)\n",
    "filtered_images_labels = torch.tensor(filtered_images_labels)\n",
    "\n",
    "print(\"Shape of filtered_images_features: \", filtered_images_features.shape)\n",
    "print(\"Shape of filtered_images_labels: \", filtered_images_labels.shape)"
   ]
  },
  {
   "cell_type": "code",
   "execution_count": 6,
   "metadata": {},
   "outputs": [
    {
     "name": "stdout",
     "output_type": "stream",
     "text": [
      "Shape of encoded_labels_tensor:  torch.Size([5469])\n"
     ]
    }
   ],
   "source": [
    "# Now we encode the labels to make them more suitable for training.\n",
    "# We can use the same mappings as the ones used for the other two models.\n",
    "# These mappings are stored in label_mappings.pkl.\n",
    "\n",
    "# Load the label mappings from the pickle file.\n",
    "with open('label_mappings.pkl','rb') as f:\n",
    "    label_mappings = pickle.load(f)\n",
    "\n",
    "# Encode the labels using the mappings.\n",
    "label_encoder = LabelEncoder()\n",
    "label_encoder.fit(list(label_mappings['index_to_id'].values()))\n",
    "encoded_labels = label_encoder.transform(filtered_images_labels.numpy())\n",
    "# Convert the encoded labels back to a tensor.\n",
    "encoded_labels_tensor = torch.tensor(encoded_labels)\n",
    "\n",
    "print(\"Shape of encoded_labels_tensor: \", encoded_labels_tensor.shape)"
   ]
  },
  {
   "cell_type": "code",
   "execution_count": 7,
   "metadata": {},
   "outputs": [],
   "source": [
    "# Now we move on to splitting the data into training, validation, and test sets.\n",
    "# We will use a stratified split to ensure uniform distribution of classes.\n",
    "\n",
    "# Get labels as numpy array.\n",
    "labels_np = encoded_labels_tensor.numpy()\n",
    "# Use the labels np array to create indices array.\n",
    "indices = np.arange(len(labels_np))\n",
    "\n",
    "# First Split: train + val vs test - 80:20\n",
    "sss1 = StratifiedShuffleSplit(n_splits=1, test_size=0.2, random_state=0)\n",
    "temp_idx, test_idx = next(sss1.split(indices, labels_np))\n",
    "\n",
    "# Get the temporary set.\n",
    "temp_indices = np.arange(len(temp_idx))\n",
    "temp_labels_np = labels_np[temp_idx]\n",
    "\n",
    "# Second Split: train vs val - 80:20\n",
    "sss2 = StratifiedShuffleSplit(n_splits=1, test_size=0.2, random_state=0)\n",
    "train_temp_idx, val_temp_idx = next(sss2.split(temp_indices, temp_labels_np))\n",
    "\n",
    "# Convert to original indices.\n",
    "train_idx = temp_idx[train_temp_idx]\n",
    "val_idx = temp_idx[val_temp_idx]"
   ]
  },
  {
   "cell_type": "code",
   "execution_count": 8,
   "metadata": {},
   "outputs": [],
   "source": [
    "# Create the full dataset,\n",
    "full_dataset = TensorDataset(filtered_images_features, encoded_labels_tensor)"
   ]
  },
  {
   "cell_type": "code",
   "execution_count": 9,
   "metadata": {},
   "outputs": [],
   "source": [
    "# Function to create an upsampled dataset.\n",
    "def create_upsampled_dataset(full_dataset, train_idx, target_samples_per_class=200):\n",
    "    # Create initial subset with training indices\n",
    "    initial_train_dataset = Subset(full_dataset, train_idx)\n",
    "    \n",
    "    # Extract labels for all training samples\n",
    "    train_labels = []\n",
    "    for idx in train_idx:\n",
    "        _, label = full_dataset[idx]  # Assuming dataset returns (data, label)\n",
    "        train_labels.append(label.item())\n",
    "    \n",
    "    # Count samples per class\n",
    "    class_counts = Counter(train_labels)\n",
    "    print(f\"Original class distribution: {dict(class_counts)}\")\n",
    "    \n",
    "    # Identify classes that need oversampling\n",
    "    classes_to_oversample = {cls: target_samples_per_class - count \n",
    "                             for cls, count in class_counts.items() \n",
    "                             if count < target_samples_per_class}\n",
    "    \n",
    "    if not classes_to_oversample:\n",
    "        print(\"No oversampling needed - all classes have enough samples\")\n",
    "        return initial_train_dataset\n",
    "    \n",
    "    # Group indices by class\n",
    "    class_indices = {cls: [] for cls in class_counts.keys()}\n",
    "    for i, idx in enumerate(train_idx):\n",
    "        class_indices[train_labels[i]].append(idx)\n",
    "    \n",
    "    # Create oversampled indices\n",
    "    additional_indices = []\n",
    "    \n",
    "    for cls, num_needed in classes_to_oversample.items():\n",
    "        cls_indices = class_indices[cls]\n",
    "        # Randomly sample with replacement from the class\n",
    "        oversampled_indices = np.random.choice(cls_indices, size=num_needed, replace=True)\n",
    "        additional_indices.extend(oversampled_indices)\n",
    "    \n",
    "    # Combine original indices with oversampled indices\n",
    "    all_indices = list(train_idx) + additional_indices\n",
    "    \n",
    "    # Create final balanced dataset\n",
    "    upsampled_train_dataset = Subset(full_dataset, all_indices)\n",
    "    \n",
    "    # Verify the new distribution\n",
    "    upsampled_labels = []\n",
    "    for idx in all_indices:\n",
    "        _, label = full_dataset[idx]\n",
    "        upsampled_labels.append(label.item())\n",
    "    \n",
    "    balanced_counts = Counter(upsampled_labels)\n",
    "    print(f\"Balanced class distribution: {dict(balanced_counts)}\")\n",
    "    \n",
    "    return upsampled_train_dataset"
   ]
  },
  {
   "cell_type": "code",
   "execution_count": 10,
   "metadata": {},
   "outputs": [
    {
     "name": "stdout",
     "output_type": "stream",
     "text": [
      "Length of train_dataset:  3500\n",
      "Length of val_dataset:  875\n",
      "Length of test_dataset:  1094\n"
     ]
    }
   ],
   "source": [
    "# Use the full dataset and the indices generated above to create the train, val, and test datasets.\n",
    "train_dataset = Subset(full_dataset, train_idx)\n",
    "val_dataset = Subset(full_dataset, val_idx)\n",
    "test_dataset = Subset(full_dataset, test_idx)\n",
    "\n",
    "print(\"Length of train_dataset: \", len(train_dataset))\n",
    "print(\"Length of val_dataset: \", len(val_dataset))\n",
    "print(\"Length of test_dataset: \", len(test_dataset))"
   ]
  },
  {
   "cell_type": "code",
   "execution_count": 11,
   "metadata": {},
   "outputs": [
    {
     "name": "stderr",
     "output_type": "stream",
     "text": [
      "/opt/anaconda3/envs/ECE421/lib/python3.10/site-packages/torchvision/models/_utils.py:208: UserWarning: The parameter 'pretrained' is deprecated since 0.13 and may be removed in the future, please use 'weights' instead.\n",
      "  warnings.warn(\n",
      "/opt/anaconda3/envs/ECE421/lib/python3.10/site-packages/torchvision/models/_utils.py:223: UserWarning: Arguments other than a weight enum or `None` for 'weights' are deprecated since 0.13 and may be removed in the future. The current behavior is equivalent to passing `weights=AlexNet_Weights.IMAGENET1K_V1`. You can also use `weights=AlexNet_Weights.DEFAULT` to get the most up-to-date weights.\n",
      "  warnings.warn(msg)\n"
     ]
    }
   ],
   "source": [
    "# Import the AlexNet model.\n",
    "alexnet = torchvision.models.alexnet(pretrained=True)"
   ]
  },
  {
   "cell_type": "code",
   "execution_count": 12,
   "metadata": {},
   "outputs": [
    {
     "name": "stdout",
     "output_type": "stream",
     "text": [
      "Shape of alexnet_train_features:  torch.Size([3500, 256, 6, 6])\n",
      "Shape of alexnet_train_labels:  torch.Size([3500])\n"
     ]
    }
   ],
   "source": [
    "# Use the model to extract features for each of the datasets.\n",
    "# Start with the training dataset.\n",
    "alexnet_train_features = []\n",
    "alexnet_train_labels = []\n",
    "for data in train_dataset:\n",
    "    # Extract the image and the label.\n",
    "    image, label = data\n",
    "    # Extract the features from the image.\n",
    "    features = alexnet.features(image)\n",
    "    # Append the features and the label to the lists.\n",
    "    alexnet_train_features.append(features)\n",
    "    alexnet_train_labels.append(label)\n",
    "\n",
    "# Stack the features and labels to create a single tensor.\n",
    "alexnet_train_features = torch.stack(alexnet_train_features)\n",
    "alexnet_train_labels = torch.tensor(alexnet_train_labels)\n",
    "print(\"Shape of alexnet_train_features: \", alexnet_train_features.shape)\n",
    "print(\"Shape of alexnet_train_labels: \", alexnet_train_labels.shape)"
   ]
  },
  {
   "cell_type": "code",
   "execution_count": 13,
   "metadata": {},
   "outputs": [
    {
     "name": "stdout",
     "output_type": "stream",
     "text": [
      "Shape of alexnet_val_features:  torch.Size([875, 256, 6, 6])\n",
      "Shape of alexnet_val_labels:  torch.Size([875])\n"
     ]
    }
   ],
   "source": [
    "# Do the same for the validation dataset.\n",
    "alexnet_val_features = []\n",
    "alexnet_val_labels = []\n",
    "for data in val_dataset:\n",
    "    # Extract the image and the label.\n",
    "    image, label = data\n",
    "    # Extract the features from the image.\n",
    "    features = alexnet.features(image)\n",
    "    # Append the features and the label to the lists.\n",
    "    alexnet_val_features.append(features)\n",
    "    alexnet_val_labels.append(label)\n",
    "# Stack the features and labels to create a single tensor.\n",
    "alexnet_val_features = torch.stack(alexnet_val_features)\n",
    "alexnet_val_labels = torch.tensor(alexnet_val_labels)\n",
    "\n",
    "print(\"Shape of alexnet_val_features: \", alexnet_val_features.shape)\n",
    "print(\"Shape of alexnet_val_labels: \", alexnet_val_labels.shape)"
   ]
  },
  {
   "cell_type": "code",
   "execution_count": 14,
   "metadata": {},
   "outputs": [
    {
     "name": "stdout",
     "output_type": "stream",
     "text": [
      "Shape of alexnet_test_features:  torch.Size([1094, 256, 6, 6])\n",
      "Shape of alexnet_test_labels:  torch.Size([1094])\n"
     ]
    }
   ],
   "source": [
    "# Now we move on to the testing dataset.\n",
    "alexnet_test_features = []\n",
    "alexnet_test_labels = []\n",
    "for data in test_dataset:\n",
    "    # Extract the image and the label.\n",
    "    image, label = data\n",
    "    # Extract the features from the image.\n",
    "    features = alexnet.features(image)\n",
    "    # Append the features and the label to the lists.\n",
    "    alexnet_test_features.append(features)\n",
    "    alexnet_test_labels.append(label)\n",
    "# Stack the features and labels to create a single tensor.\n",
    "alexnet_test_features = torch.stack(alexnet_test_features)\n",
    "alexnet_test_labels = torch.tensor(alexnet_test_labels)\n",
    "\n",
    "print(\"Shape of alexnet_test_features: \", alexnet_test_features.shape)\n",
    "print(\"Shape of alexnet_test_labels: \", alexnet_test_labels.shape)"
   ]
  },
  {
   "cell_type": "code",
   "execution_count": 15,
   "metadata": {},
   "outputs": [
    {
     "name": "stdout",
     "output_type": "stream",
     "text": [
      "Length of alexnet_train_dataset:  3500\n",
      "Length of alexnet_val_dataset:  875\n",
      "Length of alexnet_test_dataset:  1094\n"
     ]
    }
   ],
   "source": [
    "# Use these extracted features to create datasets.\n",
    "alexnet_train_dataset = TensorDataset(alexnet_train_features, alexnet_train_labels)\n",
    "alexnet_val_dataset = TensorDataset(alexnet_val_features, alexnet_val_labels)\n",
    "alexnet_test_dataset = TensorDataset(alexnet_test_features, alexnet_test_labels)\n",
    "\n",
    "print(\"Length of alexnet_train_dataset: \", len(alexnet_train_dataset))\n",
    "print(\"Length of alexnet_val_dataset: \", len(alexnet_val_dataset))\n",
    "print(\"Length of alexnet_test_dataset: \", len(alexnet_test_dataset))"
   ]
  },
  {
   "cell_type": "markdown",
   "metadata": {},
   "source": [
    "2. CNN Impementation for Images\n"
   ]
  },
  {
   "cell_type": "code",
   "execution_count": 16,
   "metadata": {},
   "outputs": [],
   "source": [
    "\"\"\"FOR MACBOOK LOCAL SETUP USERS ONLY \"\"\"\n",
    "use_mps = True\n",
    "# Set device to GPU if available\n",
    "device = torch.device(\"mps\") if use_mps and torch.backends.mps.is_available() else torch.device(\"cpu\")"
   ]
  },
  {
   "cell_type": "code",
   "execution_count": null,
   "metadata": {},
   "outputs": [],
   "source": [
    "import torch.nn as nn\n",
    "import torch.nn.functional as F\n",
    "\n",
    "class ImagesAlexNetCNN(nn.Module):\n",
    "    def __init__(self, num_classes=47, dropout_rate=0.3):\n",
    "        super(ImagesAlexNetCNN, self).__init__()\n",
    "        self.name = \"ImagesAlexNetCNN_1\"\n",
    "        \n",
    "        # First convolutional block\n",
    "        self.conv1 = nn.Conv2d(256, 64, kernel_size=3, padding=1)  # Input: 256x6x6, Output: 64x6x6\n",
    "        self.pool = nn.MaxPool2d(2, 2)  # Output: 64x3x3\n",
    "        \n",
    "        # Second convolutional block\n",
    "        self.conv2 = nn.Conv2d(64, 32, kernel_size=2)  # Input: 64x3x3, Output: 32x2x2\n",
    "        # After pooling: 32x1x1\n",
    "        \n",
    "        # Fully connected layers\n",
    "        self.fc1 = nn.Linear(32, 128)\n",
    "        self.fc2 = nn.Linear(128, num_classes)\n",
    "        \n",
    "        # Regularization\n",
    "        self.dropout = nn.Dropout(dropout_rate)\n",
    "    \n",
    "    def forward(self, x):\n",
    "        # First block\n",
    "        x = self.pool(F.relu(self.conv1(x)))\n",
    "        \n",
    "        # Second block\n",
    "        x = self.pool(F.relu(self.conv2(x)))\n",
    "        \n",
    "        # Flatten\n",
    "        x = x.view(x.size(0), -1)\n",
    "        \n",
    "        # Fully connected layers with dropout\n",
    "        x = F.relu(self.fc1(x))\n",
    "        x = self.dropout(x)\n",
    "        x = self.fc2(x)\n",
    "        \n",
    "        return x  # Removed softmax - typically CrossEntropyLoss includes softmax"
   ]
  },
  {
   "cell_type": "code",
   "execution_count": 18,
   "metadata": {},
   "outputs": [],
   "source": [
    "class ImagesCNN(nn.Module):\n",
    "    def __init__(self, num_classes=47, dropout_rate=0.3):\n",
    "        super(ImagesCNN, self).__init__()\n",
    "        self.name = \"ImagesCNN_3\"\n",
    "        \n",
    "        # First convolutional block - smaller kernel\n",
    "        self.conv1 = nn.Conv2d(3, 32, kernel_size=3, padding=1)\n",
    "        self.bn1 = nn.BatchNorm2d(32)\n",
    "        self.pool = nn.MaxPool2d(2, 2)\n",
    "        \n",
    "        # Second convolutional block - medium kernel\n",
    "        self.conv2 = nn.Conv2d(32, 64, kernel_size=5, padding=2)\n",
    "        self.bn2 = nn.BatchNorm2d(64)\n",
    "        \n",
    "        # Third convolutional block - larger kernel\n",
    "        self.conv3 = nn.Conv2d(64, 128, kernel_size=7, padding=3)\n",
    "        self.bn3 = nn.BatchNorm2d(128)\n",
    "        \n",
    "        # Fourth convolutional block - smaller kernel again\n",
    "        self.conv4 = nn.Conv2d(128, 256, kernel_size=3, padding=1)\n",
    "        self.bn4 = nn.BatchNorm2d(256)\n",
    "        \n",
    "        # Global Average Pooling instead of flattening\n",
    "        self.global_pool = nn.AdaptiveAvgPool2d(1)\n",
    "        \n",
    "        # Reduced to only two fully connected layers\n",
    "        self.fc1 = nn.Linear(256, 512)\n",
    "        self.bn_fc1 = nn.BatchNorm1d(512)\n",
    "        self.fc2 = nn.Linear(512, num_classes)\n",
    "        \n",
    "        # Regularization\n",
    "        self.dropout = nn.Dropout(dropout_rate)\n",
    "        \n",
    "        # Activation function\n",
    "        self.relu = nn.ReLU()\n",
    "    \n",
    "    def forward(self, x):\n",
    "        # First convolutional block\n",
    "        x = self.relu(self.bn1(self.conv1(x)))\n",
    "        x = self.pool(x)\n",
    "        \n",
    "        # Second convolutional block\n",
    "        x = self.relu(self.bn2(self.conv2(x)))\n",
    "        x = self.pool(x)\n",
    "        \n",
    "        # Third convolutional block\n",
    "        x = self.relu(self.bn3(self.conv3(x)))\n",
    "        x = self.pool(x)\n",
    "        \n",
    "        # Fourth convolutional block\n",
    "        x = self.relu(self.bn4(self.conv4(x)))\n",
    "        x = self.pool(x)\n",
    "        \n",
    "        # Global Average Pooling\n",
    "        x = self.global_pool(x)\n",
    "        x = x.view(x.size(0), -1)  # Flatten to [batch_size, 256]\n",
    "        \n",
    "        # Fully connected layers\n",
    "        x = self.relu(self.bn_fc1(self.fc1(x)))\n",
    "        x = self.dropout(x)\n",
    "        x = self.fc2(x)\n",
    "        \n",
    "        return x"
   ]
  },
  {
   "cell_type": "code",
   "execution_count": 19,
   "metadata": {},
   "outputs": [],
   "source": [
    "# Helper function to create a name for each model on the basis of its hyperparameters.\n",
    "def get_model_name(name, batch_size, learning_rate, epoch):\n",
    "    \"\"\" Generate a name for the model consisting of all the hyperparameter values\n",
    "\n",
    "    Args:\n",
    "        config: Configuration object containing the hyperparameters\n",
    "    Returns:\n",
    "        path: A string with the hyperparameter name and value concatenated\n",
    "    \"\"\"\n",
    "    path = \"model_{0}_bs{1}_lr{2}_epoch{3}\".format(name,\n",
    "                                                   batch_size,\n",
    "                                                   learning_rate,\n",
    "                                                   epoch)\n",
    "    return path"
   ]
  },
  {
   "cell_type": "code",
   "execution_count": 20,
   "metadata": {},
   "outputs": [],
   "source": [
    "def train_net(model, batch_size, train_loader, val_loader, learning_rate=0.001, num_epochs=20):\n",
    "    print(f\"Now training model with spec: {model.name}\")\n",
    "\n",
    "    # Fixed PyTorch random seed for reproducibility\n",
    "    torch.manual_seed(1000)\n",
    "\n",
    "    # Define loss function and optimizer\n",
    "    # Use CrossEntropyLoss for multi-class classification\n",
    "    # Use Adam optimizer with weight decay for regularization\n",
    "    criterion = nn.CrossEntropyLoss()\n",
    "    optimizer = optim.Adam(model.parameters(), lr=learning_rate)\n",
    "    # scheduler = ReduceLROnPlateau(optimizer, mode='min', factor=0.75, patience=3)\n",
    "    \n",
    "    # Optional - define a scheduler for the learning rate\n",
    "    print(\"Loss Function, Optimizer, and Scheduler set up.\")\n",
    "\n",
    "    # Arrays to store accuracy metrics\n",
    "    train_acc = np.zeros(num_epochs)\n",
    "    val_acc = np.zeros(num_epochs)\n",
    "\n",
    "    # Create an output folder for performance files\n",
    "    output_folder = \"Audio_Model_Performance\"\n",
    "    os.makedirs(output_folder, exist_ok=True)\n",
    "\n",
    "    # Create a folder for the models.\n",
    "    model_folder = \"Models\"\n",
    "    os.makedirs(model_folder, exist_ok=True)\n",
    "\n",
    "    # Early Stopping to prevent overfitting\n",
    "    best_val_acc = 0.0\n",
    "    patience = 10\n",
    "    patience_counter = 0\n",
    "\n",
    "    start_time = time.time()\n",
    "    print(\"Training Started.\")\n",
    "\n",
    "    # Iterate for number of epochs.\n",
    "    for epoch in range(num_epochs):\n",
    "        # --- Training Phase ---\n",
    "        model.train()\n",
    "        # Forwards and backwards pass for each batch\n",
    "        for _, data in enumerate(train_loader, 0):\n",
    "            recordings, labels = data\n",
    "            recordings = recordings.to(device)\n",
    "            labels = labels.to(device)\n",
    "\n",
    "            optimizer.zero_grad()\n",
    "            outputs = model(recordings)\n",
    "            loss = criterion(outputs, labels)\n",
    "            loss.backward()\n",
    "            optimizer.step()\n",
    "        \n",
    "        print(f\"Finished adjusting parameters for epoch {epoch + 1}\")\n",
    "\n",
    "        # --- Evaluation Phase ---\n",
    "        model.eval()\n",
    "        correct_t, total_t = 0, 0\n",
    "        correct_v, total_v = 0, 0\n",
    "        val_loss = 0.0\n",
    "        \n",
    "        # Calculate training accuracy\n",
    "        with torch.no_grad():\n",
    "            # Forward pass for each batch\n",
    "            for recordings, labels in train_loader:\n",
    "                recordings = recordings.to(device)\n",
    "                labels = labels.to(device)\n",
    "                output = model(recordings)\n",
    "                pred = output.max(1, keepdim=True)[1]\n",
    "                correct_t += pred.eq(labels.view_as(pred)).sum().item()\n",
    "                total_t += recordings.shape[0]\n",
    "        # Calculate training accuracy        \n",
    "        train_acc[epoch] = correct_t / total_t\n",
    "\n",
    "        # Calculate validation accuracy and loss\n",
    "        with torch.no_grad():\n",
    "            # Forward pass for each batch\n",
    "            for recordings, labels in val_loader:\n",
    "                recordings = recordings.to(device)\n",
    "                labels = labels.to(device)\n",
    "                output = model(recordings)\n",
    "                loss_val = criterion(output, labels)\n",
    "                val_loss += loss_val.item()  # accumulate loss\n",
    "                pred = output.max(1, keepdim=True)[1]\n",
    "                correct_v += pred.eq(labels.view_as(pred)).sum().item()\n",
    "                total_v += recordings.shape[0]\n",
    "        # Calculate validation accuracy and loss.        \n",
    "        val_acc[epoch] = correct_v / total_v\n",
    "        val_loss /= len(val_loader)  # average validation loss\n",
    "        \n",
    "        \n",
    "        # Update the learning rate based on validation loss.\n",
    "        # scheduler.step(val_loss)\n",
    "        \n",
    "        # Print epoch results including validation loss.\n",
    "        print(f\"Epoch {epoch + 1}: Train acc: {train_acc[epoch]:.4f}, \"\n",
    "              f\"Validation acc: {val_acc[epoch]:.4f}\")\n",
    "        \n",
    "        # Early Stopping\n",
    "        # Case 1: Validation accuracy has increased.\n",
    "        if val_acc[epoch] > best_val_acc:\n",
    "            # Reset the parameters.\n",
    "            best_val_acc = val_acc[epoch]\n",
    "            patience_counter = 0\n",
    "            # Save this model.\n",
    "            model_filename = model.name + \".pt\"\n",
    "            model_path = os.path.join(model_folder, model_filename)\n",
    "            torch.save(model.state_dict(), model_path)\n",
    "        # Case 2: Validation accuracy has not increased.\n",
    "        else:\n",
    "            patience_counter += 1\n",
    "        # Check if patience has been exceeded.\n",
    "        if patience_counter > patience:\n",
    "            print(f\"Early stopping at epoch {epoch + 1}\")\n",
    "            break\n",
    "\n",
    "    print('Finished Training')\n",
    "    elapsed_time = time.time() - start_time\n",
    "    \n",
    "    # Save metrics to CSV\n",
    "    model_filename = get_model_name(model.name, batch_size, learning_rate, num_epochs - 1)\n",
    "    model_path = os.path.join(output_folder, model_filename)\n",
    "    train_acc_path = f\"{model_path}_train_acc.csv\"\n",
    "    val_acc_path = f\"{model_path}_val_acc.csv\"\n",
    "    np.savetxt(train_acc_path, train_acc[:epoch + 1])\n",
    "    np.savetxt(val_acc_path, val_acc[:epoch + 1])\n",
    "    \n",
    "    return train_acc[:epoch + 1], val_acc[:epoch + 1]"
   ]
  },
  {
   "cell_type": "code",
   "execution_count": 21,
   "metadata": {},
   "outputs": [],
   "source": [
    "# Create data loaders.\n",
    "batch_size = 32\n",
    "train_loader = DataLoader(alexnet_train_dataset, batch_size=batch_size, shuffle=True)\n",
    "val_loader = DataLoader(alexnet_val_dataset, batch_size=batch_size, shuffle=False)\n",
    "test_loader = DataLoader(alexnet_test_dataset, batch_size=batch_size, shuffle=False)"
   ]
  },
  {
   "cell_type": "code",
   "execution_count": 22,
   "metadata": {},
   "outputs": [
    {
     "name": "stdout",
     "output_type": "stream",
     "text": [
      "Now training model with spec: ImagesAlexNetCNN_1\n",
      "Loss Function, Optimizer, and Scheduler set up.\n",
      "Training Started.\n"
     ]
    },
    {
     "ename": "RuntimeError",
     "evalue": "Trying to backward through the graph a second time (or directly access saved tensors after they have already been freed). Saved intermediate values of the graph are freed when you call .backward() or autograd.grad(). Specify retain_graph=True if you need to backward through the graph a second time or if you need to access saved tensors after calling backward.",
     "output_type": "error",
     "traceback": [
      "\u001b[0;31m---------------------------------------------------------------------------\u001b[0m",
      "\u001b[0;31mRuntimeError\u001b[0m                              Traceback (most recent call last)",
      "Cell \u001b[0;32mIn[22], line 8\u001b[0m\n\u001b[1;32m      5\u001b[0m model\u001b[38;5;241m.\u001b[39mto(device)\n\u001b[1;32m      7\u001b[0m \u001b[38;5;66;03m# Train the model\u001b[39;00m\n\u001b[0;32m----> 8\u001b[0m train_acc, val_acc \u001b[38;5;241m=\u001b[39m \u001b[43mtrain_net\u001b[49m\u001b[43m(\u001b[49m\u001b[43mmodel\u001b[49m\u001b[43m,\u001b[49m\u001b[43m \u001b[49m\u001b[43mbatch_size\u001b[49m\u001b[43m,\u001b[49m\u001b[43m \u001b[49m\u001b[43mtrain_loader\u001b[49m\u001b[43m,\u001b[49m\u001b[43m \u001b[49m\u001b[43mval_loader\u001b[49m\u001b[43m,\u001b[49m\n\u001b[1;32m      9\u001b[0m \u001b[43m                                   \u001b[49m\u001b[43mlearning_rate\u001b[49m\u001b[43m \u001b[49m\u001b[38;5;241;43m=\u001b[39;49m\u001b[43m \u001b[49m\u001b[38;5;241;43m0.0001\u001b[39;49m\u001b[43m,\u001b[49m\u001b[43m \u001b[49m\u001b[43mnum_epochs\u001b[49m\u001b[43m \u001b[49m\u001b[38;5;241;43m=\u001b[39;49m\u001b[43m \u001b[49m\u001b[38;5;241;43m100\u001b[39;49m\u001b[43m)\u001b[49m\n\u001b[1;32m     10\u001b[0m n \u001b[38;5;241m=\u001b[39m \u001b[38;5;28mlen\u001b[39m(train_acc)\n\u001b[1;32m     11\u001b[0m plt\u001b[38;5;241m.\u001b[39mtitle(\u001b[38;5;124m\"\u001b[39m\u001b[38;5;124mTraining Curve\u001b[39m\u001b[38;5;124m\"\u001b[39m)\n",
      "Cell \u001b[0;32mIn[20], line 50\u001b[0m, in \u001b[0;36mtrain_net\u001b[0;34m(model, batch_size, train_loader, val_loader, learning_rate, num_epochs)\u001b[0m\n\u001b[1;32m     48\u001b[0m     outputs \u001b[38;5;241m=\u001b[39m model(recordings)\n\u001b[1;32m     49\u001b[0m     loss \u001b[38;5;241m=\u001b[39m criterion(outputs, labels)\n\u001b[0;32m---> 50\u001b[0m     \u001b[43mloss\u001b[49m\u001b[38;5;241;43m.\u001b[39;49m\u001b[43mbackward\u001b[49m\u001b[43m(\u001b[49m\u001b[43m)\u001b[49m\n\u001b[1;32m     51\u001b[0m     optimizer\u001b[38;5;241m.\u001b[39mstep()\n\u001b[1;32m     53\u001b[0m \u001b[38;5;28mprint\u001b[39m(\u001b[38;5;124mf\u001b[39m\u001b[38;5;124m\"\u001b[39m\u001b[38;5;124mFinished adjusting parameters for epoch \u001b[39m\u001b[38;5;132;01m{\u001b[39;00mepoch\u001b[38;5;250m \u001b[39m\u001b[38;5;241m+\u001b[39m\u001b[38;5;250m \u001b[39m\u001b[38;5;241m1\u001b[39m\u001b[38;5;132;01m}\u001b[39;00m\u001b[38;5;124m\"\u001b[39m)\n",
      "File \u001b[0;32m/opt/anaconda3/envs/ECE421/lib/python3.10/site-packages/torch/_tensor.py:581\u001b[0m, in \u001b[0;36mTensor.backward\u001b[0;34m(self, gradient, retain_graph, create_graph, inputs)\u001b[0m\n\u001b[1;32m    571\u001b[0m \u001b[38;5;28;01mif\u001b[39;00m has_torch_function_unary(\u001b[38;5;28mself\u001b[39m):\n\u001b[1;32m    572\u001b[0m     \u001b[38;5;28;01mreturn\u001b[39;00m handle_torch_function(\n\u001b[1;32m    573\u001b[0m         Tensor\u001b[38;5;241m.\u001b[39mbackward,\n\u001b[1;32m    574\u001b[0m         (\u001b[38;5;28mself\u001b[39m,),\n\u001b[0;32m   (...)\u001b[0m\n\u001b[1;32m    579\u001b[0m         inputs\u001b[38;5;241m=\u001b[39minputs,\n\u001b[1;32m    580\u001b[0m     )\n\u001b[0;32m--> 581\u001b[0m \u001b[43mtorch\u001b[49m\u001b[38;5;241;43m.\u001b[39;49m\u001b[43mautograd\u001b[49m\u001b[38;5;241;43m.\u001b[39;49m\u001b[43mbackward\u001b[49m\u001b[43m(\u001b[49m\n\u001b[1;32m    582\u001b[0m \u001b[43m    \u001b[49m\u001b[38;5;28;43mself\u001b[39;49m\u001b[43m,\u001b[49m\u001b[43m \u001b[49m\u001b[43mgradient\u001b[49m\u001b[43m,\u001b[49m\u001b[43m \u001b[49m\u001b[43mretain_graph\u001b[49m\u001b[43m,\u001b[49m\u001b[43m \u001b[49m\u001b[43mcreate_graph\u001b[49m\u001b[43m,\u001b[49m\u001b[43m \u001b[49m\u001b[43minputs\u001b[49m\u001b[38;5;241;43m=\u001b[39;49m\u001b[43minputs\u001b[49m\n\u001b[1;32m    583\u001b[0m \u001b[43m\u001b[49m\u001b[43m)\u001b[49m\n",
      "File \u001b[0;32m/opt/anaconda3/envs/ECE421/lib/python3.10/site-packages/torch/autograd/__init__.py:347\u001b[0m, in \u001b[0;36mbackward\u001b[0;34m(tensors, grad_tensors, retain_graph, create_graph, grad_variables, inputs)\u001b[0m\n\u001b[1;32m    342\u001b[0m     retain_graph \u001b[38;5;241m=\u001b[39m create_graph\n\u001b[1;32m    344\u001b[0m \u001b[38;5;66;03m# The reason we repeat the same comment below is that\u001b[39;00m\n\u001b[1;32m    345\u001b[0m \u001b[38;5;66;03m# some Python versions print out the first line of a multi-line function\u001b[39;00m\n\u001b[1;32m    346\u001b[0m \u001b[38;5;66;03m# calls in the traceback and some print out the last line\u001b[39;00m\n\u001b[0;32m--> 347\u001b[0m \u001b[43m_engine_run_backward\u001b[49m\u001b[43m(\u001b[49m\n\u001b[1;32m    348\u001b[0m \u001b[43m    \u001b[49m\u001b[43mtensors\u001b[49m\u001b[43m,\u001b[49m\n\u001b[1;32m    349\u001b[0m \u001b[43m    \u001b[49m\u001b[43mgrad_tensors_\u001b[49m\u001b[43m,\u001b[49m\n\u001b[1;32m    350\u001b[0m \u001b[43m    \u001b[49m\u001b[43mretain_graph\u001b[49m\u001b[43m,\u001b[49m\n\u001b[1;32m    351\u001b[0m \u001b[43m    \u001b[49m\u001b[43mcreate_graph\u001b[49m\u001b[43m,\u001b[49m\n\u001b[1;32m    352\u001b[0m \u001b[43m    \u001b[49m\u001b[43minputs\u001b[49m\u001b[43m,\u001b[49m\n\u001b[1;32m    353\u001b[0m \u001b[43m    \u001b[49m\u001b[43mallow_unreachable\u001b[49m\u001b[38;5;241;43m=\u001b[39;49m\u001b[38;5;28;43;01mTrue\u001b[39;49;00m\u001b[43m,\u001b[49m\n\u001b[1;32m    354\u001b[0m \u001b[43m    \u001b[49m\u001b[43maccumulate_grad\u001b[49m\u001b[38;5;241;43m=\u001b[39;49m\u001b[38;5;28;43;01mTrue\u001b[39;49;00m\u001b[43m,\u001b[49m\n\u001b[1;32m    355\u001b[0m \u001b[43m\u001b[49m\u001b[43m)\u001b[49m\n",
      "File \u001b[0;32m/opt/anaconda3/envs/ECE421/lib/python3.10/site-packages/torch/autograd/graph.py:825\u001b[0m, in \u001b[0;36m_engine_run_backward\u001b[0;34m(t_outputs, *args, **kwargs)\u001b[0m\n\u001b[1;32m    823\u001b[0m     unregister_hooks \u001b[38;5;241m=\u001b[39m _register_logging_hooks_on_whole_graph(t_outputs)\n\u001b[1;32m    824\u001b[0m \u001b[38;5;28;01mtry\u001b[39;00m:\n\u001b[0;32m--> 825\u001b[0m     \u001b[38;5;28;01mreturn\u001b[39;00m \u001b[43mVariable\u001b[49m\u001b[38;5;241;43m.\u001b[39;49m\u001b[43m_execution_engine\u001b[49m\u001b[38;5;241;43m.\u001b[39;49m\u001b[43mrun_backward\u001b[49m\u001b[43m(\u001b[49m\u001b[43m  \u001b[49m\u001b[38;5;66;43;03m# Calls into the C++ engine to run the backward pass\u001b[39;49;00m\n\u001b[1;32m    826\u001b[0m \u001b[43m        \u001b[49m\u001b[43mt_outputs\u001b[49m\u001b[43m,\u001b[49m\u001b[43m \u001b[49m\u001b[38;5;241;43m*\u001b[39;49m\u001b[43margs\u001b[49m\u001b[43m,\u001b[49m\u001b[43m \u001b[49m\u001b[38;5;241;43m*\u001b[39;49m\u001b[38;5;241;43m*\u001b[39;49m\u001b[43mkwargs\u001b[49m\n\u001b[1;32m    827\u001b[0m \u001b[43m    \u001b[49m\u001b[43m)\u001b[49m  \u001b[38;5;66;03m# Calls into the C++ engine to run the backward pass\u001b[39;00m\n\u001b[1;32m    828\u001b[0m \u001b[38;5;28;01mfinally\u001b[39;00m:\n\u001b[1;32m    829\u001b[0m     \u001b[38;5;28;01mif\u001b[39;00m attach_logging_hooks:\n",
      "\u001b[0;31mRuntimeError\u001b[0m: Trying to backward through the graph a second time (or directly access saved tensors after they have already been freed). Saved intermediate values of the graph are freed when you call .backward() or autograd.grad(). Specify retain_graph=True if you need to backward through the graph a second time or if you need to access saved tensors after calling backward."
     ]
    }
   ],
   "source": [
    "# Create an instance of the model.\n",
    "model = ImagesAlexNetCNN()\n",
    "\n",
    "# Move the model to GPU if available.\n",
    "model.to(device)\n",
    "\n",
    "# Train the model\n",
    "train_acc, val_acc = train_net(model, batch_size, train_loader, val_loader,\n",
    "                                   learning_rate = 0.0001, num_epochs = 100)\n",
    "n = len(train_acc)\n",
    "plt.title(\"Training Curve\")\n",
    "plt.plot(range(1,n+1), train_acc, label=\"Train\")\n",
    "plt.plot(range(1,n+1), val_acc, label=\"Validation\")\n",
    "plt.xlabel(\"Iterations\")\n",
    "plt.ylabel(\"Accuracy\")\n",
    "plt.legend(loc='best')\n",
    "plt.show()"
   ]
  }
 ],
 "metadata": {
  "kernelspec": {
   "display_name": "ECE421",
   "language": "python",
   "name": "python3"
  },
  "language_info": {
   "codemirror_mode": {
    "name": "ipython",
    "version": 3
   },
   "file_extension": ".py",
   "mimetype": "text/x-python",
   "name": "python",
   "nbconvert_exporter": "python",
   "pygments_lexer": "ipython3",
   "version": "3.10.13"
  }
 },
 "nbformat": 4,
 "nbformat_minor": 2
}
