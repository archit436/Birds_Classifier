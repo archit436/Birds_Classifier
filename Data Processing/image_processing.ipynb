{
 "cells": [
  {
   "cell_type": "code",
   "execution_count": null,
   "metadata": {
    "vscode": {
     "languageId": "plaintext"
    }
   },
   "outputs": [],
   "source": [
    "import pandas as pd\n",
    "\n",
    "csv_path = \"APS360/Project/chosen_classes_data_stats.csv\"  \n",
    "birds_df = pd.read_csv(csv_path)\n",
    "\n",
    "# Filter for classes with at least 75 recordings\n",
    "filtered_birds_df = birds_df[birds_df[\"XC Recordings Count\"] >= 75]\n",
    "\n",
    "filtered_csv_path = \"APS360/Project/filtered_bird_classes.csv\"\n",
    "filtered_birds_df.to_csv(filtered_csv_path, index=False)\n",
    "\n",
    "print(f\"Filtered dataset saved to {filtered_csv_path}\")"
   ]
  }
 ],
 "metadata": {
  "language_info": {
   "name": "python"
  }
 },
 "nbformat": 4,
 "nbformat_minor": 2
}
