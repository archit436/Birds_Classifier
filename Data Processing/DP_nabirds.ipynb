{
 "cells": [
  {
   "cell_type": "markdown",
   "metadata": {},
   "source": [
    "0. Dataset Statistics\n"
   ]
  },
  {
   "cell_type": "code",
   "execution_count": 5,
   "metadata": {},
   "outputs": [],
   "source": [
    "# Import Relevant Libraries\n",
    "import os\n",
    "import pandas as pd"
   ]
  },
  {
   "cell_type": "code",
   "execution_count": 6,
   "metadata": {},
   "outputs": [],
   "source": [
    "# We start by first evaluating the dataset to see how many images are in each class.\n",
    "# This will help us to understand the distribution of the images in the dataset.\n",
    "\n",
    "# Define the directory of the images.\n",
    "main_dir = \"../Data/nabirds/images\"\n",
    "\n",
    "# Define a dictionary to store the counts of the images.\n",
    "image_counts = {}\n",
    "\n",
    "# Loop through the subdirectories in the main directory.\n",
    "for sub_dir in os.listdir(main_dir):\n",
    "    # Define the path to the subdirectory.\n",
    "    sub_dir_path = os.path.join(main_dir, sub_dir)\n",
    "    # Error check to ensure the subdirectory is a directory.\n",
    "    if not os.path.isdir(sub_dir_path):\n",
    "        continue\n",
    "    # Count the number of images in the subdirectory.\n",
    "    image_count = len(os.listdir(sub_dir_path))\n",
    "    # Store the count of images in the dictionary.\n",
    "    image_counts[sub_dir] = image_count"
   ]
  },
  {
   "cell_type": "code",
   "execution_count": 29,
   "metadata": {},
   "outputs": [
    {
     "data": {
      "text/plain": [
       "48562"
      ]
     },
     "execution_count": 29,
     "metadata": {},
     "output_type": "execute_result"
    }
   ],
   "source": [
    "# Now we import this information into a pandas dataframe and store it in a csv file.\n",
    "df = pd.DataFrame(list(image_counts.items()), columns=[\"Class ID\", \"Images Count\"])\n",
    "# Convert Class ID to int64.\n",
    "df[\"Class ID\"] = df[\"Class ID\"].astype(\"int64\")\n",
    "\n",
    "df[\"Images Count\"].sum()"
   ]
  },
  {
   "cell_type": "code",
   "execution_count": 32,
   "metadata": {},
   "outputs": [],
   "source": [
    "# Now we add the species name to the csv file.\n",
    "# We start by storing this information in a dictionary.\n",
    "class_mapping = {}\n",
    "# We refer to the classes.txt file that contains class IDs and class names.\n",
    "with open(\"../Data/nabirds/classes.txt\", \"r\") as f:\n",
    "    # Iterate through each line.\n",
    "    for line in f:\n",
    "        class_id, class_name = line.strip().split(\" \", 1)\n",
    "        class_mapping[class_id] = class_name\n",
    "\n",
    "# Convert the ditionary keys to int64.\n",
    "class_mapping = {int(k): v for k, v in class_mapping.items()}"
   ]
  },
  {
   "cell_type": "code",
   "execution_count": 34,
   "metadata": {},
   "outputs": [
    {
     "data": {
      "text/html": [
       "<div>\n",
       "<style scoped>\n",
       "    .dataframe tbody tr th:only-of-type {\n",
       "        vertical-align: middle;\n",
       "    }\n",
       "\n",
       "    .dataframe tbody tr th {\n",
       "        vertical-align: top;\n",
       "    }\n",
       "\n",
       "    .dataframe thead th {\n",
       "        text-align: right;\n",
       "    }\n",
       "</style>\n",
       "<table border=\"1\" class=\"dataframe\">\n",
       "  <thead>\n",
       "    <tr style=\"text-align: right;\">\n",
       "      <th></th>\n",
       "      <th>Class ID</th>\n",
       "      <th>Images Count</th>\n",
       "      <th>Spcies Name</th>\n",
       "    </tr>\n",
       "  </thead>\n",
       "  <tbody>\n",
       "    <tr>\n",
       "      <th>0</th>\n",
       "      <td>987</td>\n",
       "      <td>120</td>\n",
       "      <td>Red-winged Blackbird (Female/juvenile)</td>\n",
       "    </tr>\n",
       "    <tr>\n",
       "      <th>1</th>\n",
       "      <td>973</td>\n",
       "      <td>119</td>\n",
       "      <td>White-crowned Sparrow (Immature)</td>\n",
       "    </tr>\n",
       "    <tr>\n",
       "      <th>2</th>\n",
       "      <td>342</td>\n",
       "      <td>31</td>\n",
       "      <td>Pacific Loon (Breeding)</td>\n",
       "    </tr>\n",
       "    <tr>\n",
       "      <th>3</th>\n",
       "      <td>514</td>\n",
       "      <td>96</td>\n",
       "      <td>Long-billed Curlew</td>\n",
       "    </tr>\n",
       "    <tr>\n",
       "      <th>4</th>\n",
       "      <td>974</td>\n",
       "      <td>113</td>\n",
       "      <td>Golden-crowned Sparrow (Immature)</td>\n",
       "    </tr>\n",
       "    <tr>\n",
       "      <th>...</th>\n",
       "      <td>...</td>\n",
       "      <td>...</td>\n",
       "      <td>...</td>\n",
       "    </tr>\n",
       "    <tr>\n",
       "      <th>550</th>\n",
       "      <td>339</td>\n",
       "      <td>71</td>\n",
       "      <td>Gambel's Quail (Male)</td>\n",
       "    </tr>\n",
       "    <tr>\n",
       "      <th>551</th>\n",
       "      <td>550</td>\n",
       "      <td>99</td>\n",
       "      <td>Acorn Woodpecker</td>\n",
       "    </tr>\n",
       "    <tr>\n",
       "      <th>552</th>\n",
       "      <td>762</td>\n",
       "      <td>119</td>\n",
       "      <td>Black-throated Blue Warbler (Adult Male)</td>\n",
       "    </tr>\n",
       "    <tr>\n",
       "      <th>553</th>\n",
       "      <td>908</td>\n",
       "      <td>116</td>\n",
       "      <td>Dickcissel</td>\n",
       "    </tr>\n",
       "    <tr>\n",
       "      <th>554</th>\n",
       "      <td>796</td>\n",
       "      <td>119</td>\n",
       "      <td>House Sparrow (Male)</td>\n",
       "    </tr>\n",
       "  </tbody>\n",
       "</table>\n",
       "<p>555 rows × 3 columns</p>\n",
       "</div>"
      ],
      "text/plain": [
       "     Class ID  Images Count                               Spcies Name\n",
       "0         987           120    Red-winged Blackbird (Female/juvenile)\n",
       "1         973           119          White-crowned Sparrow (Immature)\n",
       "2         342            31                   Pacific Loon (Breeding)\n",
       "3         514            96                        Long-billed Curlew\n",
       "4         974           113         Golden-crowned Sparrow (Immature)\n",
       "..        ...           ...                                       ...\n",
       "550       339            71                     Gambel's Quail (Male)\n",
       "551       550            99                          Acorn Woodpecker\n",
       "552       762           119  Black-throated Blue Warbler (Adult Male)\n",
       "553       908           116                                Dickcissel\n",
       "554       796           119                      House Sparrow (Male)\n",
       "\n",
       "[555 rows x 3 columns]"
      ]
     },
     "execution_count": 34,
     "metadata": {},
     "output_type": "execute_result"
    }
   ],
   "source": [
    "# Use the dictionary to map the class IDs to the species names in the dataframe.\n",
    "df[\"Spcies Name\"] = df[\"Class ID\"].map(class_mapping)\n",
    "df"
   ]
  },
  {
   "cell_type": "code",
   "execution_count": 38,
   "metadata": {},
   "outputs": [],
   "source": [
    "# Put the data in descending order by images count.\n",
    "df = df.sort_values(by=\"Images Count\", ascending=False)\n",
    "# Now we save the dataframe to a csv file.\n",
    "df.to_csv(\"nabirds_images_count.csv\", index=False)"
   ]
  }
 ],
 "metadata": {
  "kernelspec": {
   "display_name": "ECE421",
   "language": "python",
   "name": "python3"
  },
  "language_info": {
   "codemirror_mode": {
    "name": "ipython",
    "version": 3
   },
   "file_extension": ".py",
   "mimetype": "text/x-python",
   "name": "python",
   "nbconvert_exporter": "python",
   "pygments_lexer": "ipython3",
   "version": "3.10.13"
  }
 },
 "nbformat": 4,
 "nbformat_minor": 2
}
