{
 "cells": [
  {
   "cell_type": "markdown",
   "metadata": {},
   "source": [
    "Stage 1 of data processing is to filter through the images and audio data and choosing classes that have a balance of good data of both types. The output of this stage is\n",
    "a csv file with selected classes and associated data statistics (number of audio samples and images).The selection criteria currently is birds with more than 100 images and more than 75 recordings.\n"
   ]
  },
  {
   "cell_type": "markdown",
   "metadata": {},
   "source": [
    "0. Setup\n"
   ]
  },
  {
   "cell_type": "code",
   "execution_count": 1,
   "metadata": {},
   "outputs": [],
   "source": [
    "# Import Relevant Libraries\n",
    "import os\n",
    "import pandas as pd\n",
    "import requests\n",
    "import urllib.parse"
   ]
  },
  {
   "cell_type": "markdown",
   "metadata": {},
   "source": [
    "1. NABirds Images Dataset\n"
   ]
  },
  {
   "cell_type": "code",
   "execution_count": 2,
   "metadata": {},
   "outputs": [],
   "source": [
    "# Define the directory of the images dataset.\n",
    "main_dir = \"../Data/nabirds/images\"\n",
    "\n",
    "# Define a dictionary to store the counts of the images.\n",
    "image_counts = {}\n",
    "\n",
    "# Loop through the subdirectories in the main directory.\n",
    "for sub_dir in os.listdir(main_dir):\n",
    "    # Define the path to the subdirectory.\n",
    "    sub_dir_path = os.path.join(main_dir, sub_dir)\n",
    "    # Error check to ensure the subdirectory is a directory.\n",
    "    if not os.path.isdir(sub_dir_path):\n",
    "        continue\n",
    "    # Count the number of images in the subdirectory.\n",
    "    image_count = len(os.listdir(sub_dir_path))\n",
    "    # Store the count of images in the dictionary.\n",
    "    image_counts[sub_dir] = image_count"
   ]
  },
  {
   "cell_type": "code",
   "execution_count": 3,
   "metadata": {},
   "outputs": [
    {
     "data": {
      "text/plain": [
       "48562"
      ]
     },
     "execution_count": 3,
     "metadata": {},
     "output_type": "execute_result"
    }
   ],
   "source": [
    "# Now we import this information into a pandas dataframe.\n",
    "birds_df = pd.DataFrame(list(image_counts.items()), \n",
    "                  columns=[\"Class ID\", \"Images Count\"])\n",
    "# Convert Class ID to int64. This is the unique identifier for each class.\n",
    "birds_df[\"Class ID\"] = birds_df[\"Class ID\"].astype(\"int64\")\n",
    "\n",
    "# Check the sum of the images to ensure that we have all the images.\n",
    "birds_df[\"Images Count\"].sum()"
   ]
  },
  {
   "cell_type": "code",
   "execution_count": 4,
   "metadata": {},
   "outputs": [
    {
     "data": {
      "text/plain": [
       "count    555.000000\n",
       "mean      87.499099\n",
       "std       27.294713\n",
       "min       13.000000\n",
       "25%       66.000000\n",
       "50%       91.000000\n",
       "75%      114.000000\n",
       "max      120.000000\n",
       "Name: Images Count, dtype: float64"
      ]
     },
     "execution_count": 4,
     "metadata": {},
     "output_type": "execute_result"
    }
   ],
   "source": [
    "# Get statistics of the images count.\n",
    "birds_df[\"Images Count\"].describe()"
   ]
  },
  {
   "cell_type": "code",
   "execution_count": 5,
   "metadata": {},
   "outputs": [],
   "source": [
    "# Now we add the species name to the dataframe.\n",
    "# We start by storing this information in a dictionary.\n",
    "class_mapping = {}\n",
    "# We refer to the classes.txt file that contains class IDs and class names.\n",
    "with open(\"../Data/nabirds/classes.txt\", \"r\") as f:\n",
    "    # Iterate through each line.\n",
    "    for line in f:\n",
    "        class_id, class_name = line.strip().split(\" \", 1)\n",
    "        class_mapping[class_id] = class_name\n",
    "\n",
    "# Convert the ditionary keys to int64.\n",
    "class_mapping = {int(k): v for k, v in class_mapping.items()}"
   ]
  },
  {
   "cell_type": "code",
   "execution_count": 6,
   "metadata": {},
   "outputs": [
    {
     "data": {
      "text/html": [
       "<div>\n",
       "<style scoped>\n",
       "    .dataframe tbody tr th:only-of-type {\n",
       "        vertical-align: middle;\n",
       "    }\n",
       "\n",
       "    .dataframe tbody tr th {\n",
       "        vertical-align: top;\n",
       "    }\n",
       "\n",
       "    .dataframe thead th {\n",
       "        text-align: right;\n",
       "    }\n",
       "</style>\n",
       "<table border=\"1\" class=\"dataframe\">\n",
       "  <thead>\n",
       "    <tr style=\"text-align: right;\">\n",
       "      <th></th>\n",
       "      <th>Class ID</th>\n",
       "      <th>Images Count</th>\n",
       "      <th>Species Name</th>\n",
       "    </tr>\n",
       "  </thead>\n",
       "  <tbody>\n",
       "    <tr>\n",
       "      <th>0</th>\n",
       "      <td>987</td>\n",
       "      <td>120</td>\n",
       "      <td>Red-winged Blackbird (Female/juvenile)</td>\n",
       "    </tr>\n",
       "    <tr>\n",
       "      <th>1</th>\n",
       "      <td>973</td>\n",
       "      <td>119</td>\n",
       "      <td>White-crowned Sparrow (Immature)</td>\n",
       "    </tr>\n",
       "    <tr>\n",
       "      <th>2</th>\n",
       "      <td>342</td>\n",
       "      <td>31</td>\n",
       "      <td>Pacific Loon (Breeding)</td>\n",
       "    </tr>\n",
       "    <tr>\n",
       "      <th>3</th>\n",
       "      <td>514</td>\n",
       "      <td>96</td>\n",
       "      <td>Long-billed Curlew</td>\n",
       "    </tr>\n",
       "    <tr>\n",
       "      <th>4</th>\n",
       "      <td>974</td>\n",
       "      <td>113</td>\n",
       "      <td>Golden-crowned Sparrow (Immature)</td>\n",
       "    </tr>\n",
       "  </tbody>\n",
       "</table>\n",
       "</div>"
      ],
      "text/plain": [
       "   Class ID  Images Count                            Species Name\n",
       "0       987           120  Red-winged Blackbird (Female/juvenile)\n",
       "1       973           119        White-crowned Sparrow (Immature)\n",
       "2       342            31                 Pacific Loon (Breeding)\n",
       "3       514            96                      Long-billed Curlew\n",
       "4       974           113       Golden-crowned Sparrow (Immature)"
      ]
     },
     "execution_count": 6,
     "metadata": {},
     "output_type": "execute_result"
    }
   ],
   "source": [
    "# Use the dictionary to map the class IDs to the species names in the dataframe.\n",
    "birds_df[\"Species Name\"] = birds_df[\"Class ID\"].map(class_mapping)\n",
    "birds_df.head()"
   ]
  },
  {
   "cell_type": "code",
   "execution_count": 7,
   "metadata": {},
   "outputs": [],
   "source": [
    "# Let's focus only on birds with more than 100 images.\n",
    "# So we filter the dataframe to only include rows where the image count is \n",
    "# greater than 100.\n",
    "birds_df = birds_df[birds_df[\"Images Count\"] >= 100]\n",
    "# Sort the data by image count\n",
    "birds_df = birds_df.sort_values(by=\"Images Count\", ascending=False)"
   ]
  },
  {
   "cell_type": "code",
   "execution_count": 8,
   "metadata": {},
   "outputs": [
    {
     "data": {
      "text/plain": [
       "231"
      ]
     },
     "execution_count": 8,
     "metadata": {},
     "output_type": "execute_result"
    }
   ],
   "source": [
    "# Print the number of species in the filtered dataframe.\n",
    "birds_df.shape[0]"
   ]
  },
  {
   "cell_type": "markdown",
   "metadata": {},
   "source": [
    "2. Xeno Canto Audio Dataset\n"
   ]
  },
  {
   "cell_type": "code",
   "execution_count": 9,
   "metadata": {},
   "outputs": [
    {
     "data": {
      "text/html": [
       "<div>\n",
       "<style scoped>\n",
       "    .dataframe tbody tr th:only-of-type {\n",
       "        vertical-align: middle;\n",
       "    }\n",
       "\n",
       "    .dataframe tbody tr th {\n",
       "        vertical-align: top;\n",
       "    }\n",
       "\n",
       "    .dataframe thead th {\n",
       "        text-align: right;\n",
       "    }\n",
       "</style>\n",
       "<table border=\"1\" class=\"dataframe\">\n",
       "  <thead>\n",
       "    <tr style=\"text-align: right;\">\n",
       "      <th></th>\n",
       "      <th>Class ID</th>\n",
       "      <th>Images Count</th>\n",
       "      <th>Species Name</th>\n",
       "      <th>XC Species Name</th>\n",
       "    </tr>\n",
       "  </thead>\n",
       "  <tbody>\n",
       "    <tr>\n",
       "      <th>0</th>\n",
       "      <td>987</td>\n",
       "      <td>120</td>\n",
       "      <td>Red-winged Blackbird (Female/juvenile)</td>\n",
       "      <td>Red-winged Blackbird</td>\n",
       "    </tr>\n",
       "    <tr>\n",
       "      <th>369</th>\n",
       "      <td>835</td>\n",
       "      <td>120</td>\n",
       "      <td>Marsh Wren</td>\n",
       "      <td>Marsh Wren</td>\n",
       "    </tr>\n",
       "    <tr>\n",
       "      <th>354</th>\n",
       "      <td>511</td>\n",
       "      <td>120</td>\n",
       "      <td>Willet</td>\n",
       "      <td>Willet</td>\n",
       "    </tr>\n",
       "    <tr>\n",
       "      <th>346</th>\n",
       "      <td>529</td>\n",
       "      <td>120</td>\n",
       "      <td>Mourning Dove</td>\n",
       "      <td>Mourning Dove</td>\n",
       "    </tr>\n",
       "    <tr>\n",
       "      <th>340</th>\n",
       "      <td>947</td>\n",
       "      <td>120</td>\n",
       "      <td>Red-eyed Vireo</td>\n",
       "      <td>Red-eyed Vireo</td>\n",
       "    </tr>\n",
       "  </tbody>\n",
       "</table>\n",
       "</div>"
      ],
      "text/plain": [
       "     Class ID  Images Count                            Species Name  \\\n",
       "0         987           120  Red-winged Blackbird (Female/juvenile)   \n",
       "369       835           120                              Marsh Wren   \n",
       "354       511           120                                  Willet   \n",
       "346       529           120                           Mourning Dove   \n",
       "340       947           120                          Red-eyed Vireo   \n",
       "\n",
       "          XC Species Name  \n",
       "0    Red-winged Blackbird  \n",
       "369            Marsh Wren  \n",
       "354                Willet  \n",
       "346         Mourning Dove  \n",
       "340        Red-eyed Vireo  "
      ]
     },
     "execution_count": 9,
     "metadata": {},
     "output_type": "execute_result"
    }
   ],
   "source": [
    "# Next, we add a column to the dataframe to store the names modified to be more\n",
    "# suitable for Xeno Canto. Start by removing any text in the parentheses.\n",
    "birds_df[\"XC Species Name\"] = birds_df[\"Species Name\"].str.replace(r\"\\(.*\\)\", \"\", \n",
    "                                                      regex=True).str.strip()\n",
    "birds_df.head()"
   ]
  },
  {
   "cell_type": "code",
   "execution_count": 10,
   "metadata": {},
   "outputs": [
    {
     "data": {
      "text/plain": [
       "205"
      ]
     },
     "execution_count": 10,
     "metadata": {},
     "output_type": "execute_result"
    }
   ],
   "source": [
    "# Remove any bird species that have a duplicate name in XC Species Name column.\n",
    "birds_df = birds_df.drop_duplicates(subset=[\"XC Species Name\"])\n",
    "# Return the count of classes in the dataframe now.\n",
    "birds_df.shape[0]"
   ]
  },
  {
   "cell_type": "code",
   "execution_count": 11,
   "metadata": {},
   "outputs": [],
   "source": [
    "# We also replace any species name with an alternative name, that is more\n",
    "# suitable for Xeno Canto.\n",
    "birds_df[\"XC Species Name\"] = birds_df[\"XC Species Name\"].replace({\n",
    "    \"Gray Catbird\": \"Grey Catbird\",\n",
    "    \"Western Scrub-Jay\": \"California Scrub Jay\",\n",
    "    \"Black-crowned Night-Heron\": \"Black-crowned Night Heron\",\n",
    "    \"European Starling\": \"Common Starling\",\n",
    "    \"Blue-gray Gnatcatcher\": \"Blue-grey Gnatcatcher\",\n",
    "    \"American Pipit\": \"Buff-bellied Pipit\",\n",
    "    \"Yellow-rumped Warbler\": \"Myrtle Warbler\",\n",
    "    \"Eurasian Collared-Dove\": \"Eurasian Collared Dove\",\n",
    "    \"Common Raven\" : \"Northern Raven\",\n",
    "    \"Eastern Wood-Pewee\": \"Eastern Wood Pewee\",\n",
    "    \"Rock Pigeon\": \"Rock Dove\",\n",
    "    \"Western Wood-Pewee\": \"Western Wood Pewee\",\n",
    "    \"Northern Pygmy-Owl\": \"Northern Pygmy Owl\", \n",
    "})"
   ]
  },
  {
   "cell_type": "code",
   "execution_count": 12,
   "metadata": {},
   "outputs": [],
   "source": [
    "# Iterate through the XC names in the df and get the number of recordings for each,\n",
    "# by querying the Xeno-Canto API.\n",
    "xeno_canto_counts = []\n",
    "# Iterate through the birds.\n",
    "for bird in birds_df[\"XC Species Name\"]:\n",
    "    # Define and URL-encode the search query.\n",
    "    # Also add the \"q:A\" parameter to only search for recordings with high quality.\n",
    "    query = \"+\".join(bird.split())\n",
    "    encoded_query = f\"{query}+q:A\"\n",
    "    # Define the URL for the API call.\n",
    "    url = f\"https://www.xeno-canto.org/api/2/recordings?query={encoded_query}\"\n",
    "    # Send a GET request to the API, and capture the response\n",
    "    response = requests.get(url)\n",
    "    data = response.json()\n",
    "    # Extract the num of recordings.\n",
    "    xeno_canto_counts.append(data['numRecordings'])"
   ]
  },
  {
   "cell_type": "code",
   "execution_count": 13,
   "metadata": {},
   "outputs": [
    {
     "data": {
      "text/html": [
       "<div>\n",
       "<style scoped>\n",
       "    .dataframe tbody tr th:only-of-type {\n",
       "        vertical-align: middle;\n",
       "    }\n",
       "\n",
       "    .dataframe tbody tr th {\n",
       "        vertical-align: top;\n",
       "    }\n",
       "\n",
       "    .dataframe thead th {\n",
       "        text-align: right;\n",
       "    }\n",
       "</style>\n",
       "<table border=\"1\" class=\"dataframe\">\n",
       "  <thead>\n",
       "    <tr style=\"text-align: right;\">\n",
       "      <th></th>\n",
       "      <th>Class ID</th>\n",
       "      <th>Images Count</th>\n",
       "      <th>Species Name</th>\n",
       "      <th>XC Species Name</th>\n",
       "      <th>XC Recordings Count</th>\n",
       "    </tr>\n",
       "  </thead>\n",
       "  <tbody>\n",
       "    <tr>\n",
       "      <th>0</th>\n",
       "      <td>987</td>\n",
       "      <td>120</td>\n",
       "      <td>Red-winged Blackbird (Female/juvenile)</td>\n",
       "      <td>Red-winged Blackbird</td>\n",
       "      <td>337</td>\n",
       "    </tr>\n",
       "    <tr>\n",
       "      <th>369</th>\n",
       "      <td>835</td>\n",
       "      <td>120</td>\n",
       "      <td>Marsh Wren</td>\n",
       "      <td>Marsh Wren</td>\n",
       "      <td>186</td>\n",
       "    </tr>\n",
       "    <tr>\n",
       "      <th>354</th>\n",
       "      <td>511</td>\n",
       "      <td>120</td>\n",
       "      <td>Willet</td>\n",
       "      <td>Willet</td>\n",
       "      <td>70</td>\n",
       "    </tr>\n",
       "    <tr>\n",
       "      <th>346</th>\n",
       "      <td>529</td>\n",
       "      <td>120</td>\n",
       "      <td>Mourning Dove</td>\n",
       "      <td>Mourning Dove</td>\n",
       "      <td>49</td>\n",
       "    </tr>\n",
       "    <tr>\n",
       "      <th>340</th>\n",
       "      <td>947</td>\n",
       "      <td>120</td>\n",
       "      <td>Red-eyed Vireo</td>\n",
       "      <td>Red-eyed Vireo</td>\n",
       "      <td>130</td>\n",
       "    </tr>\n",
       "  </tbody>\n",
       "</table>\n",
       "</div>"
      ],
      "text/plain": [
       "     Class ID  Images Count                            Species Name  \\\n",
       "0         987           120  Red-winged Blackbird (Female/juvenile)   \n",
       "369       835           120                              Marsh Wren   \n",
       "354       511           120                                  Willet   \n",
       "346       529           120                           Mourning Dove   \n",
       "340       947           120                          Red-eyed Vireo   \n",
       "\n",
       "          XC Species Name  XC Recordings Count  \n",
       "0    Red-winged Blackbird                  337  \n",
       "369            Marsh Wren                  186  \n",
       "354                Willet                   70  \n",
       "346         Mourning Dove                   49  \n",
       "340        Red-eyed Vireo                  130  "
      ]
     },
     "execution_count": 13,
     "metadata": {},
     "output_type": "execute_result"
    }
   ],
   "source": [
    "# Now we add the number of recordings to the dataframe.\n",
    "birds_df[\"XC Recordings Count\"] = xeno_canto_counts\n",
    "# Convert the values to int64.\n",
    "birds_df[\"XC Recordings Count\"] = birds_df[\"XC Recordings Count\"].astype(\"int64\")\n",
    "# Test\n",
    "birds_df.head()"
   ]
  },
  {
   "cell_type": "code",
   "execution_count": 14,
   "metadata": {},
   "outputs": [
    {
     "name": "stdout",
     "output_type": "stream",
     "text": [
      "Classes with 20 recordings:  192\n",
      "Classes with 40 recordings:  164\n",
      "Classes with 50 recordings:  141\n",
      "Classes with 75 recordings:  106\n",
      "Classes with 100 recordings:  80\n"
     ]
    },
    {
     "data": {
      "text/plain": [
       "count    205.000000\n",
       "mean     122.214634\n",
       "std      134.039659\n",
       "min        2.000000\n",
       "25%       45.000000\n",
       "50%       77.000000\n",
       "75%      141.000000\n",
       "max      831.000000\n",
       "Name: XC Recordings Count, dtype: float64"
      ]
     },
     "execution_count": 14,
     "metadata": {},
     "output_type": "execute_result"
    }
   ],
   "source": [
    "# Now we print out the statistics of the dataframe, for XC Recordings Count.\n",
    "# List out num of classes with 20, 40, 50, 75, 100 recordings.\n",
    "print(\"Classes with 20 recordings: \", birds_df[birds_df[\"XC Recordings Count\"] >= 20].shape[0])\n",
    "print(\"Classes with 40 recordings: \", birds_df[birds_df[\"XC Recordings Count\"] >= 40].shape[0])\n",
    "print(\"Classes with 50 recordings: \", birds_df[birds_df[\"XC Recordings Count\"] >= 50].shape[0])\n",
    "print(\"Classes with 75 recordings: \", birds_df[birds_df[\"XC Recordings Count\"] >= 75].shape[0])\n",
    "print(\"Classes with 100 recordings: \", birds_df[birds_df[\"XC Recordings Count\"] >= 100].shape[0])\n",
    "# Also print out the general statistics.\n",
    "birds_df[\"XC Recordings Count\"].describe()"
   ]
  },
  {
   "cell_type": "code",
   "execution_count": 15,
   "metadata": {},
   "outputs": [
    {
     "data": {
      "text/plain": [
       "106"
      ]
     },
     "execution_count": 15,
     "metadata": {},
     "output_type": "execute_result"
    }
   ],
   "source": [
    "# We will filter out the species that have less than 75 recordings.\n",
    "birds_df = birds_df[birds_df[\"XC Recordings Count\"] >= 75]\n",
    "birds_df.shape[0]"
   ]
  },
  {
   "cell_type": "code",
   "execution_count": 17,
   "metadata": {},
   "outputs": [],
   "source": [
    "# Add index values to the dataframe.\n",
    "birds_df[\"Index\"] = range(0, birds_df.shape[0])\n",
    "# Save the dataframe to a CSV file, with a new order of the columns for better readability.\n",
    "birds_df = birds_df[[\"Index\", \"Class ID\", \"Images Count\", \"XC Recordings Count\", \n",
    "                     \"Species Name\", \"XC Species Name\"]]\n",
    "# Sort by Class ID\n",
    "birds_df = birds_df.sort_values(by=\"Class ID\")\n",
    "birds_df.to_csv(\"chosen_classes_data_stats.csv\", index=False)"
   ]
  }
 ],
 "metadata": {
  "kernelspec": {
   "display_name": "ECE421",
   "language": "python",
   "name": "python3"
  },
  "language_info": {
   "codemirror_mode": {
    "name": "ipython",
    "version": 3
   },
   "file_extension": ".py",
   "mimetype": "text/x-python",
   "name": "python",
   "nbconvert_exporter": "python",
   "pygments_lexer": "ipython3",
   "version": "3.10.13"
  }
 },
 "nbformat": 4,
 "nbformat_minor": 2
}
